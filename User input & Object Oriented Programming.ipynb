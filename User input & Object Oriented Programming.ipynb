{
 "cells": [
  {
   "cell_type": "markdown",
   "id": "b2aa3798",
   "metadata": {},
   "source": [
    "# Input from user"
   ]
  },
  {
   "cell_type": "code",
   "execution_count": 1,
   "id": "4a2ff52d",
   "metadata": {},
   "outputs": [
    {
     "name": "stdout",
     "output_type": "stream",
     "text": [
      "Enter your nameAKSHAY\n",
      "Entereed name AKSHAY\n"
     ]
    }
   ],
   "source": [
    "# it is used to take input string from the user\n",
    "name=input(\"Enter your name\")\n",
    "print(\"Entereed name\",name)"
   ]
  },
  {
   "cell_type": "code",
   "execution_count": 2,
   "id": "07c368c8",
   "metadata": {},
   "outputs": [
    {
     "name": "stdout",
     "output_type": "stream",
     "text": [
      "Enter maths score  55\n",
      "Enter science score  65\n",
      "Your total is   120\n"
     ]
    }
   ],
   "source": [
    "#TO enter only integer and string\n",
    "maths=int(input(\"Enter maths score  \"))\n",
    "science=int(input(\"Enter science score  \"))\n",
    "total=maths+science\n",
    "print(\"Your total is  \",total)"
   ]
  },
  {
   "cell_type": "code",
   "execution_count": 3,
   "id": "ad1f4d32",
   "metadata": {},
   "outputs": [
    {
     "name": "stdout",
     "output_type": "stream",
     "text": [
      "Enter your nameAkshay\n",
      "Entered name Akshay\n"
     ]
    }
   ],
   "source": [
    "#TO check only letters\n",
    "name=input(\"Enter your name\")\n",
    "if name.isalpha():                           #isalpha() means now it accepts only alpha character\n",
    "    print(\"Entered name\",name)\n",
    "else:\n",
    "    print(\"Please enter alpha character\")                  # only alpha character is accepted otherwise it goes to else part"
   ]
  },
  {
   "cell_type": "markdown",
   "id": "7f423f6f",
   "metadata": {},
   "source": [
    "# Error and Exception handling(Try and Except)\n",
    ".It is used when your running varous lines of code and you don't know where is the error,so to fetch where is the error generated it is used.This help in to know where is the error exactly occured. "
   ]
  },
  {
   "cell_type": "code",
   "execution_count": 4,
   "id": "c7c6dc47",
   "metadata": {},
   "outputs": [
    {
     "name": "stdout",
     "output_type": "stream",
     "text": [
      "you are adding integer to string\n"
     ]
    }
   ],
   "source": [
    "#program- to add marks1+marks2\n",
    "marks1= 50\n",
    "subject='Science'\n",
    "marks2= 95\n",
    "try:\n",
    "    total=marks1+subject                    #creating an error\n",
    "except:\n",
    "    print('you are adding integer to string')            #proving exception for error so to know what is the error\n",
    "else:\n",
    "    print(\"Total marks=\", total)\n",
    "#Error reflect because we are adding interger to string"
   ]
  },
  {
   "cell_type": "code",
   "execution_count": 5,
   "id": "e8cc6101",
   "metadata": {},
   "outputs": [
    {
     "name": "stdout",
     "output_type": "stream",
     "text": [
      "Total marks= 145\n"
     ]
    }
   ],
   "source": [
    "# Now program with no error\n",
    "marks1= 50\n",
    "subject='Science'\n",
    "marks2= 95\n",
    "try:\n",
    "    total=marks1+marks2                    \n",
    "except:\n",
    "    print('you are adding integer to string')            #proving exception for error so to know what is the error\n",
    "else:\n",
    "    print(\"Total marks=\", total)             # total marks reflected"
   ]
  },
  {
   "cell_type": "markdown",
   "id": "a97be86c",
   "metadata": {},
   "source": [
    "# Finally:block\n",
    ".It is free from error and tryor except block.\n",
    ".It execues all the time\n",
    ".It help to know that program is not closing in between.\n",
    ".It also close the object and clean up the resources.\n"
   ]
  },
  {
   "cell_type": "code",
   "execution_count": 6,
   "id": "c7413b9d",
   "metadata": {},
   "outputs": [
    {
     "name": "stdout",
     "output_type": "stream",
     "text": [
      "Total marks= 145\n",
      "In any case this block will execute\n"
     ]
    }
   ],
   "source": [
    "marks1= 50\n",
    "subject='Science'\n",
    "marks2= 95\n",
    "try:\n",
    "    total=marks1+marks2                    \n",
    "except:\n",
    "    print('you are adding integer to string')            #proving exception for error so to know what is the error\n",
    "else:\n",
    "    print(\"Total marks=\", total) \n",
    "finally:\n",
    "    print('In any case this block will execute')         # Finally blocks runs all the time."
   ]
  },
  {
   "cell_type": "markdown",
   "id": "e9e61bd3",
   "metadata": {},
   "source": [
    "# Forcing(int,str,etc)\n",
    ".It is when you want other to enter with your choice means if want to them add integer, string, etc."
   ]
  },
  {
   "cell_type": "code",
   "execution_count": 12,
   "id": "5caf28e8",
   "metadata": {},
   "outputs": [
    {
     "data": {
      "text/plain": [
       "10"
      ]
     },
     "execution_count": 12,
     "metadata": {},
     "output_type": "execute_result"
    }
   ],
   "source": [
    "val=9784028884\n",
    "len(str(val))"
   ]
  },
  {
   "cell_type": "code",
   "execution_count": 18,
   "id": "eec24274",
   "metadata": {},
   "outputs": [
    {
     "ename": "IndentationError",
     "evalue": "unexpected indent (826746144.py, line 6)",
     "output_type": "error",
     "traceback": [
      "\u001b[1;36m  Input \u001b[1;32mIn [18]\u001b[1;36m\u001b[0m\n\u001b[1;33m    if len(str(val))!=10:\u001b[0m\n\u001b[1;37m    ^\u001b[0m\n\u001b[1;31mIndentationError\u001b[0m\u001b[1;31m:\u001b[0m unexpected indent\n"
     ]
    }
   ],
   "source": [
    "def mob_num():\n",
    "    while True:                              # True is for atleast one condition must be true.\n",
    "        try:\n",
    "           val=int(input(\"Plaese enter Mobile Number\"))\n",
    "        \n",
    "            if len(str(val))!=10:\n",
    "                print('Please enter valid mobile number')\n",
    "                continue\n",
    "            else:\n",
    "                print('Thanks')\n",
    "        except:   \n",
    "            print('Please enter valid integer')"
   ]
  },
  {
   "cell_type": "code",
   "execution_count": 16,
   "id": "c8c365ab",
   "metadata": {},
   "outputs": [
    {
     "name": "stdout",
     "output_type": "stream",
     "text": [
      "Plaese enter Mobile Numberllllllllllllllll\n",
      "Look a like you don't enter integer\n",
      "Plaese enter Mobile Number7014236136\n",
      "Thanks\n"
     ]
    }
   ],
   "source": [
    "mob_num()"
   ]
  },
  {
   "cell_type": "markdown",
   "id": "16d75194",
   "metadata": {},
   "source": [
    "# Object Oriented Programming(OOP)\n",
    ".It is derived in:-\n",
    "1. Class 2. Instance 3. Method 4. Object 5. Argument\n",
    ". Class-used to keep related things together.\n",
    ".__init__-it is to initialise.\n",
    ". Self-used to bring all details.\n",
    ". Method-it is the function but define inside the class that's why called Method."
   ]
  },
  {
   "cell_type": "code",
   "execution_count": 6,
   "id": "17005031",
   "metadata": {},
   "outputs": [
    {
     "name": "stdout",
     "output_type": "stream",
     "text": [
      "Enter your Name=AKSHAY SHARMA\n",
      "Enter Last Name=SHARMA\n",
      "Enter you City=Jaipur\n",
      "Enter User ID=AK\n",
      "Enter Password=SH\n",
      "Enter phone number=09784028884\n"
     ]
    }
   ],
   "source": [
    "class Account:                          # Creating Class\n",
    "    def __init__(self,name=input('Enter your Name='),\n",
    "                 last_name=input('Enter Last Name='),\n",
    "                      city=input('Enter you City='),\n",
    "                   user_id=input('Enter User ID='),\n",
    "                  password=input('Enter Password='),\n",
    "                     phone=input('Enter phone number=')):                      # Atributes & Arguments\n",
    "        self.name          = name                                            # data initialization\n",
    "        self.last_name     = last_name\n",
    "        self.city          = city\n",
    "        self.user_id       = user_id\n",
    "        self.password      = password\n",
    "        self.phone         = phone\n",
    "        \n",
    "    def login(self):                                                          # Method as it define in the class  \n",
    "        while True:\n",
    "            signin=input('E-mail-')\n",
    "            password=input('Password-')\n",
    "            if signin==self.user_id and password==self.password:\n",
    "                print('Succesfuly Logged In')\n",
    "                break\n",
    "            else:\n",
    "                print('User ID or Pasword invalid')\n",
    "                continue"
   ]
  },
  {
   "cell_type": "code",
   "execution_count": 9,
   "id": "ea582b20",
   "metadata": {},
   "outputs": [],
   "source": [
    "bank=Account()                                 # bank is a object here we creating object for class and class=Account"
   ]
  },
  {
   "cell_type": "code",
   "execution_count": 12,
   "id": "a4ab22f9",
   "metadata": {},
   "outputs": [
    {
     "name": "stdout",
     "output_type": "stream",
     "text": [
      "E-mail-AK\n",
      "Password-SH\n",
      "Succesfuly Logged In\n"
     ]
    }
   ],
   "source": [
    "bank.login()                                  # calling method"
   ]
  },
  {
   "cell_type": "markdown",
   "id": "62146849",
   "metadata": {},
   "source": [
    "## Inheritance\n",
    ".It means creating a new version of class from old one and make more updates in that which was not in old one.\n",
    ".It carries the all details and info of old one."
   ]
  },
  {
   "cell_type": "code",
   "execution_count": 31,
   "id": "e38f84fd",
   "metadata": {},
   "outputs": [],
   "source": [
    "class User_Account(Account):                 #User_account is inherit class of Account.\n",
    "    \n",
    "    def __init__(self,acc_number,balance, *args):\n",
    "        super (User_Account,self).__init__(*args)       # Super is used merge old class with new class\n",
    "        self.acc_number=acc_number\n",
    "        self.balance=balance\n",
    "        \n",
    "    def User_details(self):                    # Method\n",
    "        while True:\n",
    "            account=int(input('Enter your Acc Number='))\n",
    "            if account==self.acc_number:\n",
    "                print('Name-',self.name)\n",
    "                print('Acc number-',self.acc_number)\n",
    "                print('Your balance-',self.balance)\n",
    "                break\n",
    "            else:\n",
    "                print('Acc number is not Valid')\n",
    "                continue\n",
    "                \n",
    "    def deposit(self):\n",
    "        print('Your previous balance-',self.balance)\n",
    "        add_cash=int(input('Depsoit Cash-'))\n",
    "        self.balance+=add_cash\n",
    "        print('\\n BOB Bank: Rs ',add_cash,'Withdraw from your account- ',self.acc_number,'and Your current balance is ',self.balance)\n",
    "        \n",
    "    def transfer(self):\n",
    "        print('Your previous balance is - ',self.balance)\n",
    "        withdraw=int(input('Money to transfer- '))\n",
    "        \n",
    "        if withdraw<=self.balance:\n",
    "            self.balance=withdraw\n",
    "            print('\\n BOB Bank: Rs ',withdraw,'Withdraw from your account- ',self.acc_number,'and Your current balance is ',self.balance)\n",
    "        else:\n",
    "            print('\\n Alert: Insufficient Fund')"
   ]
  },
  {
   "cell_type": "code",
   "execution_count": 32,
   "id": "2b342d28",
   "metadata": {},
   "outputs": [],
   "source": [
    "bank_details=User_Account(861,1000)"
   ]
  },
  {
   "cell_type": "code",
   "execution_count": 33,
   "id": "6b8e8f0a",
   "metadata": {},
   "outputs": [
    {
     "name": "stdout",
     "output_type": "stream",
     "text": [
      "E-mail-AK\n",
      "Password-SH\n",
      "Succesfuly Logged In\n"
     ]
    }
   ],
   "source": [
    "bank_details.login()"
   ]
  },
  {
   "cell_type": "code",
   "execution_count": 34,
   "id": "0f79fcaa",
   "metadata": {},
   "outputs": [
    {
     "name": "stdout",
     "output_type": "stream",
     "text": [
      "Enter your Acc Number=861\n",
      "Name- AKSHAY SHARMA\n",
      "Acc number- 861\n",
      "Your balance- 1000\n"
     ]
    }
   ],
   "source": [
    "bank_details.User_details()"
   ]
  },
  {
   "cell_type": "code",
   "execution_count": null,
   "id": "11f22699",
   "metadata": {},
   "outputs": [],
   "source": [
    "bank_details.deposit()"
   ]
  },
  {
   "cell_type": "code",
   "execution_count": 39,
   "id": "cd20e1b8",
   "metadata": {},
   "outputs": [
    {
     "name": "stdout",
     "output_type": "stream",
     "text": [
      "Your previous balance is -  7000\n",
      "Money to transfer- 5000\n",
      "\n",
      " BOB Bank: Rs  5000 Withdraw from your account-  861 and Your current balance is  5000\n"
     ]
    }
   ],
   "source": [
    "bank_details.transfer()"
   ]
  },
  {
   "cell_type": "markdown",
   "id": "b2df961e",
   "metadata": {},
   "source": [
    "# Encapsulation\n",
    ".It is used to extend a class which consist on wraping a object with second one."
   ]
  },
  {
   "cell_type": "code",
   "execution_count": 1,
   "id": "175f60a4",
   "metadata": {},
   "outputs": [],
   "source": [
    "class Tyres:\n",
    "    def __init__(self,brand,bias,pressure):\n",
    "        \n",
    "        self.brand=brand\n",
    "        self.bias=bias\n",
    "        self.pressure=pressure\n",
    "    \n",
    "    def __str__(self):\n",
    "        return ('tyres: \\n \\tbrand: '+self.brand + '\\n \\tbelted bias:'+ str(self.bias) + \"\\n \\tpressure:\" +str(self.pressure))\n",
    "class Engine:\n",
    "    def __init__(self,fuel,capacity):\n",
    "        \n",
    "        self.fuel=fuel\n",
    "        self.capacity=capacity\n",
    "        \n",
    "    \n",
    "    def __str__(self):\n",
    "        return ('Engine: \\n \\tfuel: '+ self.fuel + '\\n \\tcapacity:'+ str(self.capacity) )\n",
    "class Body:\n",
    "    def __init__(self,size):\n",
    "        \n",
    "        self.size=size\n",
    "        \n",
    "    \n",
    "    def __str__(self):\n",
    "        return ('Body: \\n size: '+self.size)\n",
    "class Car:\n",
    "    def __init__(self,tyres,engine,Body):\n",
    "        \n",
    "        self.tyres=tyres\n",
    "        self.engine=engine\n",
    "        self.body=Body\n",
    "    \n",
    "    def __str__(self):\n",
    "        return (str(self.tyres) + '\\n' + str(self.engine) + '\\n' + str(self.body))"
   ]
  },
  {
   "cell_type": "code",
   "execution_count": 2,
   "id": "293a8e4b",
   "metadata": {},
   "outputs": [],
   "source": [
    "t=Tyres(\"Bridgestone\",True,34)\n",
    "e=Engine(\"Diesel\",2.2)\n",
    "b=Body('SUV')"
   ]
  },
  {
   "cell_type": "code",
   "execution_count": 3,
   "id": "73afd92a",
   "metadata": {},
   "outputs": [],
   "source": [
    "c=Car(t,e,b)"
   ]
  },
  {
   "cell_type": "code",
   "execution_count": 4,
   "id": "9d13e208",
   "metadata": {},
   "outputs": [
    {
     "name": "stdout",
     "output_type": "stream",
     "text": [
      "tyres: \n",
      " \tbrand: Bridgestone\n",
      " \tbelted bias:True\n",
      " \tpressure:34\n",
      "Engine: \n",
      " \tfuel: Diesel\n",
      " \tcapacity:2.2\n",
      "Body: \n",
      " size: SUV\n"
     ]
    }
   ],
   "source": [
    "print(c)"
   ]
  },
  {
   "cell_type": "code",
   "execution_count": null,
   "id": "849f324b",
   "metadata": {},
   "outputs": [],
   "source": []
  }
 ],
 "metadata": {
  "kernelspec": {
   "display_name": "Python 3 (ipykernel)",
   "language": "python",
   "name": "python3"
  },
  "language_info": {
   "codemirror_mode": {
    "name": "ipython",
    "version": 3
   },
   "file_extension": ".py",
   "mimetype": "text/x-python",
   "name": "python",
   "nbconvert_exporter": "python",
   "pygments_lexer": "ipython3",
   "version": "3.9.12"
  }
 },
 "nbformat": 4,
 "nbformat_minor": 5
}
