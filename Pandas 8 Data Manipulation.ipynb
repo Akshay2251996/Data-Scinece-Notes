{
 "cells": [
  {
   "cell_type": "markdown",
   "id": "c1479619",
   "metadata": {},
   "source": [
    "# Dataframe Manipulation"
   ]
  },
  {
   "cell_type": "code",
   "execution_count": 1,
   "id": "07d99341",
   "metadata": {},
   "outputs": [],
   "source": [
    "import pandas as pd\n",
    "import numpy as np\n",
    "\n",
    "import warnings\n",
    "warnings.filterwarnings('ignore')"
   ]
  },
  {
   "cell_type": "code",
   "execution_count": 4,
   "id": "6187e709",
   "metadata": {},
   "outputs": [
    {
     "name": "stdout",
     "output_type": "stream",
     "text": [
      "        Age  Height  Weight\n",
      "raj      25      66     140\n",
      "pandey   42      70     148\n",
      "sirni    30      62     145\n",
      "sunil    35      68     160\n",
      "ashok    25      62     152\n"
     ]
    }
   ],
   "source": [
    "# creating data frame\n",
    "mat_data=np.matrix('25,66,140;42,70,148;30,62,145;35,68,160;25,62,152')\n",
    "row_labels=['raj','pandey','sirni','sunil','ashok']\n",
    "column_headings=['Age','Height','Weight']\n",
    "\n",
    "df=pd.DataFrame(data=mat_data,index=row_labels,columns=column_headings)\n",
    "print(df)"
   ]
  },
  {
   "cell_type": "code",
   "execution_count": 5,
   "id": "5a2c3313",
   "metadata": {},
   "outputs": [
    {
     "name": "stdout",
     "output_type": "stream",
     "text": [
      "raj       66\n",
      "pandey    70\n",
      "sirni     62\n",
      "sunil     68\n",
      "ashok     62\n",
      "Name: Height, dtype: int32\n"
     ]
    }
   ],
   "source": [
    "print(df['Height'])   # to print particular column only"
   ]
  },
  {
   "cell_type": "code",
   "execution_count": 6,
   "id": "e9e92867",
   "metadata": {},
   "outputs": [
    {
     "name": "stdout",
     "output_type": "stream",
     "text": [
      "        Height  Weight\n",
      "raj         66     140\n",
      "pandey      70     148\n",
      "sirni       62     145\n",
      "sunil       68     160\n",
      "ashok       62     152\n"
     ]
    }
   ],
   "source": [
    "print(df[['Height','Weight']])"
   ]
  },
  {
   "cell_type": "code",
   "execution_count": 7,
   "id": "72bbf99a",
   "metadata": {},
   "outputs": [
    {
     "name": "stdout",
     "output_type": "stream",
     "text": [
      "        Height  Weight\n",
      "raj         66     140\n",
      "pandey      70     148\n",
      "sirni       62     145\n",
      "sunil       68     160\n",
      "ashok       62     152\n"
     ]
    }
   ],
   "source": [
    "only_ht_wt=df[['Height','Weight']]\n",
    "print(only_ht_wt)     # assigning it to new one"
   ]
  },
  {
   "cell_type": "code",
   "execution_count": 8,
   "id": "e03ed37c",
   "metadata": {},
   "outputs": [
    {
     "name": "stdout",
     "output_type": "stream",
     "text": [
      "raj       25\n",
      "pandey    42\n",
      "sirni     30\n",
      "sunil     35\n",
      "ashok     25\n",
      "Name: Age, dtype: int32\n"
     ]
    }
   ],
   "source": [
    "print(df.Age)   #access only data at a time"
   ]
  },
  {
   "cell_type": "markdown",
   "id": "b686d320",
   "metadata": {},
   "source": [
    "### Slicing particular element"
   ]
  },
  {
   "cell_type": "code",
   "execution_count": 9,
   "id": "f3d79a9f",
   "metadata": {},
   "outputs": [
    {
     "data": {
      "text/plain": [
       "Age        25\n",
       "Height     66\n",
       "Weight    140\n",
       "Name: raj, dtype: int32"
      ]
     },
     "execution_count": 9,
     "metadata": {},
     "output_type": "execute_result"
    }
   ],
   "source": [
    "df.loc['raj']    #.loc for slicing data by index name"
   ]
  },
  {
   "cell_type": "code",
   "execution_count": 10,
   "id": "cb09b824",
   "metadata": {},
   "outputs": [
    {
     "data": {
      "text/plain": [
       "Age        25\n",
       "Height     66\n",
       "Weight    140\n",
       "Name: raj, dtype: int32"
      ]
     },
     "execution_count": 10,
     "metadata": {},
     "output_type": "execute_result"
    }
   ],
   "source": [
    "df.iloc[0]       #.iloc for slicing data by index postion"
   ]
  },
  {
   "cell_type": "code",
   "execution_count": 11,
   "id": "5efe0980",
   "metadata": {},
   "outputs": [
    {
     "name": "stdout",
     "output_type": "stream",
     "text": [
      "70\n"
     ]
    }
   ],
   "source": [
    "print(df.loc['pandey','Height'])   # selecting data by giving row and column"
   ]
  },
  {
   "cell_type": "code",
   "execution_count": 13,
   "id": "8507f4a4",
   "metadata": {},
   "outputs": [
    {
     "name": "stdout",
     "output_type": "stream",
     "text": [
      "Height     62\n",
      "Weight    152\n",
      "Name: ashok, dtype: int32\n"
     ]
    }
   ],
   "source": [
    "print(df.loc['ashok',['Height','Weight']])   #by row and multiple columns"
   ]
  },
  {
   "cell_type": "code",
   "execution_count": 17,
   "id": "39e7dfa4",
   "metadata": {},
   "outputs": [
    {
     "name": "stdout",
     "output_type": "stream",
     "text": [
      "       Height  Weight\n",
      "ashok      62     152\n",
      "sirni      62     145\n"
     ]
    }
   ],
   "source": [
    "print(df.loc[['ashok','sirni'],['Height','Weight']])  #by multiple rows and columns"
   ]
  },
  {
   "cell_type": "markdown",
   "id": "e2f9cb9a",
   "metadata": {},
   "source": [
    "### Select data on conditions"
   ]
  },
  {
   "cell_type": "code",
   "execution_count": 18,
   "id": "d365fdeb",
   "metadata": {},
   "outputs": [
    {
     "data": {
      "text/html": [
       "<div>\n",
       "<style scoped>\n",
       "    .dataframe tbody tr th:only-of-type {\n",
       "        vertical-align: middle;\n",
       "    }\n",
       "\n",
       "    .dataframe tbody tr th {\n",
       "        vertical-align: top;\n",
       "    }\n",
       "\n",
       "    .dataframe thead th {\n",
       "        text-align: right;\n",
       "    }\n",
       "</style>\n",
       "<table border=\"1\" class=\"dataframe\">\n",
       "  <thead>\n",
       "    <tr style=\"text-align: right;\">\n",
       "      <th></th>\n",
       "      <th>Age</th>\n",
       "      <th>Height</th>\n",
       "      <th>Weight</th>\n",
       "    </tr>\n",
       "  </thead>\n",
       "  <tbody>\n",
       "    <tr>\n",
       "      <th>raj</th>\n",
       "      <td>25</td>\n",
       "      <td>66</td>\n",
       "      <td>140</td>\n",
       "    </tr>\n",
       "    <tr>\n",
       "      <th>pandey</th>\n",
       "      <td>42</td>\n",
       "      <td>70</td>\n",
       "      <td>148</td>\n",
       "    </tr>\n",
       "    <tr>\n",
       "      <th>sirni</th>\n",
       "      <td>30</td>\n",
       "      <td>62</td>\n",
       "      <td>145</td>\n",
       "    </tr>\n",
       "    <tr>\n",
       "      <th>sunil</th>\n",
       "      <td>35</td>\n",
       "      <td>68</td>\n",
       "      <td>160</td>\n",
       "    </tr>\n",
       "    <tr>\n",
       "      <th>ashok</th>\n",
       "      <td>25</td>\n",
       "      <td>62</td>\n",
       "      <td>152</td>\n",
       "    </tr>\n",
       "  </tbody>\n",
       "</table>\n",
       "</div>"
      ],
      "text/plain": [
       "        Age  Height  Weight\n",
       "raj      25      66     140\n",
       "pandey   42      70     148\n",
       "sirni    30      62     145\n",
       "sunil    35      68     160\n",
       "ashok    25      62     152"
      ]
     },
     "execution_count": 18,
     "metadata": {},
     "output_type": "execute_result"
    }
   ],
   "source": [
    "df"
   ]
  },
  {
   "cell_type": "code",
   "execution_count": 21,
   "id": "ac8b1912",
   "metadata": {},
   "outputs": [
    {
     "name": "stdout",
     "output_type": "stream",
     "text": [
      "        Age  Height  Weight\n",
      "raj      25      66     140\n",
      "pandey   42      70     148\n",
      "sunil    35      68     160\n"
     ]
    }
   ],
   "source": [
    "print(df[df['Height']>65])    #only greater tehn 65 heihgt data will be print"
   ]
  },
  {
   "cell_type": "code",
   "execution_count": 22,
   "id": "e6820f47",
   "metadata": {},
   "outputs": [],
   "source": [
    "b1=df['Height']>65\n",
    "b2=df['Weight']>145   # assigning condtn to new one"
   ]
  },
  {
   "cell_type": "code",
   "execution_count": 23,
   "id": "12e511c0",
   "metadata": {},
   "outputs": [
    {
     "name": "stdout",
     "output_type": "stream",
     "text": [
      "        Age  Height  Weight\n",
      "pandey   42      70     148\n",
      "sunil    35      68     160\n"
     ]
    }
   ],
   "source": [
    "print(df[(b1) & (b2)])     # data with applied condtn will print"
   ]
  },
  {
   "cell_type": "code",
   "execution_count": 27,
   "id": "8d30d35a",
   "metadata": {},
   "outputs": [
    {
     "name": "stdout",
     "output_type": "stream",
     "text": [
      "        Age  Weight\n",
      "raj      25     140\n",
      "pandey   42     148\n",
      "sunil    35     160\n"
     ]
    }
   ],
   "source": [
    "print(df[b1][['Age','Weight']])  # data who with b1 condtn will be displayed"
   ]
  },
  {
   "cell_type": "code",
   "execution_count": 28,
   "id": "dc13570a",
   "metadata": {},
   "outputs": [
    {
     "name": "stdout",
     "output_type": "stream",
     "text": [
      "        Age  Weight\n",
      "raj      25     140\n",
      "pandey   42     148\n",
      "sunil    35     160\n"
     ]
    }
   ],
   "source": [
    "selected_man=df[b1][['Age','Weight']]\n",
    "print(selected_man)"
   ]
  },
  {
   "cell_type": "code",
   "execution_count": 29,
   "id": "ebac340d",
   "metadata": {},
   "outputs": [
    {
     "name": "stdout",
     "output_type": "stream",
     "text": [
      "    index  Age  Height  Weight\n",
      "0     raj   25      66     140\n",
      "1  pandey   42      70     148\n",
      "2   sirni   30      62     145\n",
      "3   sunil   35      68     160\n",
      "4   ashok   25      62     152\n"
     ]
    }
   ],
   "source": [
    "print(df.reset_index())    # it will reset index"
   ]
  },
  {
   "cell_type": "code",
   "execution_count": 31,
   "id": "8f7b944f",
   "metadata": {},
   "outputs": [
    {
     "name": "stdout",
     "output_type": "stream",
     "text": [
      "   Age  Height  Weight\n",
      "0   25      66     140\n",
      "1   42      70     148\n",
      "2   30      62     145\n",
      "3   35      68     160\n",
      "4   25      62     152\n"
     ]
    }
   ],
   "source": [
    "print(df.reset_index(drop=True))   # it will remove reset condtn"
   ]
  },
  {
   "cell_type": "code",
   "execution_count": 32,
   "id": "48a27f89",
   "metadata": {},
   "outputs": [
    {
     "name": "stdout",
     "output_type": "stream",
     "text": [
      "        Age  Height  Weight  Prep\n",
      "raj      25      66     140  Play\n",
      "pandey   42      70     148  Hard\n",
      "sirni    30      62     145  Live\n",
      "sunil    35      68     160  Hard\n",
      "ashok    25      62     152   Win\n"
     ]
    }
   ],
   "source": [
    "#adding new column\n",
    "df['Prep']=\"Play Hard Live Hard Win\".split()\n",
    "print(df)"
   ]
  },
  {
   "cell_type": "code",
   "execution_count": 33,
   "id": "ac7544e3",
   "metadata": {},
   "outputs": [
    {
     "name": "stdout",
     "output_type": "stream",
     "text": [
      "      Age  Height  Weight\n",
      "Prep                     \n",
      "Play   25      66     140\n",
      "Hard   42      70     148\n",
      "Live   30      62     145\n",
      "Hard   35      68     160\n",
      "Win    25      62     152\n"
     ]
    }
   ],
   "source": [
    "print(df.set_index('Prep'))  # set_index used to chaning coulmn to index "
   ]
  },
  {
   "cell_type": "code",
   "execution_count": null,
   "id": "adedd34a",
   "metadata": {},
   "outputs": [],
   "source": []
  }
 ],
 "metadata": {
  "kernelspec": {
   "display_name": "Python 3 (ipykernel)",
   "language": "python",
   "name": "python3"
  },
  "language_info": {
   "codemirror_mode": {
    "name": "ipython",
    "version": 3
   },
   "file_extension": ".py",
   "mimetype": "text/x-python",
   "name": "python",
   "nbconvert_exporter": "python",
   "pygments_lexer": "ipython3",
   "version": "3.9.12"
  }
 },
 "nbformat": 4,
 "nbformat_minor": 5
}
