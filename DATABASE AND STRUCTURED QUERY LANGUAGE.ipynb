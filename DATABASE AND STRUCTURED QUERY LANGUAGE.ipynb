{
 "cells": [
  {
   "cell_type": "markdown",
   "id": "15e39cca",
   "metadata": {},
   "source": [
    "# DATABASE\n",
    ".It is the collection of tables in which each table consist of details in it.\n",
    ".Different types:-SQL, Maria db, Mango db, cussandra, oracle, H-base."
   ]
  },
  {
   "cell_type": "markdown",
   "id": "9e3d08b9",
   "metadata": {},
   "source": [
    "# SQL(Structured Query Language)\n"
   ]
  },
  {
   "cell_type": "code",
   "execution_count": 2,
   "id": "61c5d1d7",
   "metadata": {},
   "outputs": [],
   "source": [
    "import sqlite3               # for sql\n",
    "# Creating database \"db=sqlite3.connect(\"databse_name.db\")\".\n",
    "db=sqlite3.connect(\"student_database.db\")"
   ]
  },
  {
   "cell_type": "code",
   "execution_count": 3,
   "id": "79eab859",
   "metadata": {},
   "outputs": [],
   "source": [
    "#(b) Declaring cursor.\n",
    "cursor=db.cursor()"
   ]
  },
  {
   "cell_type": "code",
   "execution_count": 6,
   "id": "a21ebb9c",
   "metadata": {},
   "outputs": [
    {
     "data": {
      "text/plain": [
       "<sqlite3.Cursor at 0x21d7c41ed50>"
      ]
     },
     "execution_count": 6,
     "metadata": {},
     "output_type": "execute_result"
    }
   ],
   "source": [
    "#(c) Create TABLE (PIMARY KEY is for eliminate duplicate entry and enter only unique one.)\n",
    "cursor.execute(\"CREATE TABLE student_data1(phone_number INT PRIMARY KEY, email_id TEXT, course_name TEXT, fee_paid INT)\")"
   ]
  },
  {
   "cell_type": "code",
   "execution_count": 7,
   "id": "df0ecad1",
   "metadata": {},
   "outputs": [
    {
     "name": "stdout",
     "output_type": "stream",
     "text": [
      "1  Record(s) Inserted\n"
     ]
    }
   ],
   "source": [
    "#(d) Insert into the table (we don't have autority for this)\n",
    "cursor.execute(\"INSERT INTO student_data1(phone_number, email_id, course_name, fee_paid) VALUES (9772018777, 'student1@gmail.com', 'Data Science', 100000)\")\n",
    "db.commit             #to save data permanently\n",
    "print(cursor.rowcount,\" Record(s) Inserted\")     #to count how many record inserted"
   ]
  },
  {
   "cell_type": "code",
   "execution_count": 8,
   "id": "5935d1e8",
   "metadata": {},
   "outputs": [
    {
     "name": "stdout",
     "output_type": "stream",
     "text": [
      "(9772018777, 'student1@gmail.com', 'Data Science', 100000)\n"
     ]
    }
   ],
   "source": [
    "#(e) Select query(how to fetch records from the table)\n",
    "results=cursor.execute(\"SELECT * FROM student_data1\")      # * for to select or see everthing you have in record\n",
    "for row in results:\n",
    "    print(row)"
   ]
  },
  {
   "cell_type": "code",
   "execution_count": 9,
   "id": "1ad6e27d",
   "metadata": {},
   "outputs": [
    {
     "name": "stdout",
     "output_type": "stream",
     "text": [
      "2  Record(s) Inserted\n"
     ]
    }
   ],
   "source": [
    "#(f) Multiple records insertion\n",
    "cursor.execute(\"INSERT INTO student_data1 VALUES (8504860430, 'student2@gmail.com', 'Engineering', 400000),(860430249, 'student3@gamil.com', 'Data Science', 120000)\")\n",
    "db.commit()\n",
    "print(cursor.rowcount,\" Record(s) Inserted\")"
   ]
  },
  {
   "cell_type": "code",
   "execution_count": 12,
   "id": "a8ee4321",
   "metadata": {},
   "outputs": [
    {
     "name": "stdout",
     "output_type": "stream",
     "text": [
      "10  Record(s) Inserted\n"
     ]
    }
   ],
   "source": [
    "#g=(g) Load data from file into the table(keep csv in same folder where jupyter is or provide link.File didn't load directly from github)\n",
    "with open('student_data1.csv','r') as file:\n",
    "    no_records = 0\n",
    "    for row in file:\n",
    "        cursor.execute(\"INSERT INTO student_data1 VALUES (?,?,?,?)\",row.split(\",\"))\n",
    "        db.commit()\n",
    "        no_records+=1\n",
    "print(no_records,\" Record(s) Inserted\")"
   ]
  },
  {
   "cell_type": "code",
   "execution_count": 13,
   "id": "c96e2405",
   "metadata": {},
   "outputs": [
    {
     "name": "stdout",
     "output_type": "stream",
     "text": [
      "(9772018777, 'student1@gmail.com', 'Data Science', 100000)\n",
      "(8504860430, 'student2@gmail.com', 'Engineering', 400000)\n",
      "(860430249, 'student3@gamil.com', 'Data Science', 120000)\n",
      "(8825365648, 'student4@gmail.com', 'Data science', 70000)\n",
      "(6358986545, 'student5@gmail.com', 'Data science', 70001)\n",
      "(2569784565, 'student6@gmail.com', 'Data science', 70002)\n",
      "(2355684664, 'student7@gmail.com', 'Data science', 70003)\n",
      "(8894523546, 'student8@gmail.com', 'Data science', 70004)\n",
      "(7885648623, 'student9@gmail.com', 'Engineering', 325000)\n",
      "(7985642644, 'student10@gmail.com', 'Engineering', 325001)\n",
      "(9985643212, 'student11@gmail.com', 'Engineering', 325002)\n",
      "(7458621356, 'student12@gmail.com', 'Engineering', 325003)\n",
      "(8865489523, 'student13@gmail.com', 'Engineering', 325004)\n"
     ]
    }
   ],
   "source": [
    "results=cursor.execute(\"SELECT * FROM student_data1\")      #Checking for records\n",
    "for row in results:\n",
    "    print(row)"
   ]
  },
  {
   "cell_type": "code",
   "execution_count": 15,
   "id": "dfdde6be",
   "metadata": {},
   "outputs": [
    {
     "name": "stdout",
     "output_type": "stream",
     "text": [
      "(9772018777, 'student1@gmail.com', 'Data Science', 100000)\n",
      "(860430249, 'student3@gamil.com', 'Data Science', 120000)\n"
     ]
    }
   ],
   "source": [
    "#(h) Search for particular record(WHERE clause)\n",
    "sql=(\"SELECT * FROM student_data1 WHERE course_name='Data Science'\")\n",
    "results=cursor.execute(sql)\n",
    "for row in results:\n",
    "    print(row)"
   ]
  },
  {
   "cell_type": "code",
   "execution_count": 17,
   "id": "1fbbda29",
   "metadata": {},
   "outputs": [],
   "source": [
    "#(i) Delete record\n",
    "sql=(\"DELETE FROM student_data1 WHERE phone_number=8865489523\")    # enter only unqiue record entry\n",
    "cursor.execute(sql)\n",
    "db.commit()"
   ]
  },
  {
   "cell_type": "code",
   "execution_count": 18,
   "id": "e6433511",
   "metadata": {},
   "outputs": [
    {
     "name": "stdout",
     "output_type": "stream",
     "text": [
      "(9772018777, 'student1@gmail.com', 'Data Science', 100000)\n",
      "(8504860430, 'student2@gmail.com', 'Engineering', 400000)\n",
      "(860430249, 'student3@gamil.com', 'Data Science', 120000)\n",
      "(8825365648, 'student4@gmail.com', 'Data science', 70000)\n",
      "(6358986545, 'student5@gmail.com', 'Data science', 70001)\n",
      "(2569784565, 'student6@gmail.com', 'Data science', 70002)\n",
      "(2355684664, 'student7@gmail.com', 'Data science', 70003)\n",
      "(8894523546, 'student8@gmail.com', 'Data science', 70004)\n",
      "(7885648623, 'student9@gmail.com', 'Engineering', 325000)\n",
      "(7985642644, 'student10@gmail.com', 'Engineering', 325001)\n",
      "(9985643212, 'student11@gmail.com', 'Engineering', 325002)\n",
      "(7458621356, 'student12@gmail.com', 'Engineering', 325003)\n"
     ]
    }
   ],
   "source": [
    "results=cursor.execute(\"SELECT * FROM student_data1\")      #Checking for record deleted\n",
    "for row in results:\n",
    "    print(row)"
   ]
  },
  {
   "cell_type": "code",
   "execution_count": 19,
   "id": "62ac49f2",
   "metadata": {},
   "outputs": [
    {
     "name": "stdout",
     "output_type": "stream",
     "text": [
      "(8825365648, 'student4@gmail.com', 'Data science', 70000)\n",
      "(6358986545, 'student5@gmail.com', 'Data science', 70001)\n",
      "(2569784565, 'student6@gmail.com', 'Data science', 70002)\n",
      "(2355684664, 'student7@gmail.com', 'Data science', 70003)\n",
      "(8894523546, 'student8@gmail.com', 'Data science', 70004)\n",
      "(9772018777, 'student1@gmail.com', 'Data Science', 100000)\n",
      "(860430249, 'student3@gamil.com', 'Data Science', 120000)\n",
      "(7885648623, 'student9@gmail.com', 'Engineering', 325000)\n",
      "(7985642644, 'student10@gmail.com', 'Engineering', 325001)\n",
      "(9985643212, 'student11@gmail.com', 'Engineering', 325002)\n",
      "(7458621356, 'student12@gmail.com', 'Engineering', 325003)\n",
      "(8504860430, 'student2@gmail.com', 'Engineering', 400000)\n"
     ]
    }
   ],
   "source": [
    "#(j) Order by (ascending or descending order)\n",
    "results=cursor.execute(\"SELECT * FROM student_data1 ORDER BY fee_paid\")      # records arranged in ascending order by default\n",
    "for row in results:\n",
    "    print(row)"
   ]
  },
  {
   "cell_type": "code",
   "execution_count": 20,
   "id": "97e27c0b",
   "metadata": {},
   "outputs": [
    {
     "name": "stdout",
     "output_type": "stream",
     "text": [
      "(8504860430, 'student2@gmail.com', 'Engineering', 400000)\n",
      "(7458621356, 'student12@gmail.com', 'Engineering', 325003)\n",
      "(9985643212, 'student11@gmail.com', 'Engineering', 325002)\n",
      "(7985642644, 'student10@gmail.com', 'Engineering', 325001)\n",
      "(7885648623, 'student9@gmail.com', 'Engineering', 325000)\n",
      "(860430249, 'student3@gamil.com', 'Data Science', 120000)\n",
      "(9772018777, 'student1@gmail.com', 'Data Science', 100000)\n",
      "(8894523546, 'student8@gmail.com', 'Data science', 70004)\n",
      "(2355684664, 'student7@gmail.com', 'Data science', 70003)\n",
      "(2569784565, 'student6@gmail.com', 'Data science', 70002)\n",
      "(6358986545, 'student5@gmail.com', 'Data science', 70001)\n",
      "(8825365648, 'student4@gmail.com', 'Data science', 70000)\n"
     ]
    }
   ],
   "source": [
    "results=cursor.execute(\"SELECT * FROM student_data1 ORDER BY fee_paid desc\")      #mention'desc' for descending order\n",
    "for row in results:\n",
    "    print(row)"
   ]
  },
  {
   "cell_type": "code",
   "execution_count": 23,
   "id": "f53839a5",
   "metadata": {},
   "outputs": [
    {
     "data": {
      "text/plain": [
       "<sqlite3.Cursor at 0x21d7c41ed50>"
      ]
     },
     "execution_count": 23,
     "metadata": {},
     "output_type": "execute_result"
    }
   ],
   "source": [
    "#(k) Update Table (single record update)\n",
    "sql=(\"UPDATE student_data1 SET course_name='Engineering' WHERE phone_number=9772018777\")\n",
    "cursor.execute(sql)\n"
   ]
  },
  {
   "cell_type": "code",
   "execution_count": 24,
   "id": "e7203017",
   "metadata": {},
   "outputs": [
    {
     "name": "stdout",
     "output_type": "stream",
     "text": [
      "(9772018777, 'student1@gmail.com', 'Engineering', 100000)\n",
      "(8504860430, 'student2@gmail.com', 'Engineering', 400000)\n",
      "(860430249, 'student3@gamil.com', 'Data Science', 120000)\n",
      "(8825365648, 'student4@gmail.com', 'Data science', 70000)\n",
      "(6358986545, 'student5@gmail.com', 'Data science', 70001)\n",
      "(2569784565, 'student6@gmail.com', 'Data science', 70002)\n",
      "(2355684664, 'student7@gmail.com', 'Data science', 70003)\n",
      "(8894523546, 'student8@gmail.com', 'Data science', 70004)\n",
      "(7885648623, 'student9@gmail.com', 'Engineering', 325000)\n",
      "(7985642644, 'student10@gmail.com', 'Engineering', 325001)\n",
      "(9985643212, 'student11@gmail.com', 'Engineering', 325002)\n",
      "(7458621356, 'student12@gmail.com', 'Engineering', 325003)\n"
     ]
    }
   ],
   "source": [
    "results=cursor.execute(\"SELECT * FROM student_data1\")      #Checking for record updated\n",
    "for row in results:\n",
    "    print(row)"
   ]
  },
  {
   "cell_type": "code",
   "execution_count": 28,
   "id": "fdf0d990",
   "metadata": {},
   "outputs": [
    {
     "name": "stdout",
     "output_type": "stream",
     "text": [
      "(860430249, 'student3@gamil.com', 120000)\n"
     ]
    }
   ],
   "source": [
    "#(l) Select particular column(Mulptiple conditions)\n",
    "sql=\"SELECT phone_number, email_id, fee_paid FROM student_data1 WHERE course_name='Data Science' AND fee_paid<=120000\"\n",
    "results=cursor.execute(sql)\n",
    "for row in results:\n",
    "    print(row)"
   ]
  },
  {
   "cell_type": "code",
   "execution_count": 31,
   "id": "3016204a",
   "metadata": {},
   "outputs": [
    {
     "data": {
      "text/plain": [
       "<sqlite3.Cursor at 0x21d7c41ed50>"
      ]
     },
     "execution_count": 31,
     "metadata": {},
     "output_type": "execute_result"
    }
   ],
   "source": [
    "#(m) Multiple records update (using 'IN')\n",
    "sql=\"UPDATE student_data1 SET fee_paid=130000 WHERE phone_number IN(9772018777,8504860430,860430249)\"\n",
    "cursor.execute(sql)\n"
   ]
  },
  {
   "cell_type": "code",
   "execution_count": 32,
   "id": "6a9d7932",
   "metadata": {},
   "outputs": [
    {
     "name": "stdout",
     "output_type": "stream",
     "text": [
      "(860430249, 130000)\n",
      "(8504860430, 130000)\n",
      "(9772018777, 130000)\n"
     ]
    }
   ],
   "source": [
    "# to verify\n",
    "results=cursor.execute(\"SELECT phone_number, fee_paid FROM student_data1 WHERE phone_number IN(9772018777,8504860430,860430249)\")\n",
    "for row in results:\n",
    "    print(row)"
   ]
  },
  {
   "cell_type": "code",
   "execution_count": 42,
   "id": "c596c1de",
   "metadata": {},
   "outputs": [],
   "source": [
    "#(n) Update records using BETWEEN\n",
    "sql=\"UPDATE student_data1 SET course_name='SQL' WHERE phone_number BETWEEN 9772018777 AND 6358986545\"\n",
    "cursor.execute(sql)\n",
    "# to verify\n",
    "results=cursor.execute(\"SELECT phone_number, course_name FROM student_data1 WHERE course_name='SQL'\")\n",
    "for row in results:\n",
    "    print(row)"
   ]
  },
  {
   "cell_type": "code",
   "execution_count": 43,
   "id": "1e932777",
   "metadata": {},
   "outputs": [
    {
     "name": "stdout",
     "output_type": "stream",
     "text": [
      "Minimum fees= (70000,)\n",
      "Maximum fees= (325003,)\n"
     ]
    }
   ],
   "source": [
    "#(o) Min or Max\n",
    "results=cursor.execute(\"SELECT MIN(fee_paid) FROM student_data1\")     # for minimum\n",
    "print(\"Minimum fees=\",results.fetchone())\n",
    "\n",
    "results=cursor.execute(\"SELECT MAX(fee_paid) FROM student_data1\")     # for maximum\n",
    "print(\"Maximum fees=\",results.fetchone())\n"
   ]
  },
  {
   "cell_type": "markdown",
   "id": "4fc80d11",
   "metadata": {},
   "source": [
    "# Subquery\n",
    "It is query within another query"
   ]
  },
  {
   "cell_type": "code",
   "execution_count": 44,
   "id": "202b4493",
   "metadata": {},
   "outputs": [
    {
     "data": {
      "text/plain": [
       "<sqlite3.Cursor at 0x21d7c41ed50>"
      ]
     },
     "execution_count": 44,
     "metadata": {},
     "output_type": "execute_result"
    }
   ],
   "source": [
    "# COURSE1 table created query1\n",
    "cursor.execute(\"CREATE TABLE course1(courseid INT PRIMARY KEY, coursename TEXT, duration INT)\")    #COURSE1 table created query1"
   ]
  },
  {
   "cell_type": "code",
   "execution_count": 48,
   "id": "ff9c8853",
   "metadata": {},
   "outputs": [
    {
     "data": {
      "text/plain": [
       "<sqlite3.Cursor at 0x21d7c41ed50>"
      ]
     },
     "execution_count": 48,
     "metadata": {},
     "output_type": "execute_result"
    }
   ],
   "source": [
    "# Student1 table created query2(foreign key is present in both queries and as equal as primary key)\n",
    "cursor.execute(\"CREATE TABLE student1(roll_no INT PRIMARY KEY,studentname TEXT,age INT,courseid INT,foreign key(courseid) references course1(courseid))\")"
   ]
  },
  {
   "cell_type": "code",
   "execution_count": 49,
   "id": "a1d6956e",
   "metadata": {},
   "outputs": [
    {
     "name": "stdout",
     "output_type": "stream",
     "text": [
      "3 Records Inserted\n"
     ]
    }
   ],
   "source": [
    "# Insert into the table (query1)\n",
    "cursor.execute(\"INSERT INTO course1 VALUES (78,'data science',12),(56,'python',4),(101,'sql',7)\")\n",
    "db.commit()\n",
    "print(cursor.rowcount,\"Records Inserted\")"
   ]
  },
  {
   "cell_type": "code",
   "execution_count": 50,
   "id": "e1a0e78f",
   "metadata": {},
   "outputs": [
    {
     "name": "stdout",
     "output_type": "stream",
     "text": [
      "4 Records Inserted\n"
     ]
    }
   ],
   "source": [
    "#query2\n",
    "cursor.execute(\"INSERT INTO student1 VALUES (1,'akki',25,78),(2,'arti',26,56),(3,'priya',24,78),(4,'bharti',23,56)\") \n",
    "db.commit()\n",
    "print(cursor.rowcount,\"Records Inserted\")"
   ]
  },
  {
   "cell_type": "code",
   "execution_count": 51,
   "id": "6897f16a",
   "metadata": {},
   "outputs": [
    {
     "name": "stdout",
     "output_type": "stream",
     "text": [
      "(78, 'data science', 12)\n",
      "(56, 'python', 4)\n",
      "(101, 'sql', 7)\n"
     ]
    }
   ],
   "source": [
    "#chcking data query1\n",
    "result=cursor.execute(\"SELECT * FROM course1\")\n",
    "for row in result:\n",
    "    print(row)"
   ]
  },
  {
   "cell_type": "code",
   "execution_count": 52,
   "id": "0639e15b",
   "metadata": {},
   "outputs": [
    {
     "name": "stdout",
     "output_type": "stream",
     "text": [
      "(1, 'akki', 25, 78)\n",
      "(2, 'arti', 26, 56)\n",
      "(3, 'priya', 24, 78)\n",
      "(4, 'bharti', 23, 56)\n"
     ]
    }
   ],
   "source": [
    "#chcking data query2\n",
    "result=cursor.execute(\"SELECT * FROM student1\")\n",
    "for row in result:\n",
    "    print(row)"
   ]
  },
  {
   "cell_type": "code",
   "execution_count": 54,
   "id": "846d4e1b",
   "metadata": {},
   "outputs": [
    {
     "data": {
      "text/plain": [
       "[(1, 'akki', 25, 78), (3, 'priya', 24, 78)]"
      ]
     },
     "execution_count": 54,
     "metadata": {},
     "output_type": "execute_result"
    }
   ],
   "source": [
    "# subquery\n",
    "results=cursor.execute(\"SELECT * FROM student1 WHERE courseid=(select courseid from course1 where coursename='data science')\")\n",
    "results.fetchall()"
   ]
  },
  {
   "cell_type": "code",
   "execution_count": 55,
   "id": "9f3e01b7",
   "metadata": {},
   "outputs": [
    {
     "data": {
      "text/plain": [
       "[(2, 'arti', 26, 56), (4, 'bharti', 23, 56)]"
      ]
     },
     "execution_count": 55,
     "metadata": {},
     "output_type": "execute_result"
    }
   ],
   "source": [
    "results=cursor.execute(\"SELECT * FROM student1 WHERE courseid=(select courseid from course1 where coursename='python')\")\n",
    "results.fetchall()"
   ]
  },
  {
   "cell_type": "markdown",
   "id": "e27196ac",
   "metadata": {},
   "source": [
    "# JOIN\n",
    "Different types of SQL JOIN,s:\n",
    "1. INNER (JOIN)-Return records that have matching values in both the tables.\n",
    "2. LEFT(OUTER) JOIN-Return all records from the left table and matching records from the right table.\n",
    "3. RIGHT(OUTER) JOIN-Return all records from the right table and matching records from the left table.\n",
    "4. FULL(OUTER) JOIN-Return all records where there is a match in either left or right table"
   ]
  },
  {
   "cell_type": "code",
   "execution_count": 65,
   "id": "bd7716ad",
   "metadata": {},
   "outputs": [
    {
     "data": {
      "text/plain": [
       "<sqlite3.Cursor at 0x21d7c41ed50>"
      ]
     },
     "execution_count": 65,
     "metadata": {},
     "output_type": "execute_result"
    }
   ],
   "source": [
    "sql=\"DROP TABLE stud_det\"     # it is used to remove the table which if it is already exist.\n",
    "cursor.execute(sql)"
   ]
  },
  {
   "cell_type": "code",
   "execution_count": 66,
   "id": "ed18e96d",
   "metadata": {},
   "outputs": [
    {
     "name": "stdout",
     "output_type": "stream",
     "text": [
      "20  Record(s) Inserted\n"
     ]
    }
   ],
   "source": [
    "# create table\n",
    "cursor.execute(\"CREATE TABLE stud_det(phone_number INT PRIMARY KEY, student_name TEXT, enrolled_date TEXT, marks INT)\")\n",
    "\n",
    "with open('Students_details.csv','r') as file:\n",
    "    no_records = 0\n",
    "    for row in file:\n",
    "        cursor.execute(\"INSERT INTO stud_det VALUES (?,?,?,?)\",row.split(\",\"))\n",
    "        db.commit()\n",
    "        no_records+=1\n",
    "print(no_records,\" Record(s) Inserted\") "
   ]
  },
  {
   "cell_type": "code",
   "execution_count": 67,
   "id": "0344b59f",
   "metadata": {},
   "outputs": [
    {
     "name": "stdout",
     "output_type": "stream",
     "text": [
      "(9988776604, 'Salah', '03-10-2020', 85)\n",
      "(9988776605, 'Heung-Son', '21-06-2020', 39)\n",
      "(9988776606, 'Ronaldo', '08-05-2020', 86)\n",
      "(9988776607, 'Kane', '11-05-2022', 57)\n",
      "(9988776608, 'Mane', '17-05-2022', 52)\n",
      "(6609998877, 'Vardy', '17-12-2020', 54)\n",
      "(6609998878, 'Jota', '06-11-2021', 45)\n",
      "(6609998879, 'Bruyne', '26-11-2020', 49)\n",
      "(6609998880, 'Zaha', '05-12-2020', 88)\n",
      "(6609998881, 'Sterling', '29-10-2020', 61)\n",
      "(9988776614, 'Toney', '31-03-2022', 71)\n",
      "(9988776615, 'Maddison', '10-03-2020', 44)\n",
      "(1687799866, 'Bowen', '14-02-2021', 96)\n",
      "(1687799867, 'Saka', '19-12-2022', 92)\n",
      "(1687799868, 'Watkins', '30-01-2021', 49)\n",
      "(1687799869, 'Mount', '16-09-2022', 48)\n",
      "(1687799870, 'Raphael', '15-05-2021', 50)\n",
      "(1687799871, 'Mahrez', '30-10-2021', 72)\n",
      "(9988776622, 'Pukki', '19-02-2021', 93)\n",
      "(9988776623, 'Fernandes', '01-03-2022', 94)\n"
     ]
    }
   ],
   "source": [
    "results=cursor.execute(\"SELECT * FROM stud_det\")    # to verify that records are inserted\n",
    "for row in results:\n",
    "    print(row)"
   ]
  },
  {
   "cell_type": "code",
   "execution_count": null,
   "id": "b67929f6",
   "metadata": {},
   "outputs": [],
   "source": [
    "# INNER JOIN\n",
    "sql=\"SELECT student_data.phone_number, stud_det.enrolled_date,stud_det.marks,stud_det.student_name FROM student_data INNER JOIN stud_det ON student_data.phone_number=stud_det.phone_number\"\n",
    "result=cursor.execute(sql)\n",
    "for row in results:\n",
    "    print(row)"
   ]
  },
  {
   "cell_type": "code",
   "execution_count": null,
   "id": "97138ef7",
   "metadata": {},
   "outputs": [],
   "source": [
    "# LEFT JOIN\n",
    "sql=\"SELECT student_data.phone_number, stud_det.enrolled_date,stud_det.marks,stud_det.student_name FROM student_data LEFT JOIN stud_det ON student_data.phone_number=stud_det.phone_number\"\n",
    "result=cursor.execute(sql)\n",
    "for row in results:\n",
    "    print(row) # RUN it"
   ]
  },
  {
   "cell_type": "code",
   "execution_count": null,
   "id": "b2c6615e",
   "metadata": {},
   "outputs": [],
   "source": [
    "#Right join and Full join is not working right now will be taken in progress soon."
   ]
  },
  {
   "cell_type": "markdown",
   "id": "f76c5c80",
   "metadata": {},
   "source": [
    "# Python and SQL (how to deal with python code)"
   ]
  },
  {
   "cell_type": "code",
   "execution_count": null,
   "id": "f7ccfc5d",
   "metadata": {},
   "outputs": [
    {
     "name": "stdout",
     "output_type": "stream",
     "text": [
      "Your mobile number 9988776607\n",
      "Phone number must be numeric\n"
     ]
    }
   ],
   "source": [
    "# lets check for student details\n",
    "while True:\n",
    "    \n",
    "    try:\n",
    "        \n",
    "        phn_num=int(input('Your mobile number '))\n",
    "        \n",
    "        if len(str(phn_num)) !=10:\n",
    "            print('Enter 10 digit phone number')\n",
    "            continue\n",
    "        else:\n",
    "            results=cursor.execute(\"SELECT * FROM stud_det\")\n",
    "            for detail in results:\n",
    "                if detail[0]==phn_num:\n",
    "                    print('Name:', detail[1])\n",
    "                    print('DOJ:', detail[2])\n",
    "                    print('Mark:', detail[3])\n",
    "                    break\n",
    "            else:\n",
    "                print('Phone number not found in database')\n",
    "                break\n",
    "            continue\n",
    "            \n",
    "    except:\n",
    "        print('Phone number must be numeric')\n",
    "        continue"
   ]
  },
  {
   "cell_type": "code",
   "execution_count": null,
   "id": "79ed64ea",
   "metadata": {},
   "outputs": [],
   "source": []
  }
 ],
 "metadata": {
  "kernelspec": {
   "display_name": "Python 3 (ipykernel)",
   "language": "python",
   "name": "python3"
  },
  "language_info": {
   "codemirror_mode": {
    "name": "ipython",
    "version": 3
   },
   "file_extension": ".py",
   "mimetype": "text/x-python",
   "name": "python",
   "nbconvert_exporter": "python",
   "pygments_lexer": "ipython3",
   "version": "3.9.12"
  }
 },
 "nbformat": 4,
 "nbformat_minor": 5
}
