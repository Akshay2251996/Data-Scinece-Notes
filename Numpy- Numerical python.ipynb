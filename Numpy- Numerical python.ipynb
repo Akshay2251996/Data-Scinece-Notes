{
 "cells": [
  {
   "cell_type": "markdown",
   "id": "5d3ea911",
   "metadata": {},
   "source": [
    "# Numpy Array"
   ]
  },
  {
   "cell_type": "code",
   "execution_count": 4,
   "id": "d69ad278",
   "metadata": {},
   "outputs": [],
   "source": [
    "import numpy as np"
   ]
  },
  {
   "cell_type": "code",
   "execution_count": 2,
   "id": "5ceddcfd",
   "metadata": {},
   "outputs": [
    {
     "name": "stdout",
     "output_type": "stream",
     "text": [
      "['ALLOW_THREADS', 'AxisError', 'BUFSIZE', 'Bytes0', 'CLIP', 'ComplexWarning', 'DataSource', 'Datetime64', 'ERR_CALL', 'ERR_DEFAULT', 'ERR_IGNORE', 'ERR_LOG', 'ERR_PRINT', 'ERR_RAISE', 'ERR_WARN', 'FLOATING_POINT_SUPPORT', 'FPE_DIVIDEBYZERO', 'FPE_INVALID', 'FPE_OVERFLOW', 'FPE_UNDERFLOW', 'False_', 'Inf', 'Infinity', 'MAXDIMS', 'MAY_SHARE_BOUNDS', 'MAY_SHARE_EXACT', 'MachAr', 'ModuleDeprecationWarning', 'NAN', 'NINF', 'NZERO', 'NaN', 'PINF', 'PZERO', 'RAISE', 'RankWarning', 'SHIFT_DIVIDEBYZERO', 'SHIFT_INVALID', 'SHIFT_OVERFLOW', 'SHIFT_UNDERFLOW', 'ScalarType', 'Str0', 'Tester', 'TooHardError', 'True_', 'UFUNC_BUFSIZE_DEFAULT', 'UFUNC_PYVALS_NAME', 'Uint64', 'VisibleDeprecationWarning', 'WRAP', '_NoValue', '_UFUNC_API', '__NUMPY_SETUP__', '__all__', '__builtins__', '__cached__', '__config__', '__deprecated_attrs__', '__dir__', '__doc__', '__expired_functions__', '__file__', '__getattr__', '__git_version__', '__loader__', '__mkl_version__', '__name__', '__package__', '__path__', '__spec__', '__version__', '_add_newdoc_ufunc', '_distributor_init', '_financial_names', '_globals', '_mat', '_pytesttester', '_version', 'abs', 'absolute', 'add', 'add_docstring', 'add_newdoc', 'add_newdoc_ufunc', 'alen', 'all', 'allclose', 'alltrue', 'amax', 'amin', 'angle', 'any', 'append', 'apply_along_axis', 'apply_over_axes', 'arange', 'arccos', 'arccosh', 'arcsin', 'arcsinh', 'arctan', 'arctan2', 'arctanh', 'argmax', 'argmin', 'argpartition', 'argsort', 'argwhere', 'around', 'array', 'array2string', 'array_equal', 'array_equiv', 'array_repr', 'array_split', 'array_str', 'asanyarray', 'asarray', 'asarray_chkfinite', 'ascontiguousarray', 'asfarray', 'asfortranarray', 'asmatrix', 'asscalar', 'atleast_1d', 'atleast_2d', 'atleast_3d', 'average', 'bartlett', 'base_repr', 'binary_repr', 'bincount', 'bitwise_and', 'bitwise_not', 'bitwise_or', 'bitwise_xor', 'blackman', 'block', 'bmat', 'bool8', 'bool_', 'broadcast', 'broadcast_arrays', 'broadcast_shapes', 'broadcast_to', 'busday_count', 'busday_offset', 'busdaycalendar', 'byte', 'byte_bounds', 'bytes0', 'bytes_', 'c_', 'can_cast', 'cast', 'cbrt', 'cdouble', 'ceil', 'cfloat', 'char', 'character', 'chararray', 'choose', 'clip', 'clongdouble', 'clongfloat', 'column_stack', 'common_type', 'compare_chararrays', 'compat', 'complex128', 'complex64', 'complex_', 'complexfloating', 'compress', 'concatenate', 'conj', 'conjugate', 'convolve', 'copy', 'copysign', 'copyto', 'core', 'corrcoef', 'correlate', 'cos', 'cosh', 'count_nonzero', 'cov', 'cross', 'csingle', 'ctypeslib', 'cumprod', 'cumproduct', 'cumsum', 'datetime64', 'datetime_as_string', 'datetime_data', 'deg2rad', 'degrees', 'delete', 'deprecate', 'deprecate_with_doc', 'diag', 'diag_indices', 'diag_indices_from', 'diagflat', 'diagonal', 'diff', 'digitize', 'disp', 'divide', 'divmod', 'dot', 'double', 'dsplit', 'dstack', 'dtype', 'e', 'ediff1d', 'einsum', 'einsum_path', 'emath', 'empty', 'empty_like', 'equal', 'errstate', 'euler_gamma', 'exp', 'exp2', 'expand_dims', 'expm1', 'extract', 'eye', 'fabs', 'fastCopyAndTranspose', 'fft', 'fill_diagonal', 'find_common_type', 'finfo', 'fix', 'flatiter', 'flatnonzero', 'flexible', 'flip', 'fliplr', 'flipud', 'float16', 'float32', 'float64', 'float_', 'float_power', 'floating', 'floor', 'floor_divide', 'fmax', 'fmin', 'fmod', 'format_float_positional', 'format_float_scientific', 'format_parser', 'frexp', 'frombuffer', 'fromfile', 'fromfunction', 'fromiter', 'frompyfunc', 'fromregex', 'fromstring', 'full', 'full_like', 'gcd', 'generic', 'genfromtxt', 'geomspace', 'get_array_wrap', 'get_include', 'get_printoptions', 'getbufsize', 'geterr', 'geterrcall', 'geterrobj', 'gradient', 'greater', 'greater_equal', 'half', 'hamming', 'hanning', 'heaviside', 'histogram', 'histogram2d', 'histogram_bin_edges', 'histogramdd', 'hsplit', 'hstack', 'hypot', 'i0', 'identity', 'iinfo', 'imag', 'in1d', 'index_exp', 'indices', 'inexact', 'inf', 'info', 'infty', 'inner', 'insert', 'int0', 'int16', 'int32', 'int64', 'int8', 'int_', 'intc', 'integer', 'interp', 'intersect1d', 'intp', 'invert', 'is_busday', 'isclose', 'iscomplex', 'iscomplexobj', 'isfinite', 'isfortran', 'isin', 'isinf', 'isnan', 'isnat', 'isneginf', 'isposinf', 'isreal', 'isrealobj', 'isscalar', 'issctype', 'issubclass_', 'issubdtype', 'issubsctype', 'iterable', 'ix_', 'kaiser', 'kron', 'lcm', 'ldexp', 'left_shift', 'less', 'less_equal', 'lexsort', 'lib', 'linalg', 'linspace', 'little_endian', 'load', 'loads', 'loadtxt', 'log', 'log10', 'log1p', 'log2', 'logaddexp', 'logaddexp2', 'logical_and', 'logical_not', 'logical_or', 'logical_xor', 'logspace', 'longcomplex', 'longdouble', 'longfloat', 'longlong', 'lookfor', 'ma', 'mafromtxt', 'mask_indices', 'mat', 'math', 'matmul', 'matrix', 'matrixlib', 'max', 'maximum', 'maximum_sctype', 'may_share_memory', 'mean', 'median', 'memmap', 'meshgrid', 'mgrid', 'min', 'min_scalar_type', 'minimum', 'mintypecode', 'mkl', 'mod', 'modf', 'moveaxis', 'msort', 'multiply', 'nan', 'nan_to_num', 'nanargmax', 'nanargmin', 'nancumprod', 'nancumsum', 'nanmax', 'nanmean', 'nanmedian', 'nanmin', 'nanpercentile', 'nanprod', 'nanquantile', 'nanstd', 'nansum', 'nanvar', 'nbytes', 'ndarray', 'ndenumerate', 'ndfromtxt', 'ndim', 'ndindex', 'nditer', 'negative', 'nested_iters', 'newaxis', 'nextafter', 'nonzero', 'not_equal', 'numarray', 'number', 'obj2sctype', 'object0', 'object_', 'ogrid', 'oldnumeric', 'ones', 'ones_like', 'os', 'outer', 'packbits', 'pad', 'partition', 'percentile', 'pi', 'piecewise', 'place', 'poly', 'poly1d', 'polyadd', 'polyder', 'polydiv', 'polyfit', 'polyint', 'polymul', 'polynomial', 'polysub', 'polyval', 'positive', 'power', 'printoptions', 'prod', 'product', 'promote_types', 'ptp', 'put', 'put_along_axis', 'putmask', 'quantile', 'r_', 'rad2deg', 'radians', 'random', 'ravel', 'ravel_multi_index', 'real', 'real_if_close', 'rec', 'recarray', 'recfromcsv', 'recfromtxt', 'reciprocal', 'record', 'remainder', 'repeat', 'require', 'reshape', 'resize', 'result_type', 'right_shift', 'rint', 'roll', 'rollaxis', 'roots', 'rot90', 'round', 'round_', 'row_stack', 's_', 'safe_eval', 'save', 'savetxt', 'savez', 'savez_compressed', 'sctype2char', 'sctypeDict', 'sctypes', 'searchsorted', 'select', 'set_numeric_ops', 'set_printoptions', 'set_string_function', 'setbufsize', 'setdiff1d', 'seterr', 'seterrcall', 'seterrobj', 'setxor1d', 'shape', 'shares_memory', 'short', 'show_config', 'sign', 'signbit', 'signedinteger', 'sin', 'sinc', 'single', 'singlecomplex', 'sinh', 'size', 'sometrue', 'sort', 'sort_complex', 'source', 'spacing', 'split', 'sqrt', 'square', 'squeeze', 'stack', 'std', 'str0', 'str_', 'string_', 'subtract', 'sum', 'swapaxes', 'sys', 'take', 'take_along_axis', 'tan', 'tanh', 'tensordot', 'test', 'testing', 'tile', 'timedelta64', 'trace', 'tracemalloc_domain', 'transpose', 'trapz', 'tri', 'tril', 'tril_indices', 'tril_indices_from', 'trim_zeros', 'triu', 'triu_indices', 'triu_indices_from', 'true_divide', 'trunc', 'typecodes', 'typename', 'ubyte', 'ufunc', 'uint', 'uint0', 'uint16', 'uint32', 'uint64', 'uint8', 'uintc', 'uintp', 'ulonglong', 'unicode_', 'union1d', 'unique', 'unpackbits', 'unravel_index', 'unsignedinteger', 'unwrap', 'use_hugepage', 'ushort', 'vander', 'var', 'vdot', 'vectorize', 'version', 'void', 'void0', 'vsplit', 'vstack', 'warnings', 'where', 'who', 'zeros', 'zeros_like']\n"
     ]
    }
   ],
   "source": [
    "print(dir(np))                     # checking for all the function in numpy"
   ]
  },
  {
   "cell_type": "code",
   "execution_count": 3,
   "id": "7b725d16",
   "metadata": {},
   "outputs": [
    {
     "data": {
      "text/plain": [
       "3.1622776601683795"
      ]
     },
     "execution_count": 3,
     "metadata": {},
     "output_type": "execute_result"
    }
   ],
   "source": [
    "# for square root-np.sqrt(number)\n",
    "np.sqrt(10)            #square root of 10=3.1622"
   ]
  },
  {
   "cell_type": "code",
   "execution_count": 4,
   "id": "b9e17100",
   "metadata": {},
   "outputs": [
    {
     "data": {
      "text/plain": [
       "27.0"
      ]
     },
     "execution_count": 4,
     "metadata": {},
     "output_type": "execute_result"
    }
   ],
   "source": [
    "# Round off-np.ceil()       [it will round off the decimal number to next number]\n",
    "np.ceil(26.3)"
   ]
  },
  {
   "cell_type": "code",
   "execution_count": 5,
   "id": "3c8ba23f",
   "metadata": {},
   "outputs": [
    {
     "data": {
      "text/plain": [
       "4.0"
      ]
     },
     "execution_count": 5,
     "metadata": {},
     "output_type": "execute_result"
    }
   ],
   "source": [
    "np.ceil(np.sqrt(10))         # round off the square root of 10=3.162=4.0"
   ]
  },
  {
   "cell_type": "code",
   "execution_count": 7,
   "id": "02c5641e",
   "metadata": {},
   "outputs": [
    {
     "data": {
      "text/plain": [
       "10.0"
      ]
     },
     "execution_count": 7,
     "metadata": {},
     "output_type": "execute_result"
    }
   ],
   "source": [
    "np.ceil(np.sum(np.sqrt([5,10,15])))     #np.sum used for adding and sum "
   ]
  },
  {
   "cell_type": "code",
   "execution_count": 9,
   "id": "c6b8bebc",
   "metadata": {},
   "outputs": [
    {
     "name": "stdout",
     "output_type": "stream",
     "text": [
      "Minimum 10\n",
      "Maximum 30\n"
     ]
    }
   ],
   "source": [
    "# minimum and maximum select from number list\n",
    "print('Minimum', np.amin([10,25,15,30]))\n",
    "\n",
    "print('Maximum', np.amax([10,25,15,30]))"
   ]
  },
  {
   "cell_type": "code",
   "execution_count": 10,
   "id": "a6fa2f1d",
   "metadata": {},
   "outputs": [
    {
     "data": {
      "text/plain": [
       "array([ 5,  9, 13])"
      ]
     },
     "execution_count": 10,
     "metadata": {},
     "output_type": "execute_result"
    }
   ],
   "source": [
    "#Array\n",
    "np.array([5,9,13])     #array in numpy is as similar as list in python"
   ]
  },
  {
   "cell_type": "code",
   "execution_count": 11,
   "id": "4b7dc871",
   "metadata": {},
   "outputs": [
    {
     "data": {
      "text/plain": [
       "list"
      ]
     },
     "execution_count": 11,
     "metadata": {},
     "output_type": "execute_result"
    }
   ],
   "source": [
    "type([5,9,13])           #chicking the type"
   ]
  },
  {
   "cell_type": "code",
   "execution_count": 12,
   "id": "16c9291e",
   "metadata": {},
   "outputs": [],
   "source": [
    "xyz=np.array([5,9,13])   # assigning array to xyz"
   ]
  },
  {
   "cell_type": "code",
   "execution_count": 13,
   "id": "cc2f1cce",
   "metadata": {},
   "outputs": [
    {
     "data": {
      "text/plain": [
       "numpy.ndarray"
      ]
     },
     "execution_count": 13,
     "metadata": {},
     "output_type": "execute_result"
    }
   ],
   "source": [
    "type(xyz)                 # nd= n dimensional"
   ]
  },
  {
   "cell_type": "code",
   "execution_count": 14,
   "id": "5d85fed4",
   "metadata": {},
   "outputs": [
    {
     "name": "stdout",
     "output_type": "stream",
     "text": [
      "type- int32\n",
      "\n",
      " ******************************\n",
      "\n",
      " [[1 2]\n",
      " [3 4]\n",
      " [4 5]]\n"
     ]
    }
   ],
   "source": [
    "# For two dimensional (2d)\n",
    "a=np.array([[1,2],[3,4],[4,5]])\n",
    "print(\"type-\", a.dtype)       #a.dtype tp show the type of number in array\n",
    "print('\\n','*' * 30)\n",
    "print('\\n', a)"
   ]
  },
  {
   "cell_type": "code",
   "execution_count": 16,
   "id": "90aa961d",
   "metadata": {},
   "outputs": [
    {
     "data": {
      "text/plain": [
       "array([1., 2., 3.])"
      ]
     },
     "execution_count": 16,
     "metadata": {},
     "output_type": "execute_result"
    }
   ],
   "source": [
    "# dtype conersion\n",
    "np.array([1,2,3], dtype=float)     # Here we coverting integer to float"
   ]
  },
  {
   "cell_type": "code",
   "execution_count": 17,
   "id": "12a6c04e",
   "metadata": {},
   "outputs": [
    {
     "name": "stdout",
     "output_type": "stream",
     "text": [
      "[1 2]\n"
     ]
    }
   ],
   "source": [
    "# Coverting list into an array\n",
    "a=[1,2]\n",
    "c=np.array(a)\n",
    "print(c)"
   ]
  },
  {
   "cell_type": "code",
   "execution_count": 18,
   "id": "a33315a8",
   "metadata": {},
   "outputs": [
    {
     "name": "stdout",
     "output_type": "stream",
     "text": [
      "[1 2]\n"
     ]
    }
   ],
   "source": [
    "#Copy array\n",
    "b=np.asarray(c)    # copying c array into b array as it is\n",
    "print(b)"
   ]
  },
  {
   "cell_type": "markdown",
   "id": "d754e938",
   "metadata": {},
   "source": [
    "# Data types"
   ]
  },
  {
   "cell_type": "code",
   "execution_count": 20,
   "id": "1594a7a5",
   "metadata": {},
   "outputs": [
    {
     "name": "stdout",
     "output_type": "stream",
     "text": [
      "Type/Class of the object <class 'numpy.ndarray'>\n",
      "Here is matrix\n",
      "-----------\n",
      " [[1 2 3]\n",
      " [4 5 6]\n",
      " [7 8 9]] \n",
      "-----------\n",
      "Dimension of Matrix2\n",
      "Size of Matrix9\n",
      "Shape of Matrix (3, 3)\n",
      "Data type of matrix int32\n"
     ]
    }
   ],
   "source": [
    "my_mat=[[1,2,3],[4,5,6],[7,8,9]]\n",
    "mat=np.array(my_mat)       #coverting into array\n",
    "\n",
    "print(\"Type/Class of the object\",type(mat))\n",
    "print(\"Here is matrix\\n-----------\\n\",mat,\"\\n-----------\")\n",
    "print(\"Dimension of Matrix\",mat.ndim,sep='')    #ndim used for checking dimension\n",
    "print(\"Size of Matrix\",mat.size,sep='')         #size is total numbers odf elements\n",
    "print(\"Shape of Matrix\",mat.shape)            #shape is used to give number of elements at each axis\n",
    "print(\"Data type of matrix\",mat.dtype)"
   ]
  },
  {
   "cell_type": "markdown",
   "id": "8f7811cb",
   "metadata": {},
   "source": [
    "# arange and linespace\n",
    "In arange both integer and float values are generated which was not happened in range function of python that take only inetgers"
   ]
  },
  {
   "cell_type": "code",
   "execution_count": 22,
   "id": "c496e94a",
   "metadata": {},
   "outputs": [
    {
     "ename": "TypeError",
     "evalue": "'float' object cannot be interpreted as an integer",
     "output_type": "error",
     "traceback": [
      "\u001b[1;31m---------------------------------------------------------------------------\u001b[0m",
      "\u001b[1;31mTypeError\u001b[0m                                 Traceback (most recent call last)",
      "Input \u001b[1;32mIn [22]\u001b[0m, in \u001b[0;36m<cell line: 1>\u001b[1;34m()\u001b[0m\n\u001b[1;32m----> 1\u001b[0m a\u001b[38;5;241m=\u001b[39m\u001b[38;5;28mlist\u001b[39m(\u001b[38;5;28;43mrange\u001b[39;49m\u001b[43m(\u001b[49m\u001b[38;5;241;43m2.\u001b[39;49m\u001b[43m,\u001b[49m\u001b[38;5;241;43m5.5\u001b[39;49m\u001b[43m,\u001b[49m\u001b[38;5;241;43m.4\u001b[39;49m\u001b[43m)\u001b[49m)\n",
      "\u001b[1;31mTypeError\u001b[0m: 'float' object cannot be interpreted as an integer"
     ]
    }
   ],
   "source": [
    "# arange\n",
    "a=list(range(2.,5.5,.4))     # It give error because data have float value in it"
   ]
  },
  {
   "cell_type": "code",
   "execution_count": 21,
   "id": "5bf4a650",
   "metadata": {},
   "outputs": [
    {
     "data": {
      "text/plain": [
       "array([2. , 2.4, 2.8, 3.2, 3.6, 4. , 4.4, 4.8, 5.2])"
      ]
     },
     "execution_count": 21,
     "metadata": {},
     "output_type": "execute_result"
    }
   ],
   "source": [
    "a=np.arange(2.,5.5,.4)     # Here 2.=start,5.5=stop,.4=step size\n",
    "a"
   ]
  },
  {
   "cell_type": "code",
   "execution_count": 23,
   "id": "3854c3ee",
   "metadata": {},
   "outputs": [
    {
     "name": "stdout",
     "output_type": "stream",
     "text": [
      "[10.  17.5 25.  32.5 40. ]\n"
     ]
    }
   ],
   "source": [
    "#linspace\n",
    "print(np.linspace(10,40,5))   #np.linspace(start,stop,number of elemnets in between)"
   ]
  },
  {
   "cell_type": "code",
   "execution_count": 25,
   "id": "24791277",
   "metadata": {},
   "outputs": [
    {
     "name": "stdout",
     "output_type": "stream",
     "text": [
      "(array([2.  , 2.25, 2.5 , 2.75]), 0.25)\n"
     ]
    }
   ],
   "source": [
    "#Including endpoint and check point\n",
    "#by default endpoint=True & retstep=False    (retstep=difference given between thwe elements)\n",
    "print(np.linspace(2.0, 3.0, num=4, endpoint=False, retstep=True))     #endpoint-Flase means it is not included"
   ]
  },
  {
   "cell_type": "code",
   "execution_count": 5,
   "id": "147bbdea",
   "metadata": {},
   "outputs": [
    {
     "data": {
      "text/plain": [
       "(array([ 4.36256   ,  4.81564283,  5.26872567,  5.7218085 ,  6.17489133,\n",
       "         6.62797417,  7.081057  ,  7.53413983,  7.98722267,  8.4403055 ,\n",
       "         8.89338833,  9.34647117,  9.799554  , 10.25263683, 10.70571967,\n",
       "        11.1588025 , 11.61188533, 12.06496817, 12.518051  , 12.97113383,\n",
       "        13.42421667, 13.8772995 , 14.33038233, 14.78346517, 15.236548  ]),\n",
       " 0.4530828333333334)"
      ]
     },
     "execution_count": 5,
     "metadata": {},
     "output_type": "execute_result"
    }
   ],
   "source": [
    "np.linspace(4.36256,15.236548,25, retstep=True)"
   ]
  },
  {
   "cell_type": "markdown",
   "id": "0701dae9",
   "metadata": {},
   "source": [
    "# Matrix Creation"
   ]
  },
  {
   "cell_type": "code",
   "execution_count": 6,
   "id": "91696425",
   "metadata": {},
   "outputs": [
    {
     "name": "stdout",
     "output_type": "stream",
     "text": [
      "Vector of zeros \n",
      " ***************\n",
      "[0. 0. 0. 0. 0.]\n"
     ]
    }
   ],
   "source": [
    "print(\"Vector of zeros \\n\",'*'*15)\n",
    "print(np.zeros(5))    #Vector of zeros created"
   ]
  },
  {
   "cell_type": "code",
   "execution_count": 8,
   "id": "120cbbdb",
   "metadata": {},
   "outputs": [
    {
     "name": "stdout",
     "output_type": "stream",
     "text": [
      "[[0. 0. 0. 0. 0. 0.]\n",
      " [0. 0. 0. 0. 0. 0.]\n",
      " [0. 0. 0. 0. 0. 0.]\n",
      " [0. 0. 0. 0. 0. 0.]\n",
      " [0. 0. 0. 0. 0. 0.]]\n"
     ]
    }
   ],
   "source": [
    "print(np.zeros((5,6)))   # Here is 5=row & 6=column"
   ]
  },
  {
   "cell_type": "code",
   "execution_count": 9,
   "id": "9a47ca8b",
   "metadata": {},
   "outputs": [
    {
     "name": "stdout",
     "output_type": "stream",
     "text": [
      "Vector of ones \n",
      " ***************\n",
      "[1. 1. 1. 1. 1.]\n"
     ]
    }
   ],
   "source": [
    "print(\"Vector of ones \\n\",'*'*15)\n",
    "print(np.ones(5))    #Vector of ones created"
   ]
  },
  {
   "cell_type": "code",
   "execution_count": 10,
   "id": "835599dc",
   "metadata": {},
   "outputs": [
    {
     "name": "stdout",
     "output_type": "stream",
     "text": [
      "[[1. 1. 1. 1. 1. 1.]\n",
      " [1. 1. 1. 1. 1. 1.]\n",
      " [1. 1. 1. 1. 1. 1.]\n",
      " [1. 1. 1. 1. 1. 1.]\n",
      " [1. 1. 1. 1. 1. 1.]]\n"
     ]
    }
   ],
   "source": [
    "print(np.ones((5,6)))   # Here is 5=row & 6=column"
   ]
  },
  {
   "cell_type": "code",
   "execution_count": 12,
   "id": "3fa06c3f",
   "metadata": {},
   "outputs": [
    {
     "name": "stdout",
     "output_type": "stream",
     "text": [
      "[[6. 6. 6. 6. 6. 6.]\n",
      " [6. 6. 6. 6. 6. 6.]\n",
      " [6. 6. 6. 6. 6. 6.]\n",
      " [6. 6. 6. 6. 6. 6.]\n",
      " [6. 6. 6. 6. 6. 6.]]\n"
     ]
    }
   ],
   "source": [
    "print(6*np.ones((5,6)))   # as there is only 0 & 1 so for other number we have to multiply that number."
   ]
  },
  {
   "cell_type": "code",
   "execution_count": 15,
   "id": "f977a296",
   "metadata": {},
   "outputs": [
    {
     "name": "stdout",
     "output_type": "stream",
     "text": [
      "[[ 0  1  2  3  4  5]\n",
      " [ 6  7  8  9 10 11]\n",
      " [12 13 14 15 16 17]\n",
      " [18 19 20 21 22 23]\n",
      " [24 25 26 27 28 29]]\n"
     ]
    }
   ],
   "source": [
    "# Construct diagonal matrix\n",
    "x=np.arange(30).reshape(5,6)       #number you given must be multiple or set in matrix like 30=5*6,6*5 etc.\n",
    "print(x)"
   ]
  },
  {
   "cell_type": "markdown",
   "id": "d3d12616",
   "metadata": {},
   "source": [
    "# Random Number Generation\n",
    "There re of three types \n",
    "1. rand\n",
    "2. randn\n",
    "3. randint"
   ]
  },
  {
   "cell_type": "code",
   "execution_count": 19,
   "id": "ab129bfb",
   "metadata": {},
   "outputs": [
    {
     "name": "stdout",
     "output_type": "stream",
     "text": [
      "[[0.89286015 0.33197981 0.82122912 0.04169663 0.10765668 0.59505206]\n",
      " [0.52981736 0.41880743 0.33540785 0.62251943 0.43814143 0.73588211]\n",
      " [0.51803641 0.5788586  0.6453551  0.99022427 0.8198582  0.41320093]\n",
      " [0.87626766 0.82375943 0.05447451 0.71863724 0.80217056 0.73640664]\n",
      " [0.70913175 0.54093685 0.12482417 0.9576473  0.4032563  0.21695116]\n",
      " [0.71727585 0.99420744 0.25561406 0.67130943 0.59900591 0.71733215]\n",
      " [0.93734953 0.35180977 0.2536341  0.40247251 0.74651072 0.72407057]\n",
      " [0.4061078  0.98937985 0.45049928 0.37380843 0.70962861 0.08245855]\n",
      " [0.39837292 0.77088097 0.76475098 0.28385938 0.18954219 0.47125096]\n",
      " [0.33480604 0.73473504 0.18910712 0.33110407 0.84422842 0.61502403]]\n"
     ]
    }
   ],
   "source": [
    "np.random.seed(6)   # seed is used for generate similar data otherwise it will change everytime when you run it\n",
    "print(np.random.rand(10,6))  # 1. In rand all numbers are '+ve',<1,float and uniform(close to each other)"
   ]
  },
  {
   "cell_type": "code",
   "execution_count": 20,
   "id": "090d0224",
   "metadata": {},
   "outputs": [
    {
     "name": "stdout",
     "output_type": "stream",
     "text": [
      "[[-0.37550472  0.39636757 -0.47144628]\n",
      " [ 2.33660781  1.50278553 -0.59545972]\n",
      " [ 0.52834106  0.9398248   0.42628539]\n",
      " [-0.75815703 -0.16236698  0.72680996]\n",
      " [ 0.44408297 -0.85682264  0.44692842]\n",
      " [-1.01464799 -2.1323234   0.17386307]\n",
      " [ 0.95120126  0.44189739  1.46901739]\n",
      " [ 1.74951635  0.35353062 -0.64333729]\n",
      " [-0.04723705 -1.44903979 -0.03618977]\n",
      " [-0.09084699  0.17629034  1.09462041]]\n"
     ]
    }
   ],
   "source": [
    "#randn- numbers are +&-and are in normal distribution\n",
    "print(np.random.randn(10,3))"
   ]
  },
  {
   "cell_type": "code",
   "execution_count": 23,
   "id": "f814776a",
   "metadata": {},
   "outputs": [
    {
     "name": "stdout",
     "output_type": "stream",
     "text": [
      "[14  8 13  5 12 17 12 18  5  8]\n"
     ]
    }
   ],
   "source": [
    "#randint-integer numbers are genetrated & all are random =randint(low,High,elements in between)\n",
    "print(np.random.randint(5,20,10))"
   ]
  },
  {
   "cell_type": "code",
   "execution_count": 25,
   "id": "f8efa943",
   "metadata": {},
   "outputs": [
    {
     "name": "stdout",
     "output_type": "stream",
     "text": [
      "[[  833 17521  6598  1399  7966  5802]\n",
      " [12768 19419  9177  6421 12772 14535]\n",
      " [18996 15891 11363 16709 18784 18311]\n",
      " [15359 11226 15660  8976   603  3371]\n",
      " [   14 16538 12578 19715  7364  7871]\n",
      " [ 7197 14023 13024 13081 18983   104]]\n"
     ]
    }
   ],
   "source": [
    "print(np.random.randint(5,20000,(6,6)))   # (6,6) is matrix given. Number must be dawn from this matrix"
   ]
  },
  {
   "cell_type": "code",
   "execution_count": 26,
   "id": "5b16ab0d",
   "metadata": {},
   "outputs": [
    {
     "name": "stdout",
     "output_type": "stream",
     "text": [
      "Your OTP is- [6099]\n",
      "Enter OTP6095\n",
      "Invalid OTP,Genrate new otp\n",
      "Your OTP is- [6417]\n",
      "Enter OTP6417\n",
      "Login sucess\n"
     ]
    }
   ],
   "source": [
    "# Example of OTP generation\n",
    "while True:\n",
    "    otp1=np.random.randint(1000,10000,1)\n",
    "    print(\"Your OTP is-\", otp1)\n",
    "    user_otp=int(input('Enter OTP'))\n",
    "    if otp1==user_otp:\n",
    "        print('Login sucess')\n",
    "        break\n",
    "    else:\n",
    "        print('Invalid OTP,Genrate new otp')\n",
    "        continue"
   ]
  },
  {
   "cell_type": "markdown",
   "id": "2d6d29f6",
   "metadata": {},
   "source": [
    "# Reshaping Other Ways"
   ]
  },
  {
   "cell_type": "code",
   "execution_count": 27,
   "id": "d200246a",
   "metadata": {},
   "outputs": [
    {
     "data": {
      "text/plain": [
       "array([63, 37, 64, 64, 49,  6, 27, 40, 87, 98, 98, 34, 39, 59, 25, 34, 70,\n",
       "       42, 93, 14, 30,  3, 83, 12, 85, 59, 40, 34, 22, 68])"
      ]
     },
     "execution_count": 27,
     "metadata": {},
     "output_type": "execute_result"
    }
   ],
   "source": [
    "import numpy as np\n",
    "from numpy.random import randint as ri   #This is for shorting of long formulae of  randint\n",
    "a=ri(1,99,30)\n",
    "a             # calling a matrix"
   ]
  },
  {
   "cell_type": "code",
   "execution_count": 28,
   "id": "6b13b7ed",
   "metadata": {},
   "outputs": [
    {
     "data": {
      "text/plain": [
       "array([[63, 37, 64, 64, 49],\n",
       "       [ 6, 27, 40, 87, 98],\n",
       "       [98, 34, 39, 59, 25],\n",
       "       [34, 70, 42, 93, 14],\n",
       "       [30,  3, 83, 12, 85],\n",
       "       [59, 40, 34, 22, 68]])"
      ]
     },
     "execution_count": 28,
     "metadata": {},
     "output_type": "execute_result"
    }
   ],
   "source": [
    "c=a.reshape(6,5)   # assigning a matrix to c new matrix of 6 rows and 5 coulmns\n",
    "c"
   ]
  },
  {
   "cell_type": "code",
   "execution_count": 29,
   "id": "00b09d38",
   "metadata": {},
   "outputs": [
    {
     "name": "stdout",
     "output_type": "stream",
     "text": [
      "Min - 3\n",
      "Max- 98\n"
     ]
    }
   ],
   "source": [
    "#for max and min number in matrix\n",
    "print('Min -',c.min())\n",
    "print('Max-',c.max())"
   ]
  },
  {
   "cell_type": "code",
   "execution_count": 30,
   "id": "2e858bd5",
   "metadata": {},
   "outputs": [
    {
     "data": {
      "text/plain": [
       "49.3"
      ]
     },
     "execution_count": 30,
     "metadata": {},
     "output_type": "execute_result"
    }
   ],
   "source": [
    "c.mean()   #this is the mean of all numbers in matrix c"
   ]
  },
  {
   "cell_type": "markdown",
   "id": "20a1bba9",
   "metadata": {},
   "source": [
    "# Sorting\n",
    "It sorted by row and coulmn in ascending order"
   ]
  },
  {
   "cell_type": "code",
   "execution_count": 34,
   "id": "54182549",
   "metadata": {},
   "outputs": [
    {
     "name": "stdout",
     "output_type": "stream",
     "text": [
      "\n",
      " Random matrix \n",
      " [[51 84 84 19 78]\n",
      " [48 66 97 70 45]\n",
      " [21 17 85 55 50]\n",
      " [73 83 85 20 28]\n",
      " [ 6 85 61  6 16]]\n",
      "\n",
      " sorted by row \n",
      " [[19 51 78 84 84]\n",
      " [45 48 66 70 97]\n",
      " [17 21 50 55 85]\n",
      " [20 28 73 83 85]\n",
      " [ 6  6 16 61 85]]\n",
      "\n",
      " sorted by coulmn \n",
      " [[ 6 17 61  6 16]\n",
      " [21 66 84 19 28]\n",
      " [48 83 85 20 45]\n",
      " [51 84 85 55 50]\n",
      " [73 85 97 70 78]]\n"
     ]
    }
   ],
   "source": [
    "m=ri(1,100,25).reshape(5,5)\n",
    "print(\"\\n Random matrix \\n\", m)\n",
    "print(\"\\n sorted by row \\n\", np.sort(m))   #by default axis=1\n",
    "print(\"\\n sorted by coulmn \\n\", np.sort(m,axis=0))"
   ]
  },
  {
   "cell_type": "markdown",
   "id": "1f024fab",
   "metadata": {},
   "source": [
    "# Numpy condition\n",
    "When there are conditions like(==,<,>,<=,=>,etc) numpy condition apply"
   ]
  },
  {
   "cell_type": "code",
   "execution_count": 35,
   "id": "c21c6eef",
   "metadata": {},
   "outputs": [
    {
     "data": {
      "text/plain": [
       "array([18533, 16710, 57563, 68879, 40439, 51498, 46423, 51347, 25443,\n",
       "       51138])"
      ]
     },
     "execution_count": 35,
     "metadata": {},
     "output_type": "execute_result"
    }
   ],
   "source": [
    "emp_salary=np.random.randint(8000,70000,10)\n",
    "emp_salary"
   ]
  },
  {
   "cell_type": "code",
   "execution_count": 36,
   "id": "bc81f4f9",
   "metadata": {},
   "outputs": [
    {
     "name": "stdout",
     "output_type": "stream",
     "text": [
      "(array([0, 1], dtype=int64),)\n"
     ]
    }
   ],
   "source": [
    "# Now to find actual salary which are less than or greater than some particular\n",
    "print(np.where(emp_salary<25000))   # It will give index position of those salaries which are less than 25000 "
   ]
  },
  {
   "cell_type": "code",
   "execution_count": 37,
   "id": "2f234b22",
   "metadata": {},
   "outputs": [
    {
     "data": {
      "text/plain": [
       "array([18533, 16710])"
      ]
     },
     "execution_count": 37,
     "metadata": {},
     "output_type": "execute_result"
    }
   ],
   "source": [
    "# To fetch salary of those index position are above\n",
    "emp_salary[np.where(emp_salary<25000)]        # Actual salary less than 25000 displayed"
   ]
  },
  {
   "cell_type": "code",
   "execution_count": 38,
   "id": "0903af3a",
   "metadata": {},
   "outputs": [
    {
     "data": {
      "text/plain": [
       "array([20000, 20000, 50000, 50000, 40439, 50000, 46423, 50000, 25443,\n",
       "       50000])"
      ]
     },
     "execution_count": 38,
     "metadata": {},
     "output_type": "execute_result"
    }
   ],
   "source": [
    "# To set minimum and maximum limit by giving values\n",
    "np.clip(emp_salary, a_min=20000, a_max=50000) # slary lower than 20000 will replace by it and higher than 50000 will replace by 50000"
   ]
  },
  {
   "cell_type": "markdown",
   "id": "1c3e8117",
   "metadata": {},
   "source": [
    "# Indexing and Slicing\n",
    "It is same as python finding data by index position or to replace and update it.\n"
   ]
  },
  {
   "cell_type": "code",
   "execution_count": 43,
   "id": "aece3be4",
   "metadata": {},
   "outputs": [
    {
     "name": "stdout",
     "output_type": "stream",
     "text": [
      "Array: [13 14 15 16 17 18 19 20 21 22 23 24 25 26 27 28 29]\n"
     ]
    }
   ],
   "source": [
    "a=np.arange(13,30)\n",
    "print(\"Array:\", a)"
   ]
  },
  {
   "cell_type": "code",
   "execution_count": 44,
   "id": "3590c000",
   "metadata": {},
   "outputs": [
    {
     "name": "stdout",
     "output_type": "stream",
     "text": [
      "Element at 7th position: 20\n"
     ]
    }
   ],
   "source": [
    "print(\"Element at 7th position:\", a[7])"
   ]
  },
  {
   "cell_type": "code",
   "execution_count": 45,
   "id": "9bdd540a",
   "metadata": {},
   "outputs": [
    {
     "name": "stdout",
     "output_type": "stream",
     "text": [
      "Element at 2nd,4th and 9th position: [15 17 22]\n"
     ]
    }
   ],
   "source": [
    "print(\"Element at 2nd,4th and 9th position:\", a[[2,4,9]])   #'[[]]' for more than one index postion pass"
   ]
  },
  {
   "cell_type": "code",
   "execution_count": 50,
   "id": "9b165e0a",
   "metadata": {},
   "outputs": [
    {
     "data": {
      "text/plain": [
       "array([[1, 2, 3],\n",
       "       [4, 5, 6],\n",
       "       [7, 8, 9]])"
      ]
     },
     "execution_count": 50,
     "metadata": {},
     "output_type": "execute_result"
    }
   ],
   "source": [
    "# TO find index psotion in matrix\n",
    "my_mat=[[1,2,3],[4,5,6],[7,8,9]]\n",
    "mat=np.array(my_mat)\n",
    "mat"
   ]
  },
  {
   "cell_type": "code",
   "execution_count": 53,
   "id": "c0402b40",
   "metadata": {},
   "outputs": [
    {
     "name": "stdout",
     "output_type": "stream",
     "text": [
      "Element at row index 1 and column index 2: 6\n"
     ]
    }
   ],
   "source": [
    "print(\"Element at row index 1 and column index 2:\", mat[1][2])"
   ]
  },
  {
   "cell_type": "code",
   "execution_count": 54,
   "id": "2422b2dc",
   "metadata": {},
   "outputs": [
    {
     "name": "stdout",
     "output_type": "stream",
     "text": [
      "[[2 3]\n",
      " [5 6]\n",
      " [8 9]]\n"
     ]
    }
   ],
   "source": [
    "# print(mat[rowstart:rowend,columnstart:columnend])\n",
    "print(mat[:,1:])    #empty row means start from 0 end at 2 & 1 is start of column and empty end is 2."
   ]
  },
  {
   "cell_type": "code",
   "execution_count": 55,
   "id": "7c56adf8",
   "metadata": {},
   "outputs": [
    {
     "name": "stdout",
     "output_type": "stream",
     "text": [
      "[[5]]\n"
     ]
    }
   ],
   "source": [
    "print(mat[1:2,1:2])"
   ]
  },
  {
   "cell_type": "code",
   "execution_count": 58,
   "id": "bf0c0377",
   "metadata": {},
   "outputs": [
    {
     "name": "stdout",
     "output_type": "stream",
     "text": [
      " [[2 3]\n",
      " [5 6]]\n"
     ]
    }
   ],
   "source": [
    "print(\"\",mat[0:2,[1,2]])   # means in 0:2 row you have to display 1,2 column"
   ]
  },
  {
   "cell_type": "markdown",
   "id": "1e6f48f4",
   "metadata": {},
   "source": [
    "###### Update Matrix"
   ]
  },
  {
   "cell_type": "code",
   "execution_count": 59,
   "id": "ecf96e25",
   "metadata": {},
   "outputs": [
    {
     "data": {
      "text/plain": [
       "array([[1, 2, 3],\n",
       "       [4, 5, 6],\n",
       "       [7, 8, 9]])"
      ]
     },
     "execution_count": 59,
     "metadata": {},
     "output_type": "execute_result"
    }
   ],
   "source": [
    "mat"
   ]
  },
  {
   "cell_type": "code",
   "execution_count": 60,
   "id": "01cb8ec0",
   "metadata": {},
   "outputs": [],
   "source": [
    "mat[1][2]=50"
   ]
  },
  {
   "cell_type": "code",
   "execution_count": 61,
   "id": "79559a88",
   "metadata": {},
   "outputs": [
    {
     "data": {
      "text/plain": [
       "array([[ 1,  2,  3],\n",
       "       [ 4,  5, 50],\n",
       "       [ 7,  8,  9]])"
      ]
     },
     "execution_count": 61,
     "metadata": {},
     "output_type": "execute_result"
    }
   ],
   "source": [
    "mat    # 6 replaced or updated by 50"
   ]
  },
  {
   "cell_type": "code",
   "execution_count": 62,
   "id": "b38c5233",
   "metadata": {},
   "outputs": [
    {
     "data": {
      "text/plain": [
       "array([[ 1,  2,  3],\n",
       "       [56,  5, 50],\n",
       "       [ 7,  8,  9]])"
      ]
     },
     "execution_count": 62,
     "metadata": {},
     "output_type": "execute_result"
    }
   ],
   "source": [
    "mat[1][0]=56\n",
    "mat"
   ]
  },
  {
   "cell_type": "markdown",
   "id": "82eacbbb",
   "metadata": {},
   "source": [
    "# Subseting"
   ]
  },
  {
   "cell_type": "code",
   "execution_count": 63,
   "id": "6aeedb94",
   "metadata": {},
   "outputs": [
    {
     "data": {
      "text/plain": [
       "array([[91, 64, 33, 73, 68],\n",
       "       [29, 28, 81, 36, 67],\n",
       "       [37, 30, 36, 90, 67]])"
      ]
     },
     "execution_count": 63,
     "metadata": {},
     "output_type": "execute_result"
    }
   ],
   "source": [
    "mat=np.array(ri(10,100,15)).reshape(3,5)\n",
    "mat     #creating matrix"
   ]
  },
  {
   "cell_type": "code",
   "execution_count": 64,
   "id": "0fb5eea2",
   "metadata": {},
   "outputs": [
    {
     "data": {
      "text/plain": [
       "array([[ True,  True, False,  True,  True],\n",
       "       [False, False,  True, False,  True],\n",
       "       [False, False, False,  True,  True]])"
      ]
     },
     "execution_count": 64,
     "metadata": {},
     "output_type": "execute_result"
    }
   ],
   "source": [
    "mat>50    # it will give boolean"
   ]
  },
  {
   "cell_type": "code",
   "execution_count": 65,
   "id": "54272a64",
   "metadata": {},
   "outputs": [
    {
     "data": {
      "text/plain": [
       "array([91, 64, 73, 68, 81, 67, 90, 67])"
      ]
     },
     "execution_count": 65,
     "metadata": {},
     "output_type": "execute_result"
    }
   ],
   "source": [
    "mat[mat>50]    # now it will givw integer values greater than 50"
   ]
  },
  {
   "cell_type": "code",
   "execution_count": 66,
   "id": "95642497",
   "metadata": {},
   "outputs": [
    {
     "data": {
      "text/plain": [
       "array('fail', dtype='<U4')"
      ]
     },
     "execution_count": 66,
     "metadata": {},
     "output_type": "execute_result"
    }
   ],
   "source": [
    "# use of np.where\n",
    "marks=50\n",
    "np.where(marks>60,'pass','fail')"
   ]
  },
  {
   "cell_type": "code",
   "execution_count": 67,
   "id": "3f03ebc2",
   "metadata": {},
   "outputs": [
    {
     "data": {
      "text/plain": [
       "array('pass', dtype='<U4')"
      ]
     },
     "execution_count": 67,
     "metadata": {},
     "output_type": "execute_result"
    }
   ],
   "source": [
    "marks=75\n",
    "np.where(marks>60,'pass','fail')"
   ]
  },
  {
   "cell_type": "code",
   "execution_count": 71,
   "id": "4978a4f3",
   "metadata": {},
   "outputs": [
    {
     "name": "stdout",
     "output_type": "stream",
     "text": [
      "[ 11  22  26  14  29  38  13  24  47   3  37  36  -5  -9  42  25  -7  -5\n",
      "  25   8  -7  32  12   8  18 -10   0  10  11  26  -7  -9  -5  26  45  -3\n",
      "  16   0   5  46  41  -1  29  16  44  41  11  -5  42  16  38  24   2  43\n",
      "  16  37  16  27 -10  39  15  34  30   3   3   7  46  24   9  35  43  31\n",
      "   9  -1  21   0  45  45  45  22  -4  31  -3  15   8  24  27  28  14  30\n",
      "  47   0  31  10  11  30  12  39   9   8]\n"
     ]
    },
    {
     "data": {
      "text/plain": [
       "96"
      ]
     },
     "execution_count": 71,
     "metadata": {},
     "output_type": "execute_result"
    }
   ],
   "source": [
    "# Check for non zero\n",
    "non_zero=ri(-10,50,100)\n",
    "print(non_zero)\n",
    "np.count_nonzero(non_zero)"
   ]
  },
  {
   "cell_type": "code",
   "execution_count": 74,
   "id": "1bdabcaf",
   "metadata": {},
   "outputs": [
    {
     "data": {
      "text/plain": [
       "array([[19, 15, 17,  1],\n",
       "       [17, 10,  0,  8],\n",
       "       [ 7,  5,  6, 12]])"
      ]
     },
     "execution_count": 74,
     "metadata": {},
     "output_type": "execute_result"
    }
   ],
   "source": [
    "#Ravel and Flattern(deep learning concepts for image processing)\n",
    "a=np.random.randint(0,20,size=(3,4))\n",
    "a"
   ]
  },
  {
   "cell_type": "code",
   "execution_count": 75,
   "id": "2ea99244",
   "metadata": {},
   "outputs": [
    {
     "data": {
      "text/plain": [
       "array([19, 15, 17,  1, 17, 10,  0,  8,  7,  5,  6, 12])"
      ]
     },
     "execution_count": 75,
     "metadata": {},
     "output_type": "execute_result"
    }
   ],
   "source": [
    "a.ravel()"
   ]
  },
  {
   "cell_type": "code",
   "execution_count": 76,
   "id": "8d5ab224",
   "metadata": {},
   "outputs": [
    {
     "data": {
      "text/plain": [
       "array([19, 15, 17,  1, 17, 10,  0,  8,  7,  5,  6, 12])"
      ]
     },
     "execution_count": 76,
     "metadata": {},
     "output_type": "execute_result"
    }
   ],
   "source": [
    "a.flatten()   # both gives same results more details will learn in deep learning"
   ]
  },
  {
   "cell_type": "markdown",
   "id": "138b7bf0",
   "metadata": {},
   "source": [
    "# Universal Functions\n",
    "For function like /,*,+,- of matrix"
   ]
  },
  {
   "cell_type": "code",
   "execution_count": 78,
   "id": "18f28d40",
   "metadata": {},
   "outputs": [
    {
     "name": "stdout",
     "output_type": "stream",
     "text": [
      "Matrix 1\n",
      " [[5 5 4]\n",
      " [4 4 9]\n",
      " [8 5 4]]\n",
      "\n",
      "Matrix 2\n",
      " [[2 8 9]\n",
      " [2 1 8]\n",
      " [6 1 6]]\n"
     ]
    }
   ],
   "source": [
    "mat1=np.array(ri(1,10,9)).reshape(3,3)\n",
    "mat2=np.array(ri(1,10,9)).reshape(3,3)\n",
    "# two matrix with same data gives different values\n",
    "print(\"Matrix 1\\n\",mat1)\n",
    "print(\"\\nMatrix 2\\n\",mat2)"
   ]
  },
  {
   "cell_type": "code",
   "execution_count": 79,
   "id": "203263a6",
   "metadata": {},
   "outputs": [
    {
     "name": "stdout",
     "output_type": "stream",
     "text": [
      "[[ 7 13 13]\n",
      " [ 6  5 17]\n",
      " [14  6 10]]\n"
     ]
    }
   ],
   "source": [
    "print(mat1+mat2)"
   ]
  },
  {
   "cell_type": "code",
   "execution_count": 80,
   "id": "f8f48d28",
   "metadata": {},
   "outputs": [
    {
     "name": "stdout",
     "output_type": "stream",
     "text": [
      "[[10 40 36]\n",
      " [ 8  4 72]\n",
      " [48  5 24]]\n"
     ]
    }
   ],
   "source": [
    "print(mat1*mat2)"
   ]
  },
  {
   "cell_type": "markdown",
   "id": "475c1e0e",
   "metadata": {},
   "source": [
    "# Broadcasting"
   ]
  },
  {
   "cell_type": "code",
   "execution_count": 82,
   "id": "6718bb4f",
   "metadata": {},
   "outputs": [
    {
     "data": {
      "text/plain": [
       "array([[0., 0., 0.],\n",
       "       [0., 0., 0.],\n",
       "       [0., 0., 0.]])"
      ]
     },
     "execution_count": 82,
     "metadata": {},
     "output_type": "execute_result"
    }
   ],
   "source": [
    "start=np.zeros((3,3))\n",
    "start   # matriz 1"
   ]
  },
  {
   "cell_type": "code",
   "execution_count": 84,
   "id": "bf9b79b1",
   "metadata": {},
   "outputs": [
    {
     "data": {
      "text/plain": [
       "array([[1, 0, 2]])"
      ]
     },
     "execution_count": 84,
     "metadata": {},
     "output_type": "execute_result"
    }
   ],
   "source": [
    "add_row=np.array([[1,0,2]])\n",
    "add_row   # matrix 2"
   ]
  },
  {
   "cell_type": "code",
   "execution_count": 85,
   "id": "cfa48f3e",
   "metadata": {},
   "outputs": [
    {
     "data": {
      "text/plain": [
       "array([[1., 0., 2.],\n",
       "       [1., 0., 2.],\n",
       "       [1., 0., 2.]])"
      ]
     },
     "execution_count": 85,
     "metadata": {},
     "output_type": "execute_result"
    }
   ],
   "source": [
    "test1=start+add_row\n",
    "test1"
   ]
  },
  {
   "cell_type": "code",
   "execution_count": 86,
   "id": "1f8cf308",
   "metadata": {},
   "outputs": [
    {
     "data": {
      "text/plain": [
       "array([[1],\n",
       "       [0],\n",
       "       [2]])"
      ]
     },
     "execution_count": 86,
     "metadata": {},
     "output_type": "execute_result"
    }
   ],
   "source": [
    "new_row=add_row.T   # .T is transpose which convert row into column and column into eow\n",
    "new_row"
   ]
  },
  {
   "cell_type": "code",
   "execution_count": 87,
   "id": "81225b10",
   "metadata": {},
   "outputs": [
    {
     "data": {
      "text/plain": [
       "array([[1., 1., 1.],\n",
       "       [0., 0., 0.],\n",
       "       [2., 2., 2.]])"
      ]
     },
     "execution_count": 87,
     "metadata": {},
     "output_type": "execute_result"
    }
   ],
   "source": [
    "test2=new_row+start\n",
    "test2"
   ]
  },
  {
   "cell_type": "code",
   "execution_count": null,
   "id": "b09a4078",
   "metadata": {},
   "outputs": [],
   "source": []
  }
 ],
 "metadata": {
  "kernelspec": {
   "display_name": "Python 3 (ipykernel)",
   "language": "python",
   "name": "python3"
  },
  "language_info": {
   "codemirror_mode": {
    "name": "ipython",
    "version": 3
   },
   "file_extension": ".py",
   "mimetype": "text/x-python",
   "name": "python",
   "nbconvert_exporter": "python",
   "pygments_lexer": "ipython3",
   "version": "3.9.12"
  }
 },
 "nbformat": 4,
 "nbformat_minor": 5
}
