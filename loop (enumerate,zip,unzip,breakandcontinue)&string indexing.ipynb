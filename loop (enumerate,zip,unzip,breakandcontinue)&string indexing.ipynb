{
 "cells": [
  {
   "cell_type": "markdown",
   "id": "8b7171dc",
   "metadata": {},
   "source": [
    "# enumerate\n"
   ]
  },
  {
   "cell_type": "markdown",
   "id": "f47061c3",
   "metadata": {},
   "source": [
    ".It is used to have track for both index and element both will be reflected"
   ]
  },
  {
   "cell_type": "code",
   "execution_count": 3,
   "id": "f7bdbbfd",
   "metadata": {},
   "outputs": [
    {
     "name": "stdout",
     "output_type": "stream",
     "text": [
      "(0, 'delhi')\n",
      "(1, 'jaipur')\n",
      "(2, 'ajmer')\n",
      "(3, 'kota')\n",
      "(4, 'amer')\n",
      "(5, 'haryana')\n"
     ]
    }
   ],
   "source": [
    "location=['delhi','jaipur','ajmer','kota','amer','haryana']\n",
    "for city in enumerate(location):\n",
    "    print(city)"
   ]
  },
  {
   "cell_type": "code",
   "execution_count": 4,
   "id": "5239bfb5",
   "metadata": {},
   "outputs": [
    {
     "name": "stdout",
     "output_type": "stream",
     "text": [
      "(11, 'delhi')\n",
      "(12, 'jaipur')\n",
      "(13, 'ajmer')\n",
      "(14, 'kota')\n",
      "(15, 'amer')\n",
      "(16, 'haryana')\n"
     ]
    }
   ],
   "source": [
    "location=['delhi','jaipur','ajmer','kota','amer','haryana']\n",
    "for city in enumerate(location,11):\n",
    "    print(city)                # when you want to start from particular number."
   ]
  },
  {
   "cell_type": "markdown",
   "id": "5776398b",
   "metadata": {},
   "source": [
    "# Zip:-"
   ]
  },
  {
   "cell_type": "markdown",
   "id": "478de141",
   "metadata": {},
   "source": [
    "It is used to combine two or more data elements together or you can say merging of data to form a list."
   ]
  },
  {
   "cell_type": "code",
   "execution_count": 6,
   "id": "25fdee11",
   "metadata": {},
   "outputs": [
    {
     "data": {
      "text/plain": [
       "[('akki', 70), ('kuchi', 80), ('addu', 85), ('arti', 90)]"
      ]
     },
     "execution_count": 6,
     "metadata": {},
     "output_type": "execute_result"
    }
   ],
   "source": [
    "name=['akki','kuchi','addu','arti']\n",
    "marks=[70,80,85,90]\n",
    "details=list(zip(name,marks))\n",
    "details"
   ]
  },
  {
   "cell_type": "markdown",
   "id": "9c083cf0",
   "metadata": {},
   "source": [
    "# Unzip:-"
   ]
  },
  {
   "cell_type": "markdown",
   "id": "c7fc70f7",
   "metadata": {},
   "source": [
    ".It is used to unmerge the data."
   ]
  },
  {
   "cell_type": "code",
   "execution_count": 7,
   "id": "cf4aeadd",
   "metadata": {},
   "outputs": [],
   "source": [
    "name,marks=zip(*details)"
   ]
  },
  {
   "cell_type": "code",
   "execution_count": 8,
   "id": "f81efbaf",
   "metadata": {},
   "outputs": [
    {
     "data": {
      "text/plain": [
       "('akki', 'kuchi', 'addu', 'arti')"
      ]
     },
     "execution_count": 8,
     "metadata": {},
     "output_type": "execute_result"
    }
   ],
   "source": [
    "name"
   ]
  },
  {
   "cell_type": "code",
   "execution_count": 9,
   "id": "f94d242f",
   "metadata": {},
   "outputs": [
    {
     "data": {
      "text/plain": [
       "(70, 80, 85, 90)"
      ]
     },
     "execution_count": 9,
     "metadata": {},
     "output_type": "execute_result"
    }
   ],
   "source": [
    "marks"
   ]
  },
  {
   "cell_type": "markdown",
   "id": "125f3d63",
   "metadata": {},
   "source": [
    "# break and continue:-"
   ]
  },
  {
   "cell_type": "code",
   "execution_count": 22,
   "id": "8487cf0c",
   "metadata": {},
   "outputs": [
    {
     "name": "stdout",
     "output_type": "stream",
     "text": [
      "delhi\n",
      "jaipur\n"
     ]
    }
   ],
   "source": [
    "# Break- it is used for terminate the loop and control the flow of program.\n",
    "\n",
    "city=['delhi','jaipur','ajmer','kota']\n",
    "for val in city:\n",
    "    if val=='ajmer':\n",
    "        break\n",
    "    print(val)"
   ]
  },
  {
   "cell_type": "code",
   "execution_count": 21,
   "id": "7b464bfe",
   "metadata": {},
   "outputs": [
    {
     "name": "stdout",
     "output_type": "stream",
     "text": [
      "2000\n",
      "3000\n",
      "4000\n",
      "4500\n",
      "3800\n"
     ]
    }
   ],
   "source": [
    "#Continue- used to skip the rest of the code inside the loop and doesn't terminate the loop\n",
    "salary=[2000,3000,4000,7000,8000,4500,3800]\n",
    "\n",
    "for val in salary:\n",
    "    if val > 5500:\n",
    "        continue\n",
    "    print(val)    "
   ]
  },
  {
   "cell_type": "markdown",
   "id": "e635245e",
   "metadata": {},
   "source": [
    "# String indexing:-"
   ]
  },
  {
   "cell_type": "code",
   "execution_count": 23,
   "id": "384079bd",
   "metadata": {},
   "outputs": [
    {
     "name": "stdout",
     "output_type": "stream",
     "text": [
      "bharti is best\n"
     ]
    }
   ],
   "source": [
    "a='bharti is best'                 # space in between words also have their index positions so they also be count.\n",
    "print(a)"
   ]
  },
  {
   "cell_type": "code",
   "execution_count": 25,
   "id": "764afd01",
   "metadata": {},
   "outputs": [
    {
     "data": {
      "text/plain": [
       "'harti is best'"
      ]
     },
     "execution_count": 25,
     "metadata": {},
     "output_type": "execute_result"
    }
   ],
   "source": [
    "a[1:]"
   ]
  },
  {
   "cell_type": "code",
   "execution_count": 27,
   "id": "63abaf7f",
   "metadata": {},
   "outputs": [
    {
     "data": {
      "text/plain": [
       "'ti is bes'"
      ]
     },
     "execution_count": 27,
     "metadata": {},
     "output_type": "execute_result"
    }
   ],
   "source": [
    "a[4:13]"
   ]
  },
  {
   "cell_type": "code",
   "execution_count": 28,
   "id": "1b71b573",
   "metadata": {},
   "outputs": [
    {
     "data": {
      "text/plain": [
       "'t'"
      ]
     },
     "execution_count": 28,
     "metadata": {},
     "output_type": "execute_result"
    }
   ],
   "source": [
    "a[-1]                    # when there is -1 it starts from reverse."
   ]
  },
  {
   "cell_type": "code",
   "execution_count": 29,
   "id": "9781dd30",
   "metadata": {},
   "outputs": [
    {
     "data": {
      "text/plain": [
       "'bat sbs'"
      ]
     },
     "execution_count": 29,
     "metadata": {},
     "output_type": "execute_result"
    }
   ],
   "source": [
    "a[::2]                   # here 2 is step size."
   ]
  },
  {
   "cell_type": "code",
   "execution_count": 30,
   "id": "63f2ed58",
   "metadata": {},
   "outputs": [
    {
     "data": {
      "text/plain": [
       "'te iirh'"
      ]
     },
     "execution_count": 30,
     "metadata": {},
     "output_type": "execute_result"
    }
   ],
   "source": [
    "a[::-2]"
   ]
  },
  {
   "cell_type": "code",
   "execution_count": null,
   "id": "0ac7c9dc",
   "metadata": {},
   "outputs": [],
   "source": []
  }
 ],
 "metadata": {
  "kernelspec": {
   "display_name": "Python 3 (ipykernel)",
   "language": "python",
   "name": "python3"
  },
  "language_info": {
   "codemirror_mode": {
    "name": "ipython",
    "version": 3
   },
   "file_extension": ".py",
   "mimetype": "text/x-python",
   "name": "python",
   "nbconvert_exporter": "python",
   "pygments_lexer": "ipython3",
   "version": "3.9.12"
  }
 },
 "nbformat": 4,
 "nbformat_minor": 5
}
