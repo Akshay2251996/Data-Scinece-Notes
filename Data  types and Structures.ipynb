{
 "cells": [
  {
   "cell_type": "markdown",
   "id": "bfb6e5a7",
   "metadata": {},
   "source": [
    "# Data types/Structures\n",
    "1 Numbers\n",
    "2 String\n",
    "3 List\n",
    "4 Tuple\n",
    "5 Set\n",
    "6 Dictonary"
   ]
  },
  {
   "cell_type": "markdown",
   "id": "6fc84a97",
   "metadata": {},
   "source": [
    "1. Number"
   ]
  },
  {
   "cell_type": "code",
   "execution_count": 1,
   "id": "a9e56ace",
   "metadata": {},
   "outputs": [
    {
     "data": {
      "text/plain": [
       "int"
      ]
     },
     "execution_count": 1,
     "metadata": {},
     "output_type": "execute_result"
    }
   ],
   "source": [
    "a=20\n",
    "type(a)"
   ]
  },
  {
   "cell_type": "code",
   "execution_count": 2,
   "id": "df743e01",
   "metadata": {},
   "outputs": [
    {
     "data": {
      "text/plain": [
       "float"
      ]
     },
     "execution_count": 2,
     "metadata": {},
     "output_type": "execute_result"
    }
   ],
   "source": [
    "a=20.2\n",
    "type(a)"
   ]
  },
  {
   "cell_type": "markdown",
   "id": "2c57ebe3",
   "metadata": {},
   "source": [
    "2. String\n",
    ".It is always in quotes '',\"\",or \"''\".\n"
   ]
  },
  {
   "cell_type": "code",
   "execution_count": 11,
   "id": "d797ee28",
   "metadata": {},
   "outputs": [
    {
     "data": {
      "text/plain": [
       "str"
      ]
     },
     "execution_count": 11,
     "metadata": {},
     "output_type": "execute_result"
    }
   ],
   "source": [
    "a= 'akshay'\n",
    "b= ' love'\n",
    "c= ' coding'\n",
    "z=a+b+c\n",
    "type(z)"
   ]
  },
  {
   "cell_type": "code",
   "execution_count": 12,
   "id": "b6bdd3dc",
   "metadata": {},
   "outputs": [
    {
     "name": "stdout",
     "output_type": "stream",
     "text": [
      "akshay love coding\n"
     ]
    }
   ],
   "source": [
    "a= 'akshay'\n",
    "b= ' love'\n",
    "c= ' coding'\n",
    "z=a+b+c\n",
    "print(z)"
   ]
  },
  {
   "cell_type": "code",
   "execution_count": 15,
   "id": "04cf1698",
   "metadata": {},
   "outputs": [
    {
     "name": "stdout",
     "output_type": "stream",
     "text": [
      " Akshay Akshay Akshay Akshay Akshay\n"
     ]
    }
   ],
   "source": [
    "print(' Akshay' * 5)"
   ]
  },
  {
   "cell_type": "code",
   "execution_count": 3,
   "id": "f968589e",
   "metadata": {},
   "outputs": [
    {
     "name": "stdout",
     "output_type": "stream",
     "text": [
      "------------------------------\n",
      "           akshay\n",
      "------------------------------\n"
     ]
    }
   ],
   "source": [
    "print('-' * 30)\n",
    "print('           akshay')\n",
    "print('-' * 30)"
   ]
  },
  {
   "cell_type": "markdown",
   "id": "394252a9",
   "metadata": {},
   "source": [
    "3. List\n",
    ".It is in square brackets []\n",
    ".IT is mutable means you can do anything like edit, add, remove, insert, etc,.\n",
    ".It accepts all kind of data types like float, integer, string, etc,."
   ]
  },
  {
   "cell_type": "code",
   "execution_count": 4,
   "id": "3c438023",
   "metadata": {},
   "outputs": [
    {
     "data": {
      "text/plain": [
       "['a', 'b', 'c']"
      ]
     },
     "execution_count": 4,
     "metadata": {},
     "output_type": "execute_result"
    }
   ],
   "source": [
    "l=['a','b','c']\n",
    "l"
   ]
  },
  {
   "cell_type": "code",
   "execution_count": 5,
   "id": "2ef8d7a8",
   "metadata": {},
   "outputs": [
    {
     "data": {
      "text/plain": [
       "['a', 6, 65.5]"
      ]
     },
     "execution_count": 5,
     "metadata": {},
     "output_type": "execute_result"
    }
   ],
   "source": [
    "# with string , integer and float\n",
    "l=['a',6,65.5]\n",
    "l"
   ]
  },
  {
   "cell_type": "code",
   "execution_count": 6,
   "id": "510bb540",
   "metadata": {},
   "outputs": [
    {
     "data": {
      "text/plain": [
       "['a', 6, 65.5]"
      ]
     },
     "execution_count": 6,
     "metadata": {},
     "output_type": "execute_result"
    }
   ],
   "source": [
    "# to copy into another list\n",
    "l2=list(l)\n",
    "l2"
   ]
  },
  {
   "cell_type": "code",
   "execution_count": 8,
   "id": "c06f28c6",
   "metadata": {},
   "outputs": [
    {
     "data": {
      "text/plain": [
       "[30, 40, 22, 55, 25]"
      ]
     },
     "execution_count": 8,
     "metadata": {},
     "output_type": "execute_result"
    }
   ],
   "source": [
    "marks=[30,40,22,55,25]\n",
    "marks"
   ]
  },
  {
   "cell_type": "code",
   "execution_count": 9,
   "id": "eac5b010",
   "metadata": {},
   "outputs": [
    {
     "data": {
      "text/plain": [
       "[30, 40, 22, 55, 25]"
      ]
     },
     "execution_count": 9,
     "metadata": {},
     "output_type": "execute_result"
    }
   ],
   "source": [
    "copy_marks=marks.copy()\n",
    "copy_marks"
   ]
  },
  {
   "cell_type": "code",
   "execution_count": 10,
   "id": "e667e6f8",
   "metadata": {},
   "outputs": [
    {
     "data": {
      "text/plain": [
       "[30, 40, 22, 55, 25]"
      ]
     },
     "execution_count": 10,
     "metadata": {},
     "output_type": "execute_result"
    }
   ],
   "source": [
    "copy_marks"
   ]
  },
  {
   "cell_type": "code",
   "execution_count": 13,
   "id": "1221e466",
   "metadata": {},
   "outputs": [
    {
     "data": {
      "text/plain": [
       "['a', 'k', 's', 'h', 'a', 'y']"
      ]
     },
     "execution_count": 13,
     "metadata": {},
     "output_type": "execute_result"
    }
   ],
   "source": [
    "list('akshay')"
   ]
  },
  {
   "cell_type": "markdown",
   "id": "cc504e74",
   "metadata": {},
   "source": [
    "-> Functions:-\n",
    "1 append(to add in list)\n",
    "2 index&insert(to add in between in list and how to count in list)\n",
    "3 Indexing and Slicing (Length, reasigning, fetching data, add by another method)\n",
    "4 Advance list (count,index,extend,pop)"
   ]
  },
  {
   "cell_type": "code",
   "execution_count": 14,
   "id": "59b9297a",
   "metadata": {},
   "outputs": [
    {
     "name": "stdout",
     "output_type": "stream",
     "text": [
      "['akshay']\n"
     ]
    }
   ],
   "source": [
    "# .append(always add data in last)\n",
    "student=[]\n",
    "student.append('akshay')\n",
    "print(student)\n"
   ]
  },
  {
   "cell_type": "code",
   "execution_count": 15,
   "id": "365f57f0",
   "metadata": {},
   "outputs": [
    {
     "name": "stdout",
     "output_type": "stream",
     "text": [
      "['akshay', 'bhart', 'aditi']\n"
     ]
    }
   ],
   "source": [
    "student.append('bhart')\n",
    "student.append('aditi')\n",
    "print(student)\n"
   ]
  },
  {
   "cell_type": "code",
   "execution_count": 19,
   "id": "f8ec853c",
   "metadata": {},
   "outputs": [
    {
     "name": "stdout",
     "output_type": "stream",
     "text": [
      "['akshay', 'bhart', 'priya', 'aditi']\n"
     ]
    }
   ],
   "source": [
    "# Index & Insert (to add and fix in between) Formulae- .insert(location,'data')\n",
    "\n",
    "# Index:- student=['akshay','bharti','aditi'] so if we do index than akshay=0 bharti=1 aditi=2 they are its indexing position.\n",
    "\n",
    "# Now to add priya in between bharti and aditi we have to insert it as follow:\n",
    "\n",
    "student.insert(2,'priya')                                    #2=position at where priya is to be add\n",
    "print(student)"
   ]
  },
  {
   "cell_type": "code",
   "execution_count": 21,
   "id": "a5f6ba68",
   "metadata": {},
   "outputs": [
    {
     "data": {
      "text/plain": [
       "[10, 50, 60]"
      ]
     },
     "execution_count": 21,
     "metadata": {},
     "output_type": "execute_result"
    }
   ],
   "source": [
    "student_rollno=[10,50,60]\n",
    "student_rollno"
   ]
  },
  {
   "cell_type": "code",
   "execution_count": 23,
   "id": "db20ad2f",
   "metadata": {},
   "outputs": [
    {
     "data": {
      "text/plain": [
       "[22, 10, 50, 60]"
      ]
     },
     "execution_count": 23,
     "metadata": {},
     "output_type": "execute_result"
    }
   ],
   "source": [
    "student_rollno.insert(0,22)\n",
    "student_rollno"
   ]
  },
  {
   "cell_type": "code",
   "execution_count": 1,
   "id": "b788df27",
   "metadata": {},
   "outputs": [
    {
     "data": {
      "text/plain": [
       "[10000, 20000, 30000, 40000]"
      ]
     },
     "execution_count": 1,
     "metadata": {},
     "output_type": "execute_result"
    }
   ],
   "source": [
    "#  Indexing and Slicing (Length, reasigning, fetching data, add by another method)\n",
    "\n",
    "#Length= len():-\n",
    "salary=[10000,20000,30000,40000]\n",
    "salary\n"
   ]
  },
  {
   "cell_type": "code",
   "execution_count": 2,
   "id": "812921a1",
   "metadata": {},
   "outputs": [
    {
     "data": {
      "text/plain": [
       "4"
      ]
     },
     "execution_count": 2,
     "metadata": {},
     "output_type": "execute_result"
    }
   ],
   "source": [
    "len(salary)"
   ]
  },
  {
   "cell_type": "code",
   "execution_count": 3,
   "id": "84707918",
   "metadata": {},
   "outputs": [
    {
     "data": {
      "text/plain": [
       "[10000, 11000, 30000, 40000]"
      ]
     },
     "execution_count": 3,
     "metadata": {},
     "output_type": "execute_result"
    }
   ],
   "source": [
    "# Reassigning(to replace and reassign with old one with new one)\n",
    "salary[1]=11000\n",
    "salary                            # 20000 replaced by 11000"
   ]
  },
  {
   "cell_type": "code",
   "execution_count": 4,
   "id": "fb3cb58a",
   "metadata": {},
   "outputs": [
    {
     "data": {
      "text/plain": [
       "[11000, 30000, 40000]"
      ]
     },
     "execution_count": 4,
     "metadata": {},
     "output_type": "execute_result"
    }
   ],
   "source": [
    "# Fetching data:- Formulae [starting index : end index]\n",
    "\n",
    "salary[1:]                        # started from position 1 till end"
   ]
  },
  {
   "cell_type": "code",
   "execution_count": 5,
   "id": "e4acb15a",
   "metadata": {},
   "outputs": [
    {
     "data": {
      "text/plain": [
       "[10000, 11000, 30000]"
      ]
     },
     "execution_count": 5,
     "metadata": {},
     "output_type": "execute_result"
    }
   ],
   "source": [
    "salary[:3]                        # started from 0 position till second last position because last postion is excluded"
   ]
  },
  {
   "cell_type": "code",
   "execution_count": 6,
   "id": "bf7c2469",
   "metadata": {},
   "outputs": [
    {
     "data": {
      "text/plain": [
       "[11000, 30000]"
      ]
     },
     "execution_count": 6,
     "metadata": {},
     "output_type": "execute_result"
    }
   ],
   "source": [
    "salary[1:3]                       # started from 1 end at 2"
   ]
  },
  {
   "cell_type": "code",
   "execution_count": 7,
   "id": "01de0c4a",
   "metadata": {},
   "outputs": [
    {
     "data": {
      "text/plain": [
       "[10000, 11000, 30000, 40000, 50000]"
      ]
     },
     "execution_count": 7,
     "metadata": {},
     "output_type": "execute_result"
    }
   ],
   "source": [
    "# To add data (temporary & permanent)\n",
    "\n",
    "# 1.Temporary\n",
    "salary + [50000]"
   ]
  },
  {
   "cell_type": "code",
   "execution_count": 8,
   "id": "47f7f02e",
   "metadata": {},
   "outputs": [
    {
     "data": {
      "text/plain": [
       "[10000, 11000, 30000, 40000]"
      ]
     },
     "execution_count": 8,
     "metadata": {},
     "output_type": "execute_result"
    }
   ],
   "source": [
    "salary                         # 50000 removed because it added temporary"
   ]
  },
  {
   "cell_type": "code",
   "execution_count": 9,
   "id": "89eecfb4",
   "metadata": {},
   "outputs": [
    {
     "data": {
      "text/plain": [
       "[10000, 11000, 30000, 40000, 50000]"
      ]
     },
     "execution_count": 9,
     "metadata": {},
     "output_type": "execute_result"
    }
   ],
   "source": [
    "# 2.Permqnent\n",
    "salary=salary+[50000]\n",
    "salary"
   ]
  },
  {
   "cell_type": "code",
   "execution_count": 10,
   "id": "a95b9cbf",
   "metadata": {},
   "outputs": [
    {
     "data": {
      "text/plain": [
       "[10000, 11000, 30000, 40000, 50000]"
      ]
     },
     "execution_count": 10,
     "metadata": {},
     "output_type": "execute_result"
    }
   ],
   "source": [
    "salary                       # not removed because by this it added permanent"
   ]
  },
  {
   "cell_type": "code",
   "execution_count": 1,
   "id": "3ce4a2a7",
   "metadata": {},
   "outputs": [
    {
     "data": {
      "text/plain": [
       "4"
      ]
     },
     "execution_count": 1,
     "metadata": {},
     "output_type": "execute_result"
    }
   ],
   "source": [
    "# Advance list(count,index,extend,pop)\n",
    "\n",
    "# Count- .count()             # It is used to count particular data that hoew many number odf times it is there iin data\n",
    "marks=[10,20,30,10,40,50,10,60,70,10]\n",
    "marks.count(10)              #total numbr of 10 is 4"
   ]
  },
  {
   "cell_type": "code",
   "execution_count": 2,
   "id": "35dbaf44",
   "metadata": {},
   "outputs": [
    {
     "data": {
      "text/plain": [
       "0"
      ]
     },
     "execution_count": 2,
     "metadata": {},
     "output_type": "execute_result"
    }
   ],
   "source": [
    "# Index- .index()\n",
    "# It is used to find the index position of particular data given but only reflect the first no. if it was repeated.\n",
    "\n",
    "marks=[10,20,30,10,40,50,10,60,70,10]               # 10 is given multiple time than is shows index position of first '10'\n",
    "marks.index(10)                                     # '0' is the index position of first '10'"
   ]
  },
  {
   "cell_type": "code",
   "execution_count": 3,
   "id": "cd29415e",
   "metadata": {},
   "outputs": [
    {
     "data": {
      "text/plain": [
       "3"
      ]
     },
     "execution_count": 3,
     "metadata": {},
     "output_type": "execute_result"
    }
   ],
   "source": [
    "marks=[0,20,30,10,40,50,10,60,70,10]              # to find index of further '10' you have to change the number 10 with other.\n",
    "marks=[0,20,30,10,40,50,10,60,70,10]              # 10 is changed with 0, now find index of next 10.\n",
    "marks.index(10)                                   # Repeat further to findex index of other."
   ]
  },
  {
   "cell_type": "code",
   "execution_count": 6,
   "id": "09adf6bb",
   "metadata": {},
   "outputs": [
    {
     "data": {
      "text/plain": [
       "['akki', 'kucchi', 'tintin', 'digi']"
      ]
     },
     "execution_count": 6,
     "metadata": {},
     "output_type": "execute_result"
    }
   ],
   "source": [
    "# Extend- .extend()                 # It is used to add multiple data at single time that we can't do in .append.\n",
    "student=['akki','kucchi','tintin','digi']\n",
    "student"
   ]
  },
  {
   "cell_type": "code",
   "execution_count": 8,
   "id": "5c070efe",
   "metadata": {},
   "outputs": [
    {
     "name": "stdout",
     "output_type": "stream",
     "text": [
      "['akki', 'kucchi', 'tintin', 'digi', 'arti', 'priya', 'arti', 'priya']\n"
     ]
    }
   ],
   "source": [
    "student.extend(['arti','priya'])    # both the name should be add at one shot.\n",
    "print(student)"
   ]
  },
  {
   "cell_type": "code",
   "execution_count": 10,
   "id": "b4e522ed",
   "metadata": {},
   "outputs": [
    {
     "name": "stdout",
     "output_type": "stream",
     "text": [
      "['akki', 'kucchi', 'tintin']\n"
     ]
    }
   ],
   "source": [
    "# Pop- .pop       # it is used to eliminate or delete element from the data. If pop() is empty it will delete last one.\n",
    "student=['akki','kucchi','tintin','digi']\n",
    "student.pop()\n",
    "print(student)     # Automatically deletes the last one 'digi'."
   ]
  },
  {
   "cell_type": "code",
   "execution_count": 12,
   "id": "07754d48",
   "metadata": {},
   "outputs": [
    {
     "data": {
      "text/plain": [
       "['kucchi', 'tintin', 'digi']"
      ]
     },
     "execution_count": 12,
     "metadata": {},
     "output_type": "execute_result"
    }
   ],
   "source": [
    "# By giving index posiotion in .pop you can remove desired element.Other elements only eliminate by giving index position.\n",
    "student=['akki','kucchi','tintin','digi']\n",
    "student.pop(0)            # '0' is the index psoition of 'akki'.\n",
    "student"
   ]
  },
  {
   "cell_type": "code",
   "execution_count": 13,
   "id": "2b374899",
   "metadata": {},
   "outputs": [
    {
     "name": "stdout",
     "output_type": "stream",
     "text": [
      "['kucchi', 'tintin', 'digi']\n"
     ]
    }
   ],
   "source": [
    "# Remove- .remove()  # It is used to delete element by directly mentioning element.If there are duplicates it will remove first.\n",
    "student=['akki','kucchi','tintin','digi']\n",
    "student.remove('akki')       # akki is removed by directly mentioning it.\n",
    "print(student)"
   ]
  },
  {
   "cell_type": "code",
   "execution_count": 14,
   "id": "dac9d528",
   "metadata": {},
   "outputs": [
    {
     "data": {
      "text/plain": [
       "['akki', 'tintin', 'digi', 'kucchi']"
      ]
     },
     "execution_count": 14,
     "metadata": {},
     "output_type": "execute_result"
    }
   ],
   "source": [
    "student=['akki','kucchi','tintin','digi','kucchi']  # there are two kucchi's are in data.\n",
    "student.remove('kucchi')\n",
    "student                                              # first kucchi is removed."
   ]
  },
  {
   "cell_type": "code",
   "execution_count": 15,
   "id": "13bd3ef5",
   "metadata": {},
   "outputs": [
    {
     "data": {
      "text/plain": [
       "[50, 80, 70, 60, 40, 30, 10, 20]"
      ]
     },
     "execution_count": 15,
     "metadata": {},
     "output_type": "execute_result"
    }
   ],
   "source": [
    "# Reverse- .reverse()                   # It is used to reverse the list.\n",
    "roll_number=[20,10,30,40,60,70,80,50]\n",
    "roll_number.reverse()\n",
    "roll_number                             # data will be reverse."
   ]
  },
  {
   "cell_type": "code",
   "execution_count": 16,
   "id": "21d02e60",
   "metadata": {},
   "outputs": [
    {
     "data": {
      "text/plain": [
       "[10, 20, 30, 40, 50, 60, 70, 80]"
      ]
     },
     "execution_count": 16,
     "metadata": {},
     "output_type": "execute_result"
    }
   ],
   "source": [
    "# Sort- .sort()               # It is used to sort or arrange data in ascending order.\n",
    "roll_number=[20,10,30,40,60,70,80,50]\n",
    "roll_number.sort()\n",
    "roll_number                   # data sorted in ascending order."
   ]
  },
  {
   "cell_type": "code",
   "execution_count": 17,
   "id": "5b150cea",
   "metadata": {},
   "outputs": [
    {
     "data": {
      "text/plain": [
       "['akki', 'digi', 'kucchi', 'tintin']"
      ]
     },
     "execution_count": 17,
     "metadata": {},
     "output_type": "execute_result"
    }
   ],
   "source": [
    "student=['akki','kucchi','tintin','digi']       #if there is text than it will be sorted in alphabetically.\n",
    "student.sort()\n",
    "student"
   ]
  },
  {
   "cell_type": "markdown",
   "id": "122dbc12",
   "metadata": {},
   "source": [
    "3. Tuple :-\n",
    ".IT is in parenthesis '()'.\n",
    ".It is immutable that means you can't do or change anything with data.\n",
    ".Tuple can be converted into list(tuple<->list) to edit or do change in data. After, that list also converted to tuple.\n",
    ".len(), count(), index() you can apply in tupple because it do not changes the data.\n",
    ".There are only two basic methods in tuple are count and index."
   ]
  },
  {
   "cell_type": "code",
   "execution_count": 18,
   "id": "6328f3b0",
   "metadata": {},
   "outputs": [
    {
     "data": {
      "text/plain": [
       "tuple"
      ]
     },
     "execution_count": 18,
     "metadata": {},
     "output_type": "execute_result"
    }
   ],
   "source": [
    "location=('Delhi','Jaipur','Gurugram','Agra')    # data is in tuple.\n",
    "type(location)"
   ]
  },
  {
   "cell_type": "code",
   "execution_count": 19,
   "id": "32f001ec",
   "metadata": {},
   "outputs": [
    {
     "data": {
      "text/plain": [
       "4"
      ]
     },
     "execution_count": 19,
     "metadata": {},
     "output_type": "execute_result"
    }
   ],
   "source": [
    "len(location)"
   ]
  },
  {
   "cell_type": "code",
   "execution_count": 21,
   "id": "d3679051",
   "metadata": {},
   "outputs": [
    {
     "data": {
      "text/plain": [
       "1"
      ]
     },
     "execution_count": 21,
     "metadata": {},
     "output_type": "execute_result"
    }
   ],
   "source": [
    "location.count('Jaipur')"
   ]
  },
  {
   "cell_type": "code",
   "execution_count": 24,
   "id": "c7be5e40",
   "metadata": {},
   "outputs": [
    {
     "data": {
      "text/plain": [
       "3"
      ]
     },
     "execution_count": 24,
     "metadata": {},
     "output_type": "execute_result"
    }
   ],
   "source": [
    "location.index('Agra')"
   ]
  },
  {
   "cell_type": "code",
   "execution_count": 25,
   "id": "706a7180",
   "metadata": {},
   "outputs": [
    {
     "data": {
      "text/plain": [
       "['Delhi', 'Jaipur', 'Gurugram', 'Agra']"
      ]
     },
     "execution_count": 25,
     "metadata": {},
     "output_type": "execute_result"
    }
   ],
   "source": [
    "location=list(location)     #converting tuple into list.\n",
    "location"
   ]
  },
  {
   "cell_type": "code",
   "execution_count": 26,
   "id": "da228e06",
   "metadata": {},
   "outputs": [
    {
     "data": {
      "text/plain": [
       "list"
      ]
     },
     "execution_count": 26,
     "metadata": {},
     "output_type": "execute_result"
    }
   ],
   "source": [
    "type(location)    "
   ]
  },
  {
   "cell_type": "code",
   "execution_count": 27,
   "id": "7f0a5f1a",
   "metadata": {},
   "outputs": [
    {
     "data": {
      "text/plain": [
       "['Delhi', 'kolkata', 'Gurugram', 'Agra']"
      ]
     },
     "execution_count": 27,
     "metadata": {},
     "output_type": "execute_result"
    }
   ],
   "source": [
    "# applying edit to coverted data.\n",
    "location[1]='kolkata'\n",
    "location"
   ]
  },
  {
   "cell_type": "code",
   "execution_count": 28,
   "id": "27dca203",
   "metadata": {},
   "outputs": [
    {
     "data": {
      "text/plain": [
       "('Delhi', 'kolkata', 'Gurugram', 'Agra')"
      ]
     },
     "execution_count": 28,
     "metadata": {},
     "output_type": "execute_result"
    }
   ],
   "source": [
    "# convert data from list to tuple.\n",
    "location=tuple(location)\n",
    "location"
   ]
  },
  {
   "cell_type": "code",
   "execution_count": 29,
   "id": "8b32a86e",
   "metadata": {},
   "outputs": [
    {
     "data": {
      "text/plain": [
       "tuple"
      ]
     },
     "execution_count": 29,
     "metadata": {},
     "output_type": "execute_result"
    }
   ],
   "source": [
    "type(location)"
   ]
  },
  {
   "cell_type": "markdown",
   "id": "8da3fcbc",
   "metadata": {},
   "source": [
    "5. Sets:-\n",
    ".It is {}.\n",
    ".It is constructed using set().\n",
    ".It automatically eliminates duplicate values if it present in data and arrange data in an order.\n",
    ".It doesn't allow to add similar data.\n",
    ".Set converted to list or from list to set."
   ]
  },
  {
   "cell_type": "code",
   "execution_count": 1,
   "id": "99e597d3",
   "metadata": {},
   "outputs": [
    {
     "data": {
      "text/plain": [
       "{1, 3, 4, 5, 6, 7, 8, 9}"
      ]
     },
     "execution_count": 1,
     "metadata": {},
     "output_type": "execute_result"
    }
   ],
   "source": [
    "roll_no=[1,5,4,3,8,9,1,5,6,4,7,8]\n",
    "roll_no=set(roll_no)\n",
    "roll_no                #list converted into set and duplicate data removed and arranged in order."
   ]
  },
  {
   "cell_type": "code",
   "execution_count": 3,
   "id": "f3d891c3",
   "metadata": {},
   "outputs": [
    {
     "data": {
      "text/plain": [
       "{'aditi', 'akshay', 'arti', 'bharti', 'priya'}"
      ]
     },
     "execution_count": 3,
     "metadata": {},
     "output_type": "execute_result"
    }
   ],
   "source": [
    "student_name={'akshay','aditi','arti','bharti','arti','priya','bharti'}\n",
    "student_name"
   ]
  },
  {
   "cell_type": "markdown",
   "id": "5ad5f539",
   "metadata": {},
   "source": [
    "6. Dictonary:-\n",
    ".It is in {}.\n",
    ".It always have 'key' and 'value'.\n",
    ".IT creates table for programming data.\n"
   ]
  },
  {
   "cell_type": "code",
   "execution_count": 4,
   "id": "1300314e",
   "metadata": {},
   "outputs": [
    {
     "data": {
      "text/plain": [
       "{'key1': 'value1', 'key2': 'value2'}"
      ]
     },
     "execution_count": 4,
     "metadata": {},
     "output_type": "execute_result"
    }
   ],
   "source": [
    "my_dict={'key1':'value1','key2':'value2'}\n",
    "my_dict"
   ]
  },
  {
   "cell_type": "code",
   "execution_count": 5,
   "id": "2328e77a",
   "metadata": {},
   "outputs": [
    {
     "data": {
      "text/plain": [
       "dict"
      ]
     },
     "execution_count": 5,
     "metadata": {},
     "output_type": "execute_result"
    }
   ],
   "source": [
    "type(my_dict)"
   ]
  },
  {
   "cell_type": "code",
   "execution_count": 7,
   "id": "94bb8406",
   "metadata": {},
   "outputs": [
    {
     "data": {
      "text/plain": [
       "{'roll_no': 1234,\n",
       " 'name': ['akki', 'kuchi', 'addu', 'arti'],\n",
       " 'marks': [10, 20, 30, 40],\n",
       " 'subject': ['comp', 'math', 'sci', 'eco']}"
      ]
     },
     "execution_count": 7,
     "metadata": {},
     "output_type": "execute_result"
    }
   ],
   "source": [
    "# To find value of particular key\n",
    "student_data={'roll_no':1234,'name':['akki','kuchi','addu','arti'],'marks':[10,20,30,40],'subject':['comp','math','sci','eco']}\n",
    "student_data"
   ]
  },
  {
   "cell_type": "code",
   "execution_count": 8,
   "id": "debc4ce8",
   "metadata": {},
   "outputs": [
    {
     "data": {
      "text/plain": [
       "['akki', 'kuchi', 'addu', 'arti']"
      ]
     },
     "execution_count": 8,
     "metadata": {},
     "output_type": "execute_result"
    }
   ],
   "source": [
    "student_data['name']       # only name will be displayed."
   ]
  },
  {
   "cell_type": "code",
   "execution_count": 9,
   "id": "da0efdbe",
   "metadata": {},
   "outputs": [
    {
     "data": {
      "text/plain": [
       "'addu'"
      ]
     },
     "execution_count": 9,
     "metadata": {},
     "output_type": "execute_result"
    }
   ],
   "source": [
    "student_data['name'][2]    # Now index psotion 2 in name will be displayed which is 'addu'."
   ]
  },
  {
   "cell_type": "code",
   "execution_count": 10,
   "id": "5172e7f3",
   "metadata": {},
   "outputs": [
    {
     "data": {
      "text/plain": [
       "'ADDU'"
      ]
     },
     "execution_count": 10,
     "metadata": {},
     "output_type": "execute_result"
    }
   ],
   "source": [
    "# To convert data in upper and lower case (.upper() & .lower())\n",
    "student_data['name'][2].upper()       # .upper()"
   ]
  },
  {
   "cell_type": "code",
   "execution_count": 11,
   "id": "a82a0c68",
   "metadata": {},
   "outputs": [
    {
     "data": {
      "text/plain": [
       "'addu'"
      ]
     },
     "execution_count": 11,
     "metadata": {},
     "output_type": "execute_result"
    }
   ],
   "source": [
    "student_data['name'][2].lower()       # .lower()"
   ]
  },
  {
   "cell_type": "code",
   "execution_count": 14,
   "id": "4c9ac2db",
   "metadata": {},
   "outputs": [
    {
     "data": {
      "text/plain": [
       "[10, 20, 110, 40]"
      ]
     },
     "execution_count": 14,
     "metadata": {},
     "output_type": "execute_result"
    }
   ],
   "source": [
    "# To add data to existing one and to do change in it.\n",
    "student_data['marks'][2]=student_data['marks'][2]+40\n",
    "student_data['marks']                # 40 is added to 30 in marks."
   ]
  },
  {
   "cell_type": "code",
   "execution_count": 17,
   "id": "9157e4c1",
   "metadata": {},
   "outputs": [
    {
     "data": {
      "text/plain": [
       "[10, 20, 150, 40]"
      ]
     },
     "execution_count": 17,
     "metadata": {},
     "output_type": "execute_result"
    }
   ],
   "source": [
    "# Direct formulae to add or subtract(+= or -=).+40\n",
    "student_data['marks'][2]+=40         # add\n",
    "student_data['marks']"
   ]
  },
  {
   "cell_type": "code",
   "execution_count": 18,
   "id": "d870bc84",
   "metadata": {},
   "outputs": [
    {
     "data": {
      "text/plain": [
       "[10, 20, 130, 40]"
      ]
     },
     "execution_count": 18,
     "metadata": {},
     "output_type": "execute_result"
    }
   ],
   "source": [
    "student_data['marks'][2]-=20         # subtract\n",
    "student_data['marks']"
   ]
  },
  {
   "cell_type": "code",
   "execution_count": 21,
   "id": "2f7abf1a",
   "metadata": {},
   "outputs": [
    {
     "data": {
      "text/plain": [
       "{'roll_no': 1234,\n",
       " 'name': ['akki', 'kuchi', 'addu', 'arti'],\n",
       " 'marks': [10, 20, 130, 40],\n",
       " 'subject': ['comp', 'math', 'sci', 'eco']}"
      ]
     },
     "execution_count": 21,
     "metadata": {},
     "output_type": "execute_result"
    }
   ],
   "source": [
    "# To insert a new key in existing.\n",
    "student_data"
   ]
  },
  {
   "cell_type": "code",
   "execution_count": 23,
   "id": "11d0a841",
   "metadata": {},
   "outputs": [
    {
     "data": {
      "text/plain": [
       "{'roll_no': 1234,\n",
       " 'name': ['akki', 'kuchi', 'addu', 'arti'],\n",
       " 'marks': [10, 20, 130, 40],\n",
       " 'subject': ['comp', 'math', 'sci', 'eco'],\n",
       " 'year': '3rd'}"
      ]
     },
     "execution_count": 23,
     "metadata": {},
     "output_type": "execute_result"
    }
   ],
   "source": [
    "student_data['year']= '3rd'\n",
    "student_data"
   ]
  },
  {
   "cell_type": "code",
   "execution_count": 24,
   "id": "3d6a37bc",
   "metadata": {},
   "outputs": [
    {
     "data": {
      "text/plain": [
       "{'roll_no': 1234,\n",
       " 'name': ['akki', 'kuchi', 'addu', 'arti'],\n",
       " 'marks': [10, 20, 130, 40],\n",
       " 'subject': ['comp', 'math', 'sci', 'eco'],\n",
       " 'year': '4th'}"
      ]
     },
     "execution_count": 24,
     "metadata": {},
     "output_type": "execute_result"
    }
   ],
   "source": [
    "# To update use .update().\n",
    "student_data.update({'year':'4th'})\n",
    "student_data"
   ]
  },
  {
   "cell_type": "code",
   "execution_count": null,
   "id": "54604ac5",
   "metadata": {},
   "outputs": [],
   "source": []
  }
 ],
 "metadata": {
  "kernelspec": {
   "display_name": "Python 3 (ipykernel)",
   "language": "python",
   "name": "python3"
  },
  "language_info": {
   "codemirror_mode": {
    "name": "ipython",
    "version": 3
   },
   "file_extension": ".py",
   "mimetype": "text/x-python",
   "name": "python",
   "nbconvert_exporter": "python",
   "pygments_lexer": "ipython3",
   "version": "3.9.12"
  }
 },
 "nbformat": 4,
 "nbformat_minor": 5
}
