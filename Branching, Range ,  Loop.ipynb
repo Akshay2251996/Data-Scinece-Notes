{
 "cells": [
  {
   "cell_type": "markdown",
   "id": "c903acc4",
   "metadata": {},
   "source": [
    "# Branching:-"
   ]
  },
  {
   "cell_type": "code",
   "execution_count": null,
   "id": "2746c6fe",
   "metadata": {},
   "outputs": [],
   "source": [
    "# .This is used for calculations, possibilities and cmparisions.\n",
    ".elif is combination of if+else.\n",
    ".'if' statement can be used with any evaluation of truthiness."
   ]
  },
  {
   "cell_type": "code",
   "execution_count": 12,
   "id": "c1f54008",
   "metadata": {},
   "outputs": [
    {
     "name": "stdout",
     "output_type": "stream",
     "text": [
      "Please add 100 Rs worth for eligible for free shipping\n"
     ]
    }
   ],
   "source": [
    "item_1=100\n",
    "item_2=300\n",
    "if (item_1+item_2)>=500:\n",
    "    print('you are eligible for free shipping')\n",
    "else:\n",
    "    extra=500-(item_1+item_2)             # 2nd option print because both item total cost is 400 so first option became false.\n",
    "    print('Please add',extra,'Rs worth for eligible for free shipping')"
   ]
  },
  {
   "cell_type": "code",
   "execution_count": 2,
   "id": "dfcf57e7",
   "metadata": {},
   "outputs": [
    {
     "name": "stdout",
     "output_type": "stream",
     "text": [
      "you are eligible for free shipping\n"
     ]
    }
   ],
   "source": [
    "item_1=400\n",
    "item_2=300\n",
    "if (item_1+item_2)>=500:\n",
    "    print('you are eligible for free shipping')\n",
    "else:\n",
    "    extra=500-(item_1+item_2)             # now both item total is 700 so second option became false.\n",
    "    print('Please add',extra,'Rs worth for eligible for free shipping')"
   ]
  },
  {
   "cell_type": "code",
   "execution_count": 6,
   "id": "df1f6a37",
   "metadata": {},
   "outputs": [
    {
     "name": "stdout",
     "output_type": "stream",
     "text": [
      "both the condition is true\n"
     ]
    }
   ],
   "source": [
    "# 'and' & 'or' conditions\n",
    "a=100\n",
    "b=33\n",
    "c=500\n",
    "if a > b and c < a:                         # in 'and' one condition must be true because True and Flase= Flase.\n",
    "    print('atleast one condition is true')\n",
    "else:\n",
    "    print('both the condition is true')"
   ]
  },
  {
   "cell_type": "code",
   "execution_count": 7,
   "id": "259e65ad",
   "metadata": {},
   "outputs": [
    {
     "name": "stdout",
     "output_type": "stream",
     "text": [
      "atleast one condition is true\n"
     ]
    }
   ],
   "source": [
    "a=100\n",
    "b=33\n",
    "c=500\n",
    "if a > b or c < a:                         # in 'or' one condition atleast one condition is true.\n",
    "    print('atleast one condition is true')\n",
    "else:\n",
    "    print('both the condition is true')"
   ]
  },
  {
   "cell_type": "code",
   "execution_count": 10,
   "id": "efa91d5a",
   "metadata": {},
   "outputs": [
    {
     "name": "stdout",
     "output_type": "stream",
     "text": [
      "20  Fail\n"
     ]
    }
   ],
   "source": [
    "# Nested if and if,& else combined \n",
    "marks=20\n",
    "if marks>=60:\n",
    "    if marks>70:\n",
    "        print(marks,' Distinction')\n",
    "    else:\n",
    "        print(marks,' First Class')\n",
    "elif marks>50 and marks<60:\n",
    "    print(marks,' Second Class')\n",
    "elif marks>=35:\n",
    "    print(marks,' Pass')\n",
    "else:\n",
    "    print(marks,' Fail')"
   ]
  },
  {
   "cell_type": "code",
   "execution_count": 11,
   "id": "1b948850",
   "metadata": {},
   "outputs": [
    {
     "name": "stdout",
     "output_type": "stream",
     "text": [
      "85  Distinction\n"
     ]
    }
   ],
   "source": [
    "marks=85\n",
    "if marks>=60:\n",
    "    if marks>70:\n",
    "        print(marks,' Distinction')\n",
    "    else:\n",
    "        print(marks,' First Class')\n",
    "elif marks>50 and marks<60:\n",
    "    print(marks,' Second Class')\n",
    "elif marks>=35:\n",
    "    print(marks,' Pass')\n",
    "else:\n",
    "    print(marks,' Fail')"
   ]
  },
  {
   "cell_type": "code",
   "execution_count": 13,
   "id": "1e46f6bf",
   "metadata": {},
   "outputs": [
    {
     "name": "stdout",
     "output_type": "stream",
     "text": [
      "second is correct\n"
     ]
    }
   ],
   "source": [
    "a=25\n",
    "b=30\n",
    "if a == '25':\n",
    "    print('first is correct')\n",
    "elif b > 28:\n",
    "    print('second is correct')        # Second is correct because '25' is a string and a=25 is inetger"
   ]
  },
  {
   "cell_type": "markdown",
   "id": "e243716b",
   "metadata": {},
   "source": [
    "## Range:-\n"
   ]
  },
  {
   "cell_type": "markdown",
   "id": "268b0d6a",
   "metadata": {},
   "source": [
    ".Given by range()\n",
    ".It includes start, stop and step size by using range(start,stop,stepsize).that\n",
    ".Step size is that how you want your data either continue or escaping numbers.\n",
    ".If number is given in for ex.10 in range(10) then it is considered as stop point and step size is 1 by default.\n",
    ".for output function list() is used in range.\n",
    ".Stop number always be excluded.\n",
    ".It is not work for 'Float'."
   ]
  },
  {
   "cell_type": "code",
   "execution_count": 14,
   "id": "14de3ae0",
   "metadata": {},
   "outputs": [
    {
     "name": "stdout",
     "output_type": "stream",
     "text": [
      "[0, 1, 2, 3, 4, 5, 6, 7, 8, 9]\n"
     ]
    }
   ],
   "source": [
    "# Range \n",
    "print(list(range(10)))"
   ]
  },
  {
   "cell_type": "code",
   "execution_count": null,
   "id": "ef01ebf0",
   "metadata": {},
   "outputs": [],
   "source": [
    "# Start, stop and step size.\n",
    "student=list(range(1,50,2))   # here 1= start no. 50=stop and 2=stepsize\n",
    "student"
   ]
  },
  {
   "cell_type": "code",
   "execution_count": 19,
   "id": "4164ce8f",
   "metadata": {},
   "outputs": [
    {
     "data": {
      "text/plain": [
       "[50, 46, 42, 38, 34, 30, 26, 22, 18, 14, 10, 6, 2]"
      ]
     },
     "execution_count": 19,
     "metadata": {},
     "output_type": "execute_result"
    }
   ],
   "source": [
    "# Reverse use '-' for this.\n",
    "student=list(range(50,-1,-4))   # here -4= step size becuse we want to reverse it.\n",
    "student"
   ]
  },
  {
   "cell_type": "markdown",
   "id": "60aaf911",
   "metadata": {},
   "source": [
    "# Loop:-"
   ]
  },
  {
   "cell_type": "markdown",
   "id": "178b97a5",
   "metadata": {},
   "source": [
    ".It is used when data is excuted in sequence means you want your data to be executed one after other(one by one).\n",
    ".There are two types of loops 1.For loop & 2.While loop"
   ]
  },
  {
   "cell_type": "code",
   "execution_count": 2,
   "id": "33655b14",
   "metadata": {},
   "outputs": [
    {
     "name": "stdout",
     "output_type": "stream",
     "text": [
      "delhi\n",
      "jaipur\n",
      "ajmer\n",
      "kota\n",
      "amer\n",
      "haryana\n"
     ]
    }
   ],
   "source": [
    "# 1. For loop- whwn you know howmany times to execute the code.\n",
    "location=['delhi','jaipur','ajmer','kota','amer','haryana']\n",
    "for city in location:\n",
    "    print(city)                  # data is printed in sequence one after other"
   ]
  },
  {
   "cell_type": "code",
   "execution_count": 5,
   "id": "0498ab5f",
   "metadata": {},
   "outputs": [
    {
     "name": "stdout",
     "output_type": "stream",
     "text": [
      "35  Pass\n",
      "54  Second Class\n",
      "68  First Class\n",
      "88  Distinction\n",
      "73  Distinction\n",
      "89  Distinction\n",
      "25  Fail\n",
      "32  Fail\n",
      "66  First Class\n",
      "95  Distinction\n"
     ]
    }
   ],
   "source": [
    "student_marks=[35,54,68,88,73,89,25,32,66,95]\n",
    "for marks in student_marks:\n",
    "    if marks>=60:\n",
    "        if marks>70:\n",
    "            print(marks,' Distinction')\n",
    "        else:\n",
    "            print(marks,' First Class')\n",
    "    elif marks>50 and marks<60:\n",
    "        print(marks,' Second Class')\n",
    "    elif marks>=35:\n",
    "        print(marks,' Pass')\n",
    "    else:\n",
    "        print(marks,' Fail')      # every value is excuted one after another"
   ]
  },
  {
   "cell_type": "code",
   "execution_count": 6,
   "id": "1ebe4dfe",
   "metadata": {},
   "outputs": [
    {
     "data": {
      "text/plain": [
       "[5000, 6000, 5500, 4500]"
      ]
     },
     "execution_count": 6,
     "metadata": {},
     "output_type": "execute_result"
    }
   ],
   "source": [
    "# List Comperehension- it is the short way of creating new list from the values of existing one & want result in [].\n",
    "salary=[2000,5000,6000,4000,3000,5500,4500]\n",
    "sal=[val for val in salary if val > 4000]\n",
    "sal"
   ]
  },
  {
   "cell_type": "code",
   "execution_count": 10,
   "id": "3aa396e5",
   "metadata": {},
   "outputs": [
    {
     "name": "stdout",
     "output_type": "stream",
     "text": [
      "Multiplication table for - 2\n",
      "2\n",
      "4\n",
      "6\n",
      "8\n",
      "10\n",
      "12\n",
      "14\n",
      "16\n",
      "18\n",
      "20\n",
      "\n",
      "\n",
      "Multiplication table for - 3\n",
      "3\n",
      "6\n",
      "9\n",
      "12\n",
      "15\n",
      "18\n",
      "21\n",
      "24\n",
      "27\n",
      "30\n",
      "\n",
      "\n",
      "Multiplication table for - 4\n",
      "4\n",
      "8\n",
      "12\n",
      "16\n",
      "20\n",
      "24\n",
      "28\n",
      "32\n",
      "36\n",
      "40\n",
      "\n",
      "\n",
      "Multiplication table for - 5\n",
      "5\n",
      "10\n",
      "15\n",
      "20\n",
      "25\n",
      "30\n",
      "35\n",
      "40\n",
      "45\n",
      "50\n",
      "\n",
      "\n",
      "***************\n",
      "End of table\n",
      "***************\n"
     ]
    }
   ],
   "source": [
    "# for loop with esle -\n",
    "for num in range(2,6):\n",
    "    print('Multiplication table for -', num)\n",
    "    for i in range(1,11):\n",
    "        print(num*i)\n",
    "        if i==10:\n",
    "            print('\\n')\n",
    "     \n",
    "else:\n",
    "    print('*'*15)\n",
    "    print('End of table')\n",
    "    print('*'*15)"
   ]
  },
  {
   "cell_type": "code",
   "execution_count": 11,
   "id": "55e9623c",
   "metadata": {},
   "outputs": [
    {
     "name": "stdout",
     "output_type": "stream",
     "text": [
      "akshay\n",
      "akshay\n",
      "akshay\n",
      "akshay\n",
      "akshay\n",
      "akshay\n",
      "akshay\n",
      "akshay\n",
      "akshay\n",
      "akshay\n"
     ]
    }
   ],
   "source": [
    "# While loop- when you don't know how many times to execute the code and if the condition is true.\n",
    "i=0\n",
    "while i<10:\n",
    "    i=i+1\n",
    "    print('akshay') # it endes at 10 because if i=10 then toatl become 11 which is false for condtn i<10."
   ]
  }
 ],
 "metadata": {
  "kernelspec": {
   "display_name": "Python 3 (ipykernel)",
   "language": "python",
   "name": "python3"
  },
  "language_info": {
   "codemirror_mode": {
    "name": "ipython",
    "version": 3
   },
   "file_extension": ".py",
   "mimetype": "text/x-python",
   "name": "python",
   "nbconvert_exporter": "python",
   "pygments_lexer": "ipython3",
   "version": "3.9.12"
  }
 },
 "nbformat": 4,
 "nbformat_minor": 5
}
