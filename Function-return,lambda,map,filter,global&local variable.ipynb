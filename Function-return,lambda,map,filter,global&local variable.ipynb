{
 "cells": [
  {
   "cell_type": "markdown",
   "id": "2421663d",
   "metadata": {},
   "source": [
    "# Function"
   ]
  },
  {
   "cell_type": "markdown",
   "id": "57913362",
   "metadata": {},
   "source": [
    ".It helps reducing the number of lines of code.\n",
    ".It increases the layout and make minimum coding."
   ]
  },
  {
   "cell_type": "code",
   "execution_count": 1,
   "id": "9f24cbb8",
   "metadata": {},
   "outputs": [
    {
     "name": "stdout",
     "output_type": "stream",
     "text": [
      "This is just example\n"
     ]
    }
   ],
   "source": [
    "# define function- function_name(argue1,argue2)\n",
    "def say_hello():\n",
    "    print('This is just example')\n",
    "say_hello()               # To call the function"
   ]
  },
  {
   "cell_type": "code",
   "execution_count": 2,
   "id": "8d649999",
   "metadata": {},
   "outputs": [
    {
     "name": "stdout",
     "output_type": "stream",
     "text": [
      "Hello World!\n"
     ]
    }
   ],
   "source": [
    "def greeting(name):\n",
    "    print('Hello',name)\n",
    "greeting('World!')    "
   ]
  },
  {
   "cell_type": "markdown",
   "id": "4d05399f",
   "metadata": {},
   "source": [
    "# Using Return \n",
    ".It is used to pass or carry the result of a function further."
   ]
  },
  {
   "cell_type": "code",
   "execution_count": 1,
   "id": "e13a12be",
   "metadata": {},
   "outputs": [],
   "source": [
    "def salary_update(fixed_salary,petrol_rent):\n",
    "    total_sal=(fixed_salary+petrol_rent)\n",
    "    if total_sal<=9000:\n",
    "        return total_sal+1000         #using return to carry result further.\n",
    "    else:\n",
    "        return total_sal"
   ]
  },
  {
   "cell_type": "code",
   "execution_count": 4,
   "id": "c6ce7b43",
   "metadata": {},
   "outputs": [
    {
     "name": "stdout",
     "output_type": "stream",
     "text": [
      "My new salary= 9500\n"
     ]
    }
   ],
   "source": [
    "print('My new salary=',salary_update(6500,2000))     # total salary is less than 9000 that's why increase in salary."
   ]
  },
  {
   "cell_type": "code",
   "execution_count": 5,
   "id": "90dd7672",
   "metadata": {},
   "outputs": [
    {
     "name": "stdout",
     "output_type": "stream",
     "text": [
      "My new salary= 8500\n"
     ]
    }
   ],
   "source": [
    "print('My new salary=',salary_update(5500,2000)) "
   ]
  },
  {
   "cell_type": "code",
   "execution_count": 7,
   "id": "72e33747",
   "metadata": {},
   "outputs": [],
   "source": [
    "total_sal=salary_update(5500,2000)"
   ]
  },
  {
   "cell_type": "code",
   "execution_count": 8,
   "id": "ed77e0de",
   "metadata": {},
   "outputs": [
    {
     "data": {
      "text/plain": [
       "8500"
      ]
     },
     "execution_count": 8,
     "metadata": {},
     "output_type": "execute_result"
    }
   ],
   "source": [
    "total_sal                      # result is passsed or carried automatically."
   ]
  },
  {
   "cell_type": "code",
   "execution_count": 9,
   "id": "e48fb54d",
   "metadata": {},
   "outputs": [],
   "source": [
    "# Real time example=used car buying\n",
    "def used_car_price(car_year, car_brand, car_city, kmeters):\n",
    "    if car_year==2020:\n",
    "        if car_city=='Jaipur':\n",
    "            if 10000<kmeters<=15000:\n",
    "                if car_brand=='Tata Altroz':\n",
    "                    print('Rs 650000-Rs 750000')\n",
    "                elif car_brand=='Tata Nexon':\n",
    "                    print('Rs 700000-Rs 900000')\n",
    "                else:\n",
    "                    print('Not in Stock, Check in Future')\n",
    "            elif 15001<kmeters<=25000:\n",
    "                if car_brand=='Tata Altroz':\n",
    "                    print('Rs 750000-Rs 850000')\n",
    "                elif car_brand=='Tata Nexon':\n",
    "                    print('Rs 750000-Rs 950000')\n",
    "                else:\n",
    "                    print('Not in Stock, Check in Future')\n",
    "        elif car_city=='Udaipur':\n",
    "            if 10000<kmeters<=15000:\n",
    "                if car_brand=='Tata Altroz':\n",
    "                    print('Rs 550000-Rs 650000')\n",
    "                elif car_brand=='Tata Nexon':\n",
    "                    print('Rs 600000-Rs 800000')\n",
    "                else:\n",
    "                    print('Not in Stock, Check in Future')\n",
    "            elif 15001<kmeters<=25000:\n",
    "                if car_brand=='Tata Altroz':\n",
    "                    print('Rs 750000-Rs 850000')\n",
    "                elif car_brand=='Tata Nexon':\n",
    "                    print('Rs 750000-Rs 950000')\n",
    "                else:\n",
    "                    print('Not in Stock, Check in Future')\n",
    "        else:\n",
    "            print('No stocks')\n",
    "    elif car_year==2021:\n",
    "        if car_city=='Jaipur':\n",
    "            if 10000<kmeters<=15000:\n",
    "                if car_brand=='Tata Altroz':\n",
    "                    print('Rs 650000-Rs 750000')\n",
    "                elif car_brand=='Tata Nexon':\n",
    "                            print('Rs 700000-Rs 900000')\n",
    "                else:\n",
    "                    print('Not in Stock, Check in Future')\n",
    "            elif 15001<kmeters<=25000:\n",
    "                if car_brand=='Tata Altroz':\n",
    "                    print('Rs 750000-Rs 850000')\n",
    "                elif car_brand=='Tata Nexon':\n",
    "                    print('Rs 750000-Rs 950000')\n",
    "                else:\n",
    "                    print('Not in Stock, Check in Future')\n",
    "            else:\n",
    "                print('No stocks')\n",
    "                    \n",
    "        else:\n",
    "            print('we have no stocks older than 2021')\n",
    "    else:\n",
    "        print('Sorry we have no stocks')"
   ]
  },
  {
   "cell_type": "code",
   "execution_count": 11,
   "id": "46a4c2a8",
   "metadata": {},
   "outputs": [
    {
     "name": "stdout",
     "output_type": "stream",
     "text": [
      "Rs 650000-Rs 750000\n"
     ]
    }
   ],
   "source": [
    "used_car_price(2020,'Tata Altroz','Jaipur',15000)"
   ]
  },
  {
   "cell_type": "code",
   "execution_count": 14,
   "id": "d1971ab8",
   "metadata": {},
   "outputs": [
    {
     "name": "stdout",
     "output_type": "stream",
     "text": [
      "Rs 750000-Rs 850000\n"
     ]
    }
   ],
   "source": [
    "used_car_price(2020,'Tata Altroz','Jaipur',22000)"
   ]
  },
  {
   "cell_type": "code",
   "execution_count": 15,
   "id": "f917142e",
   "metadata": {},
   "outputs": [
    {
     "name": "stdout",
     "output_type": "stream",
     "text": [
      "Sorry we have no stocks\n"
     ]
    }
   ],
   "source": [
    "used_car_price(2019,'Tata Altroz','Jaipur',15000)"
   ]
  },
  {
   "cell_type": "code",
   "execution_count": 16,
   "id": "67bfa822",
   "metadata": {},
   "outputs": [
    {
     "name": "stdout",
     "output_type": "stream",
     "text": [
      "Rs 700000-Rs 900000\n"
     ]
    }
   ],
   "source": [
    "used_car_price(2020,'Tata Nexon','Jaipur',15000)"
   ]
  },
  {
   "cell_type": "markdown",
   "id": "acc6bd29",
   "metadata": {},
   "source": [
    "### Lambda Function\n",
    ".It is used for simple operations in which we have multiple arguments and expressions, so we can make them short by using this.\n",
    ".It is basically used for shorten the length of function or code but only for siple one.\n",
    ".Formulae- lambda arguments : expressions"
   ]
  },
  {
   "cell_type": "code",
   "execution_count": 17,
   "id": "15240b04",
   "metadata": {},
   "outputs": [
    {
     "name": "stdout",
     "output_type": "stream",
     "text": [
      "100\n"
     ]
    }
   ],
   "source": [
    "# to add number\n",
    "add_num=lambda x:x+25       # x is the number we have to add in 25.It shorten the code and make it direct.\n",
    "print(add_num(75))          #x=75 so 75+25=100."
   ]
  },
  {
   "cell_type": "code",
   "execution_count": 19,
   "id": "9a4049ff",
   "metadata": {},
   "outputs": [
    {
     "name": "stdout",
     "output_type": "stream",
     "text": [
      "11250\n"
     ]
    }
   ],
   "source": [
    "# to multiply\n",
    "multi_num=lambda x,y,z:x*y*z\n",
    "print(multi_num(15,25,30))      #x=15,y=25 and z=30. so answer 15*25*30=11250"
   ]
  },
  {
   "cell_type": "markdown",
   "id": "5b213186",
   "metadata": {},
   "source": [
    "### Args & Kwargs\n",
    "\n"
   ]
  },
  {
   "cell_type": "code",
   "execution_count": 20,
   "id": "5f153dc4",
   "metadata": {},
   "outputs": [],
   "source": [
    "# Args- It is used to take multiple inputs formulae:- *args\n",
    "def my_fun(*args):                # *args is used to show inputs.\n",
    "    for i in args:\n",
    "        print('my args=',i)\n",
    "        "
   ]
  },
  {
   "cell_type": "code",
   "execution_count": 21,
   "id": "b142566b",
   "metadata": {},
   "outputs": [
    {
     "name": "stdout",
     "output_type": "stream",
     "text": [
      "my args= jaipur\n",
      "my args= 50\n",
      "my args= kota\n",
      "my args= 50\n",
      "my args= 60.4\n"
     ]
    }
   ],
   "source": [
    "my_fun('jaipur',50,'kota',50,60.4)      # calling function by apllyinh inputs what we want."
   ]
  },
  {
   "cell_type": "code",
   "execution_count": 28,
   "id": "29fba87a",
   "metadata": {},
   "outputs": [],
   "source": [
    "# Kwargs- It is also used take inputs but only if they have both keys and values like dictonary.\n",
    "def my_funt(**kwargs):\n",
    "    for key,value in kwargs.items():\n",
    "        print(key,'=',value)"
   ]
  },
  {
   "cell_type": "code",
   "execution_count": 29,
   "id": "735931ad",
   "metadata": {},
   "outputs": [
    {
     "name": "stdout",
     "output_type": "stream",
     "text": [
      "Student = ['akki', 'digi']\n",
      "Marks = [90, 95]\n"
     ]
    }
   ],
   "source": [
    "my_funt(Student=['akki','digi'],Marks=[90,95])"
   ]
  },
  {
   "cell_type": "markdown",
   "id": "a01aac88",
   "metadata": {},
   "source": [
    "### String Indexing\n",
    ".It is used for fetching and slicing of string by using its index position.\n",
    ".Space also have its own index position means if there is space in text or string it also have index position."
   ]
  },
  {
   "cell_type": "code",
   "execution_count": 30,
   "id": "c04e040e",
   "metadata": {},
   "outputs": [
    {
     "name": "stdout",
     "output_type": "stream",
     "text": [
      "I LOVE PAPA\n"
     ]
    }
   ],
   "source": [
    "x='I LOVE PAPA'\n",
    "print(x) "
   ]
  },
  {
   "cell_type": "code",
   "execution_count": 32,
   "id": "f6589e1e",
   "metadata": {},
   "outputs": [
    {
     "data": {
      "text/plain": [
       "' '"
      ]
     },
     "execution_count": 32,
     "metadata": {},
     "output_type": "execute_result"
    }
   ],
   "source": [
    "x[1]"
   ]
  },
  {
   "cell_type": "code",
   "execution_count": 33,
   "id": "6300bb37",
   "metadata": {},
   "outputs": [
    {
     "data": {
      "text/plain": [
       "' OEPP'"
      ]
     },
     "execution_count": 33,
     "metadata": {},
     "output_type": "execute_result"
    }
   ],
   "source": [
    "x[1:10:2]"
   ]
  },
  {
   "cell_type": "code",
   "execution_count": 34,
   "id": "66b0ed9b",
   "metadata": {},
   "outputs": [
    {
     "data": {
      "text/plain": [
       "' LOVE PAPA'"
      ]
     },
     "execution_count": 34,
     "metadata": {},
     "output_type": "execute_result"
    }
   ],
   "source": [
    "x[1:]"
   ]
  },
  {
   "cell_type": "code",
   "execution_count": 35,
   "id": "381e2c54",
   "metadata": {},
   "outputs": [
    {
     "data": {
      "text/plain": [
       "'A'"
      ]
     },
     "execution_count": 35,
     "metadata": {},
     "output_type": "execute_result"
    }
   ],
   "source": [
    "x[-1]"
   ]
  },
  {
   "cell_type": "code",
   "execution_count": 36,
   "id": "44f0c922",
   "metadata": {},
   "outputs": [
    {
     "data": {
      "text/plain": [
       "'I LOVE PAP'"
      ]
     },
     "execution_count": 36,
     "metadata": {},
     "output_type": "execute_result"
    }
   ],
   "source": [
    "x[:-1]"
   ]
  },
  {
   "cell_type": "code",
   "execution_count": 37,
   "id": "a7ccafe3",
   "metadata": {},
   "outputs": [
    {
     "data": {
      "text/plain": [
       "'AA VLI'"
      ]
     },
     "execution_count": 37,
     "metadata": {},
     "output_type": "execute_result"
    }
   ],
   "source": [
    "x[::-2]"
   ]
  },
  {
   "cell_type": "code",
   "execution_count": 38,
   "id": "896b113a",
   "metadata": {},
   "outputs": [
    {
     "data": {
      "text/plain": [
       "'ILV AA'"
      ]
     },
     "execution_count": 38,
     "metadata": {},
     "output_type": "execute_result"
    }
   ],
   "source": [
    "x[::2]"
   ]
  },
  {
   "cell_type": "code",
   "execution_count": 39,
   "id": "f3abc900",
   "metadata": {},
   "outputs": [
    {
     "data": {
      "text/plain": [
       "'OVE P'"
      ]
     },
     "execution_count": 39,
     "metadata": {},
     "output_type": "execute_result"
    }
   ],
   "source": [
    "x[3:8]"
   ]
  },
  {
   "cell_type": "markdown",
   "id": "e927730a",
   "metadata": {},
   "source": [
    "### Map & Filter\n"
   ]
  },
  {
   "cell_type": "code",
   "execution_count": 1,
   "id": "1f6573eb",
   "metadata": {},
   "outputs": [],
   "source": [
    "# Map-It is used when you want to apply a single transformation function to all iteable elements.\n",
    "def grace_marks(marks):                \n",
    "    if marks==33:                         # function\n",
    "        return(marks+2)\n",
    "    elif marks==34:\n",
    "        return(marks+1)\n",
    "    else:\n",
    "        return marks"
   ]
  },
  {
   "cell_type": "code",
   "execution_count": 2,
   "id": "917ca1f3",
   "metadata": {},
   "outputs": [],
   "source": [
    "score=[50,31,32,33,34,35,80]                  # data"
   ]
  },
  {
   "cell_type": "code",
   "execution_count": 3,
   "id": "73353339",
   "metadata": {},
   "outputs": [
    {
     "data": {
      "text/plain": [
       "[50, 31, 32, 35, 35, 35, 80]"
      ]
     },
     "execution_count": 3,
     "metadata": {},
     "output_type": "execute_result"
    }
   ],
   "source": [
    "total=list(map(grace_marks,score))            # map(function,data)\n",
    "total"
   ]
  },
  {
   "cell_type": "code",
   "execution_count": 4,
   "id": "a48007f0",
   "metadata": {},
   "outputs": [
    {
     "data": {
      "text/plain": [
       "3"
      ]
     },
     "execution_count": 4,
     "metadata": {},
     "output_type": "execute_result"
    }
   ],
   "source": [
    "total.count(35)"
   ]
  },
  {
   "cell_type": "code",
   "execution_count": 8,
   "id": "2dc884d9",
   "metadata": {},
   "outputs": [],
   "source": [
    "# Filter- it is same as map but it only takes 'true' value and eliminates the other one.\n",
    "def filter_marks(marks):\n",
    "    if marks<35:\n",
    "        return marks                         #function"
   ]
  },
  {
   "cell_type": "code",
   "execution_count": 9,
   "id": "9823cd85",
   "metadata": {},
   "outputs": [],
   "source": [
    "score=[50,31,32,33,34,35,80]                  # data"
   ]
  },
  {
   "cell_type": "code",
   "execution_count": 11,
   "id": "7a370120",
   "metadata": {},
   "outputs": [
    {
     "data": {
      "text/plain": [
       "[31, 32, 33, 34]"
      ]
     },
     "execution_count": 11,
     "metadata": {},
     "output_type": "execute_result"
    }
   ],
   "source": [
    "total=list(filter(filter_marks,score))            # filter(function,data)\n",
    "total                                             #after calling function it eliminates other value and keeps only true."
   ]
  },
  {
   "cell_type": "markdown",
   "id": "ef1ba5ba",
   "metadata": {},
   "source": [
    "# Global and Local Variable\n"
   ]
  },
  {
   "cell_type": "code",
   "execution_count": 31,
   "id": "34edb934",
   "metadata": {},
   "outputs": [
    {
     "name": "stdout",
     "output_type": "stream",
     "text": [
      "printing inside & total is 90\n"
     ]
    }
   ],
   "source": [
    "# Global-when variable define outside the function.It works both inside and outside the functio.\n",
    "marks=50\n",
    "def total_score_glob():\n",
    "    print('printing inside & total is', 40+marks)\n",
    "total_score_glob()    "
   ]
  },
  {
   "cell_type": "code",
   "execution_count": 32,
   "id": "65271902",
   "metadata": {},
   "outputs": [
    {
     "name": "stdout",
     "output_type": "stream",
     "text": [
      "printing outside & total is 90\n"
     ]
    }
   ],
   "source": [
    "print('printing outside & total is', 40+marks)"
   ]
  },
  {
   "cell_type": "code",
   "execution_count": 35,
   "id": "fbb02fce",
   "metadata": {},
   "outputs": [
    {
     "name": "stdout",
     "output_type": "stream",
     "text": [
      "printing inside & total is 490\n"
     ]
    }
   ],
   "source": [
    "# Local-when variable dedine inside the function.It doesn't work ouside the function.\n",
    "def total_score_loc():\n",
    "    marks=450\n",
    "    print('printing inside & total is', 40+marks)\n",
    "total_score_loc()    "
   ]
  },
  {
   "cell_type": "code",
   "execution_count": 37,
   "id": "b4fb8e92",
   "metadata": {},
   "outputs": [
    {
     "name": "stdout",
     "output_type": "stream",
     "text": [
      "yes its is\n"
     ]
    }
   ],
   "source": [
    "# to convert localto golbal\n",
    "def local_global():\n",
    "    global var2                              #converting local to global\n",
    "    var2='yes its is'\n",
    "    print(var2)\n",
    "local_global()    "
   ]
  },
  {
   "cell_type": "code",
   "execution_count": 38,
   "id": "19291542",
   "metadata": {},
   "outputs": [
    {
     "name": "stdout",
     "output_type": "stream",
     "text": [
      "yes its is\n"
     ]
    }
   ],
   "source": [
    "print(var2)         # when it is converted it runs outside also."
   ]
  }
 ],
 "metadata": {
  "kernelspec": {
   "display_name": "Python 3 (ipykernel)",
   "language": "python",
   "name": "python3"
  },
  "language_info": {
   "codemirror_mode": {
    "name": "ipython",
    "version": 3
   },
   "file_extension": ".py",
   "mimetype": "text/x-python",
   "name": "python",
   "nbconvert_exporter": "python",
   "pygments_lexer": "ipython3",
   "version": "3.9.12"
  }
 },
 "nbformat": 4,
 "nbformat_minor": 5
}
