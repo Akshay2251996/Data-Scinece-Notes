{
 "cells": [
  {
   "cell_type": "markdown",
   "id": "e1fabdc9",
   "metadata": {},
   "source": [
    "# Series Manipulation"
   ]
  },
  {
   "cell_type": "code",
   "execution_count": 1,
   "id": "5e0659ed",
   "metadata": {},
   "outputs": [],
   "source": [
    "import numpy as np\n",
    "import pandas as pd"
   ]
  },
  {
   "cell_type": "code",
   "execution_count": 2,
   "id": "8144b615",
   "metadata": {},
   "outputs": [
    {
     "data": {
      "text/plain": [
       "CA    1\n",
       "OR    2\n",
       "CO    3\n",
       "AZ    4\n",
       "dtype: int64"
      ]
     },
     "execution_count": 2,
     "metadata": {},
     "output_type": "execute_result"
    }
   ],
   "source": [
    "ser1=pd.Series(data=[1,2,3,4],index=['CA','OR','CO','AZ'])\n",
    "ser1"
   ]
  },
  {
   "cell_type": "code",
   "execution_count": 3,
   "id": "31e93872",
   "metadata": {},
   "outputs": [
    {
     "name": "stdout",
     "output_type": "stream",
     "text": [
      "Vlaue of CA in ser1: 1\n",
      "Vlaue of CA in ser1: 4\n"
     ]
    }
   ],
   "source": [
    "#for particular value in series\n",
    "print(\"Vlaue of CA in ser1:\",ser1['CA'])\n",
    "print(\"Vlaue of CA in ser1:\",ser1['AZ'])     #CA and AZ  value will be reflected"
   ]
  },
  {
   "cell_type": "code",
   "execution_count": 5,
   "id": "be65d9a3",
   "metadata": {},
   "outputs": [
    {
     "name": "stdout",
     "output_type": "stream",
     "text": [
      "OR    2\n",
      "CO    3\n",
      "AZ    4\n",
      "dtype: int64\n"
     ]
    }
   ],
   "source": [
    "print(ser1[1:4])   #index position 1 to 4 will be reflected"
   ]
  },
  {
   "cell_type": "code",
   "execution_count": 6,
   "id": "917e5b67",
   "metadata": {},
   "outputs": [],
   "source": [
    "ser1=pd.Series([1,2,3,4,10],['CA','OR','CO','AZ','NV'])\n",
    "ser2=pd.Series([1,2,5,4,30],['CA','OR','NV','PA','CO'])"
   ]
  },
  {
   "cell_type": "code",
   "execution_count": 7,
   "id": "da628faa",
   "metadata": {},
   "outputs": [
    {
     "name": "stdout",
     "output_type": "stream",
     "text": [
      "ser1 \n",
      " CA     1\n",
      "OR     2\n",
      "CO     3\n",
      "AZ     4\n",
      "NV    10\n",
      "dtype: int64\n",
      "********************\n",
      "ser2 \n",
      " CA     1\n",
      "OR     2\n",
      "NV     5\n",
      "PA     4\n",
      "CO    30\n",
      "dtype: int64\n"
     ]
    }
   ],
   "source": [
    "print('ser1 \\n',ser1)\n",
    "print('*'*20)\n",
    "print('ser2 \\n',ser2)"
   ]
  },
  {
   "cell_type": "code",
   "execution_count": 8,
   "id": "93902875",
   "metadata": {},
   "outputs": [
    {
     "name": "stdout",
     "output_type": "stream",
     "text": [
      "AZ     NaN\n",
      "CA     2.0\n",
      "CO    33.0\n",
      "NV    15.0\n",
      "OR     4.0\n",
      "PA     NaN\n",
      "dtype: float64\n"
     ]
    }
   ],
   "source": [
    "# to add both of the series\n",
    "ser3=ser1+ser2\n",
    "print(ser3)   # it will add only those vales wihich is present in both the series and give nan values which one are unique"
   ]
  },
  {
   "cell_type": "code",
   "execution_count": null,
   "id": "881a77ba",
   "metadata": {},
   "outputs": [],
   "source": []
  }
 ],
 "metadata": {
  "kernelspec": {
   "display_name": "Python 3 (ipykernel)",
   "language": "python",
   "name": "python3"
  },
  "language_info": {
   "codemirror_mode": {
    "name": "ipython",
    "version": 3
   },
   "file_extension": ".py",
   "mimetype": "text/x-python",
   "name": "python",
   "nbconvert_exporter": "python",
   "pygments_lexer": "ipython3",
   "version": "3.9.12"
  }
 },
 "nbformat": 4,
 "nbformat_minor": 5
}
