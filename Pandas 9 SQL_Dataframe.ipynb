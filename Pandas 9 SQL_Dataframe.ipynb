{
 "cells": [
  {
   "cell_type": "markdown",
   "id": "c691f7ba",
   "metadata": {},
   "source": [
    "# SQL_DATAFRAME"
   ]
  },
  {
   "cell_type": "code",
   "execution_count": 7,
   "id": "9c9383a2",
   "metadata": {},
   "outputs": [],
   "source": [
    "import sqlite3\n",
    "db=sqlite3.connect(\"my-testbase.db\")\n",
    "cursor=db.cursor()"
   ]
  },
  {
   "cell_type": "code",
   "execution_count": 10,
   "id": "7186c2b1",
   "metadata": {},
   "outputs": [
    {
     "data": {
      "text/plain": [
       "<sqlite3.Cursor at 0x249249527a0>"
      ]
     },
     "execution_count": 10,
     "metadata": {},
     "output_type": "execute_result"
    }
   ],
   "source": [
    "sql='Drop Table stud_det'\n",
    "cursor.execute(sql)"
   ]
  },
  {
   "cell_type": "code",
   "execution_count": 11,
   "id": "39d1030c",
   "metadata": {},
   "outputs": [
    {
     "name": "stdout",
     "output_type": "stream",
     "text": [
      "20 Records Inserted\n",
      "(9988776604, 'Salah', '03-10-2020', 85)\n",
      "(9988776605, 'Heung-Son', '21-06-2020', 39)\n",
      "(9988776606, 'Ronaldo', '08-05-2020', 86)\n",
      "(9988776607, 'Kane', '11-05-2022', 57)\n",
      "(9988776608, 'Mane', '17-05-2022', 52)\n",
      "(6609998877, 'Vardy', '17-12-2020', 54)\n",
      "(6609998878, 'Jota', '06-11-2021', 45)\n",
      "(6609998879, 'Bruyne', '26-11-2020', 49)\n",
      "(6609998880, 'Zaha', '05-12-2020', 88)\n",
      "(6609998881, 'Sterling', '29-10-2020', 61)\n",
      "(9988776614, 'Toney', '31-03-2022', 71)\n",
      "(9988776615, 'Maddison', '10-03-2020', 44)\n",
      "(1687799866, 'Bowen', '14-02-2021', 96)\n",
      "(1687799867, 'Saka', '19-12-2022', 92)\n",
      "(1687799868, 'Watkins', '30-01-2021', 49)\n",
      "(1687799869, 'Mount', '16-09-2022', 48)\n",
      "(1687799870, 'Raphael', '15-05-2021', 50)\n",
      "(1687799871, 'Mahrez', '30-10-2021', 72)\n",
      "(9988776622, 'Pukki', '19-02-2021', 93)\n",
      "(9988776623, 'Fernandes', '01-03-2022', 94)\n"
     ]
    }
   ],
   "source": [
    "cursor.execute(\"CREATE TABLE stud_det(phone_number INT PRIMARY KEY, student_name TEXT, enrolled_date TEXT, marks INT)\")\n",
    "\n",
    "#insert records into the table\n",
    "with open('Students_details.csv','r') as file:\n",
    "    no_records=0\n",
    "    for row in file:\n",
    "        cursor.execute(\"INSERT INTO stud_det VALUES(?,?,?,?)\", row.split(\",\"))\n",
    "        db.commit()\n",
    "        no_records+=1\n",
    "print(no_records,'Records Inserted')\n",
    "\n",
    "results=cursor.execute(\"SELECT * FROM stud_det\")\n",
    "for row in results:\n",
    "    print(row)"
   ]
  },
  {
   "cell_type": "code",
   "execution_count": 12,
   "id": "fbceed76",
   "metadata": {},
   "outputs": [],
   "source": [
    "import pandas as pd"
   ]
  },
  {
   "cell_type": "code",
   "execution_count": 14,
   "id": "d0ff84d2",
   "metadata": {},
   "outputs": [
    {
     "name": "stdout",
     "output_type": "stream",
     "text": [
      "             0          1           2   3\n",
      "0   9988776604      Salah  03-10-2020  85\n",
      "1   9988776605  Heung-Son  21-06-2020  39\n",
      "2   9988776606    Ronaldo  08-05-2020  86\n",
      "3   9988776607       Kane  11-05-2022  57\n",
      "4   9988776608       Mane  17-05-2022  52\n",
      "5   6609998877      Vardy  17-12-2020  54\n",
      "6   6609998878       Jota  06-11-2021  45\n",
      "7   6609998879     Bruyne  26-11-2020  49\n",
      "8   6609998880       Zaha  05-12-2020  88\n",
      "9   6609998881   Sterling  29-10-2020  61\n",
      "10  9988776614      Toney  31-03-2022  71\n",
      "11  9988776615   Maddison  10-03-2020  44\n",
      "12  1687799866      Bowen  14-02-2021  96\n",
      "13  1687799867       Saka  19-12-2022  92\n",
      "14  1687799868    Watkins  30-01-2021  49\n",
      "15  1687799869      Mount  16-09-2022  48\n",
      "16  1687799870    Raphael  15-05-2021  50\n",
      "17  1687799871     Mahrez  30-10-2021  72\n",
      "18  9988776622      Pukki  19-02-2021  93\n",
      "19  9988776623  Fernandes  01-03-2022  94\n"
     ]
    }
   ],
   "source": [
    "cursor.execute(\"SELECT * FROM stud_det\")\n",
    "df=pd.DataFrame(cursor.fetchall())\n",
    "print(df)    # converting sql into dataframe"
   ]
  },
  {
   "cell_type": "code",
   "execution_count": 15,
   "id": "de2564e3",
   "metadata": {},
   "outputs": [
    {
     "data": {
      "text/plain": [
       "(('phone_number', None, None, None, None, None, None),\n",
       " ('student_name', None, None, None, None, None, None),\n",
       " ('enrolled_date', None, None, None, None, None, None),\n",
       " ('marks', None, None, None, None, None, None))"
      ]
     },
     "execution_count": 15,
     "metadata": {},
     "output_type": "execute_result"
    }
   ],
   "source": [
    "cursor.description   # to fetch column names"
   ]
  },
  {
   "cell_type": "code",
   "execution_count": 16,
   "id": "e1bd1918",
   "metadata": {},
   "outputs": [
    {
     "data": {
      "text/plain": [
       "[0, 1, 2, 3]"
      ]
     },
     "execution_count": 16,
     "metadata": {},
     "output_type": "execute_result"
    }
   ],
   "source": [
    "list(df.columns)"
   ]
  },
  {
   "cell_type": "code",
   "execution_count": 17,
   "id": "ed9905f1",
   "metadata": {},
   "outputs": [
    {
     "data": {
      "text/html": [
       "<div>\n",
       "<style scoped>\n",
       "    .dataframe tbody tr th:only-of-type {\n",
       "        vertical-align: middle;\n",
       "    }\n",
       "\n",
       "    .dataframe tbody tr th {\n",
       "        vertical-align: top;\n",
       "    }\n",
       "\n",
       "    .dataframe thead th {\n",
       "        text-align: right;\n",
       "    }\n",
       "</style>\n",
       "<table border=\"1\" class=\"dataframe\">\n",
       "  <thead>\n",
       "    <tr style=\"text-align: right;\">\n",
       "      <th></th>\n",
       "      <th>phone_number</th>\n",
       "      <th>student_name</th>\n",
       "      <th>enrolled_date</th>\n",
       "      <th>marks</th>\n",
       "    </tr>\n",
       "  </thead>\n",
       "  <tbody>\n",
       "    <tr>\n",
       "      <th>0</th>\n",
       "      <td>9988776604</td>\n",
       "      <td>Salah</td>\n",
       "      <td>03-10-2020</td>\n",
       "      <td>85</td>\n",
       "    </tr>\n",
       "    <tr>\n",
       "      <th>1</th>\n",
       "      <td>9988776605</td>\n",
       "      <td>Heung-Son</td>\n",
       "      <td>21-06-2020</td>\n",
       "      <td>39</td>\n",
       "    </tr>\n",
       "    <tr>\n",
       "      <th>2</th>\n",
       "      <td>9988776606</td>\n",
       "      <td>Ronaldo</td>\n",
       "      <td>08-05-2020</td>\n",
       "      <td>86</td>\n",
       "    </tr>\n",
       "    <tr>\n",
       "      <th>3</th>\n",
       "      <td>9988776607</td>\n",
       "      <td>Kane</td>\n",
       "      <td>11-05-2022</td>\n",
       "      <td>57</td>\n",
       "    </tr>\n",
       "    <tr>\n",
       "      <th>4</th>\n",
       "      <td>9988776608</td>\n",
       "      <td>Mane</td>\n",
       "      <td>17-05-2022</td>\n",
       "      <td>52</td>\n",
       "    </tr>\n",
       "    <tr>\n",
       "      <th>5</th>\n",
       "      <td>6609998877</td>\n",
       "      <td>Vardy</td>\n",
       "      <td>17-12-2020</td>\n",
       "      <td>54</td>\n",
       "    </tr>\n",
       "    <tr>\n",
       "      <th>6</th>\n",
       "      <td>6609998878</td>\n",
       "      <td>Jota</td>\n",
       "      <td>06-11-2021</td>\n",
       "      <td>45</td>\n",
       "    </tr>\n",
       "    <tr>\n",
       "      <th>7</th>\n",
       "      <td>6609998879</td>\n",
       "      <td>Bruyne</td>\n",
       "      <td>26-11-2020</td>\n",
       "      <td>49</td>\n",
       "    </tr>\n",
       "    <tr>\n",
       "      <th>8</th>\n",
       "      <td>6609998880</td>\n",
       "      <td>Zaha</td>\n",
       "      <td>05-12-2020</td>\n",
       "      <td>88</td>\n",
       "    </tr>\n",
       "    <tr>\n",
       "      <th>9</th>\n",
       "      <td>6609998881</td>\n",
       "      <td>Sterling</td>\n",
       "      <td>29-10-2020</td>\n",
       "      <td>61</td>\n",
       "    </tr>\n",
       "    <tr>\n",
       "      <th>10</th>\n",
       "      <td>9988776614</td>\n",
       "      <td>Toney</td>\n",
       "      <td>31-03-2022</td>\n",
       "      <td>71</td>\n",
       "    </tr>\n",
       "    <tr>\n",
       "      <th>11</th>\n",
       "      <td>9988776615</td>\n",
       "      <td>Maddison</td>\n",
       "      <td>10-03-2020</td>\n",
       "      <td>44</td>\n",
       "    </tr>\n",
       "    <tr>\n",
       "      <th>12</th>\n",
       "      <td>1687799866</td>\n",
       "      <td>Bowen</td>\n",
       "      <td>14-02-2021</td>\n",
       "      <td>96</td>\n",
       "    </tr>\n",
       "    <tr>\n",
       "      <th>13</th>\n",
       "      <td>1687799867</td>\n",
       "      <td>Saka</td>\n",
       "      <td>19-12-2022</td>\n",
       "      <td>92</td>\n",
       "    </tr>\n",
       "    <tr>\n",
       "      <th>14</th>\n",
       "      <td>1687799868</td>\n",
       "      <td>Watkins</td>\n",
       "      <td>30-01-2021</td>\n",
       "      <td>49</td>\n",
       "    </tr>\n",
       "    <tr>\n",
       "      <th>15</th>\n",
       "      <td>1687799869</td>\n",
       "      <td>Mount</td>\n",
       "      <td>16-09-2022</td>\n",
       "      <td>48</td>\n",
       "    </tr>\n",
       "    <tr>\n",
       "      <th>16</th>\n",
       "      <td>1687799870</td>\n",
       "      <td>Raphael</td>\n",
       "      <td>15-05-2021</td>\n",
       "      <td>50</td>\n",
       "    </tr>\n",
       "    <tr>\n",
       "      <th>17</th>\n",
       "      <td>1687799871</td>\n",
       "      <td>Mahrez</td>\n",
       "      <td>30-10-2021</td>\n",
       "      <td>72</td>\n",
       "    </tr>\n",
       "    <tr>\n",
       "      <th>18</th>\n",
       "      <td>9988776622</td>\n",
       "      <td>Pukki</td>\n",
       "      <td>19-02-2021</td>\n",
       "      <td>93</td>\n",
       "    </tr>\n",
       "    <tr>\n",
       "      <th>19</th>\n",
       "      <td>9988776623</td>\n",
       "      <td>Fernandes</td>\n",
       "      <td>01-03-2022</td>\n",
       "      <td>94</td>\n",
       "    </tr>\n",
       "  </tbody>\n",
       "</table>\n",
       "</div>"
      ],
      "text/plain": [
       "    phone_number student_name enrolled_date  marks\n",
       "0     9988776604        Salah    03-10-2020     85\n",
       "1     9988776605    Heung-Son    21-06-2020     39\n",
       "2     9988776606      Ronaldo    08-05-2020     86\n",
       "3     9988776607         Kane    11-05-2022     57\n",
       "4     9988776608         Mane    17-05-2022     52\n",
       "5     6609998877        Vardy    17-12-2020     54\n",
       "6     6609998878         Jota    06-11-2021     45\n",
       "7     6609998879       Bruyne    26-11-2020     49\n",
       "8     6609998880         Zaha    05-12-2020     88\n",
       "9     6609998881     Sterling    29-10-2020     61\n",
       "10    9988776614        Toney    31-03-2022     71\n",
       "11    9988776615     Maddison    10-03-2020     44\n",
       "12    1687799866        Bowen    14-02-2021     96\n",
       "13    1687799867         Saka    19-12-2022     92\n",
       "14    1687799868      Watkins    30-01-2021     49\n",
       "15    1687799869        Mount    16-09-2022     48\n",
       "16    1687799870      Raphael    15-05-2021     50\n",
       "17    1687799871       Mahrez    30-10-2021     72\n",
       "18    9988776622        Pukki    19-02-2021     93\n",
       "19    9988776623    Fernandes    01-03-2022     94"
      ]
     },
     "execution_count": 17,
     "metadata": {},
     "output_type": "execute_result"
    }
   ],
   "source": [
    "df.columns=[x[0] for x in cursor.description]\n",
    "df    # table will be printed as in proper assigned columns names"
   ]
  },
  {
   "cell_type": "code",
   "execution_count": null,
   "id": "531fd0ab",
   "metadata": {},
   "outputs": [],
   "source": []
  }
 ],
 "metadata": {
  "kernelspec": {
   "display_name": "Python 3 (ipykernel)",
   "language": "python",
   "name": "python3"
  },
  "language_info": {
   "codemirror_mode": {
    "name": "ipython",
    "version": 3
   },
   "file_extension": ".py",
   "mimetype": "text/x-python",
   "name": "python",
   "nbconvert_exporter": "python",
   "pygments_lexer": "ipython3",
   "version": "3.9.12"
  }
 },
 "nbformat": 4,
 "nbformat_minor": 5
}
