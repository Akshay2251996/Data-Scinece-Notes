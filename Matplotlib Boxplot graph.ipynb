{
 "cells": [
  {
   "cell_type": "markdown",
   "id": "366d4325",
   "metadata": {},
   "source": [
    "# Matplotlib Boxplot graph"
   ]
  },
  {
   "cell_type": "code",
   "execution_count": 1,
   "id": "e41e959e",
   "metadata": {},
   "outputs": [],
   "source": [
    "import numpy as np\n",
    "import pandas as pd\n",
    "import seaborn as sns\n",
    "import matplotlib.pyplot as plt\n",
    "%matplotlib inline"
   ]
  },
  {
   "cell_type": "code",
   "execution_count": 3,
   "id": "30ac3d2e",
   "metadata": {},
   "outputs": [
    {
     "data": {
      "text/html": [
       "<div>\n",
       "<style scoped>\n",
       "    .dataframe tbody tr th:only-of-type {\n",
       "        vertical-align: middle;\n",
       "    }\n",
       "\n",
       "    .dataframe tbody tr th {\n",
       "        vertical-align: top;\n",
       "    }\n",
       "\n",
       "    .dataframe thead th {\n",
       "        text-align: right;\n",
       "    }\n",
       "</style>\n",
       "<table border=\"1\" class=\"dataframe\">\n",
       "  <thead>\n",
       "    <tr style=\"text-align: right;\">\n",
       "      <th></th>\n",
       "      <th>Age_year</th>\n",
       "      <th>salary_thousands</th>\n",
       "    </tr>\n",
       "  </thead>\n",
       "  <tbody>\n",
       "    <tr>\n",
       "      <th>0</th>\n",
       "      <td>10</td>\n",
       "      <td>15</td>\n",
       "    </tr>\n",
       "    <tr>\n",
       "      <th>1</th>\n",
       "      <td>23</td>\n",
       "      <td>22</td>\n",
       "    </tr>\n",
       "    <tr>\n",
       "      <th>2</th>\n",
       "      <td>22</td>\n",
       "      <td>24</td>\n",
       "    </tr>\n",
       "    <tr>\n",
       "      <th>3</th>\n",
       "      <td>25</td>\n",
       "      <td>25</td>\n",
       "    </tr>\n",
       "    <tr>\n",
       "      <th>4</th>\n",
       "      <td>20</td>\n",
       "      <td>30</td>\n",
       "    </tr>\n",
       "    <tr>\n",
       "      <th>5</th>\n",
       "      <td>23</td>\n",
       "      <td>23</td>\n",
       "    </tr>\n",
       "    <tr>\n",
       "      <th>6</th>\n",
       "      <td>24</td>\n",
       "      <td>34</td>\n",
       "    </tr>\n",
       "    <tr>\n",
       "      <th>7</th>\n",
       "      <td>27</td>\n",
       "      <td>43</td>\n",
       "    </tr>\n",
       "    <tr>\n",
       "      <th>8</th>\n",
       "      <td>25</td>\n",
       "      <td>19</td>\n",
       "    </tr>\n",
       "    <tr>\n",
       "      <th>9</th>\n",
       "      <td>24</td>\n",
       "      <td>20</td>\n",
       "    </tr>\n",
       "    <tr>\n",
       "      <th>10</th>\n",
       "      <td>33</td>\n",
       "      <td>52</td>\n",
       "    </tr>\n",
       "    <tr>\n",
       "      <th>11</th>\n",
       "      <td>25</td>\n",
       "      <td>21</td>\n",
       "    </tr>\n",
       "  </tbody>\n",
       "</table>\n",
       "</div>"
      ],
      "text/plain": [
       "    Age_year  salary_thousands\n",
       "0         10                15\n",
       "1         23                22\n",
       "2         22                24\n",
       "3         25                25\n",
       "4         20                30\n",
       "5         23                23\n",
       "6         24                34\n",
       "7         27                43\n",
       "8         25                19\n",
       "9         24                20\n",
       "10        33                52\n",
       "11        25                21"
      ]
     },
     "execution_count": 3,
     "metadata": {},
     "output_type": "execute_result"
    }
   ],
   "source": [
    "emp={'Age_year':[10,23,22,25,20,23,24,27,25,24,33,25],'salary_thousands':[15,22,24,25,30,23,34,43,19,20,52,21]}\n",
    "df=pd.DataFrame(emp)\n",
    "df"
   ]
  },
  {
   "cell_type": "code",
   "execution_count": 5,
   "id": "3a88b95e",
   "metadata": {},
   "outputs": [
    {
     "data": {
      "image/png": "[encoded data removed]",
      "text/plain": [
       "<Figure size 360x432 with 1 Axes>"
      ]
     },
     "metadata": {
      "needs_background": "light"
     },
     "output_type": "display_data"
    }
   ],
   "source": [
    "# For boxplot\n",
    "plt.figure(figsize=(5,6))\n",
    "ax=sns.boxplot(data=df)\n",
    "plt.yticks(range(5,60,5))         # yticks for data on y axis\n",
    "plt.xlabel('Age' and 'Salary')    # xlable for x axis\n",
    "plt.show()"
   ]
  },
  {
   "cell_type": "markdown",
   "id": "82670ed6",
   "metadata": {},
   "source": [
    "Seaborn version will keep changing. If code doesn't work please refer special documentation\n",
    "         (http://seaborn.pydata.org/)"
   ]
  },
  {
   "cell_type": "code",
   "execution_count": 6,
   "id": "89c36972",
   "metadata": {},
   "outputs": [
    {
     "data": {
      "text/plain": [
       "<AxesSubplot:>"
      ]
     },
     "execution_count": 6,
     "metadata": {},
     "output_type": "execute_result"
    },
    {
     "data": {
      "image/png": "[encoded data removed]",
      "text/plain": [
       "<Figure size 576x360 with 1 Axes>"
      ]
     },
     "metadata": {
      "needs_background": "light"
     },
     "output_type": "display_data"
    }
   ],
   "source": [
    "# Another way for box plot\n",
    "df.plot(kind='box',figsize=(8,5),color='red',yticks=range(0,55,5))"
   ]
  },
  {
   "cell_type": "code",
   "execution_count": 9,
   "id": "c050fb87",
   "metadata": {},
   "outputs": [
    {
     "data": {
      "text/plain": [
       "[15, 19, 20, 21, 22, 23, 24, 25, 30, 34, 43, 52]"
      ]
     },
     "execution_count": 9,
     "metadata": {},
     "output_type": "execute_result"
    }
   ],
   "source": [
    "sal=[15,22,24,25,30,23,34,43,19,20,52,21]\n",
    "sal.sort()\n",
    "sal"
   ]
  },
  {
   "cell_type": "markdown",
   "id": "23202de4",
   "metadata": {},
   "source": [
    "###### Note:\n",
    "n =   total number of elements(n)\n",
    "25% = (25/100)*(n+1) =3.25\n",
    "50% = (50/100)*(n+1) =6.5\n",
    "75% = (75/100)*(n+1) =9.75"
   ]
  },
  {
   "cell_type": "markdown",
   "id": "3d0748d4",
   "metadata": {},
   "source": [
    "##### Outlier detection formulae:\n",
    "higherside==>Q3+(1.5 * IQR)\n",
    "lowerside==>Q1+(11.5 * IQR)\n",
    "Where IQR=inter quantile range"
   ]
  },
  {
   "cell_type": "markdown",
   "id": "be20702f",
   "metadata": {},
   "source": [
    "# Outlier"
   ]
  },
  {
   "cell_type": "code",
   "execution_count": 12,
   "id": "7d1f7a09",
   "metadata": {},
   "outputs": [
    {
     "data": {
      "text/plain": [
       "0     15\n",
       "1     19\n",
       "2     20\n",
       "3     21\n",
       "4     22\n",
       "5     23\n",
       "6     24\n",
       "7     25\n",
       "8     30\n",
       "9     34\n",
       "10    43\n",
       "11    52\n",
       "dtype: int64"
      ]
     },
     "execution_count": 12,
     "metadata": {},
     "output_type": "execute_result"
    }
   ],
   "source": [
    "import pandas as pd\n",
    "ser=pd.Series(sal)\n",
    "ser"
   ]
  },
  {
   "cell_type": "code",
   "execution_count": 13,
   "id": "f51e0518",
   "metadata": {},
   "outputs": [
    {
     "name": "stdout",
     "output_type": "stream",
     "text": [
      "Q1 20.75\n",
      "Q3 31.0\n",
      "IQR 10.25\n"
     ]
    }
   ],
   "source": [
    "# For Quantile (1st quantile)\n",
    "q1=ser.quantile(0.25)\n",
    "print('Q1',q1)\n",
    "\n",
    "#3rd quantile\n",
    "q3=ser.quantile(0.75)\n",
    "print('Q3',q3)\n",
    " \n",
    "# For IQR\n",
    "iqr=q3-q1\n",
    "print('IQR',iqr)"
   ]
  },
  {
   "cell_type": "code",
   "execution_count": 15,
   "id": "efc0145a",
   "metadata": {},
   "outputs": [
    {
     "data": {
      "text/plain": [
       "46.375"
      ]
     },
     "execution_count": 15,
     "metadata": {},
     "output_type": "execute_result"
    }
   ],
   "source": [
    "upside=q3+(1.5*iqr)\n",
    "upside"
   ]
  },
  {
   "cell_type": "code",
   "execution_count": 16,
   "id": "896aba81",
   "metadata": {},
   "outputs": [
    {
     "data": {
      "text/plain": [
       "5.375"
      ]
     },
     "execution_count": 16,
     "metadata": {},
     "output_type": "execute_result"
    }
   ],
   "source": [
    "lowerside=q1-(1.5*iqr)\n",
    "lowerside"
   ]
  },
  {
   "cell_type": "code",
   "execution_count": null,
   "id": "3717b826",
   "metadata": {},
   "outputs": [],
   "source": []
  }
 ],
 "metadata": {
  "kernelspec": {
   "display_name": "Python 3 (ipykernel)",
   "language": "python",
   "name": "python3"
  },
  "language_info": {
   "codemirror_mode": {
    "name": "ipython",
    "version": 3
   },
   "file_extension": ".py",
   "mimetype": "text/x-python",
   "name": "python",
   "nbconvert_exporter": "python",
   "pygments_lexer": "ipython3",
   "version": "3.9.12"
  }
 },
 "nbformat": 4,
 "nbformat_minor": 5
}
